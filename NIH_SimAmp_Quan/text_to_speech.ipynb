{
 "cells": [
  {
   "cell_type": "code",
   "execution_count": 6,
   "metadata": {},
   "outputs": [
    {
     "name": "stdout",
     "output_type": "stream",
     "text": [
      "cuda\n"
     ]
    }
   ],
   "source": [
    "''' generating ground truth speech\n",
    "Use speechbrain cond env\n",
    "'''\n",
    "import os\n",
    "import random\n",
    "import string\n",
    "import pandas as pd\n",
    "import glob\n",
    "from collections import defaultdict\n",
    "from tqdm import tqdm\n",
    "from IPython.display import Audio\n",
    "\n",
    "import torch\n",
    "import torchaudio\n",
    "import soundfile as sf\n",
    "from datasets import load_dataset\n",
    "\n",
    "from transformers import SpeechT5Processor, SpeechT5ForTextToSpeech, SpeechT5ForSpeechToSpeech, SpeechT5HifiGan \n",
    "from speechbrain.pretrained import EncoderClassifier\n",
    "from datasets import load_dataset\n",
    "device = 'cuda' if torch.cuda.is_available() else 'cpu'\n",
    "print(device)"
   ]
  },
  {
   "cell_type": "code",
   "execution_count": 7,
   "metadata": {},
   "outputs": [],
   "source": [
    "def simple_clean_text(text):\n",
    "    # lower case, remove punctuation\n",
    "    return text.translate(str.maketrans('', '', string.punctuation)).lower().strip()\n",
    "\n",
    "def get_gt():\n",
    "    # get ground truth from csv file\n",
    "    my_dict = defaultdict(dict)\n",
    "    df = pd.read_excel('Harvard_Sentences_Keywords_CASALab_homophones.xlsx')\n",
    "    for idx, row in df.iterrows():\n",
    "        list_id = int(row['LIST'])\n",
    "        text = simple_clean_text(row['SENTENCE']).split()\n",
    "        sent_id, *sent = simple_clean_text(row['SENTENCE']).split()\n",
    "        my_dict[list_id][int(sent_id)] = ' '.join(sent)\n",
    "    return my_dict"
   ]
  },
  {
   "cell_type": "code",
   "execution_count": 8,
   "metadata": {},
   "outputs": [],
   "source": [
    "def get_tts_models():\n",
    "    processor = SpeechT5Processor.from_pretrained(\"microsoft/speecht5_tts\")\n",
    "    model = SpeechT5ForTextToSpeech.from_pretrained(\"microsoft/speecht5_tts\")\n",
    "    vocoder = SpeechT5HifiGan.from_pretrained(\"microsoft/speecht5_hifigan\")\n",
    "    embeddings_dataset = load_dataset(\"Matthijs/cmu-arctic-xvectors\", split=\"validation\")\n",
    "    classifier = EncoderClassifier.from_hparams(source=\"speechbrain/spkrec-xvect-voxceleb\", savedir=\"pretrained_models/spkrec-xvect-voxceleb\", run_opts={\"device\":device})\n",
    "    return processor, model.to(device), vocoder.to(device), embeddings_dataset, classifier\n",
    "\n",
    "def get_vc_models():\n",
    "    processor = SpeechT5Processor.from_pretrained(\"microsoft/speecht5_vc\")\n",
    "    model = SpeechT5ForSpeechToSpeech.from_pretrained(\"microsoft/speecht5_vc\")\n",
    "    vocoder = SpeechT5HifiGan.from_pretrained(\"microsoft/speecht5_hifigan\")\n",
    "    classifier = EncoderClassifier.from_hparams(source=\"speechbrain/spkrec-xvect-voxceleb\", savedir=\"pretrained_models/spkrec-xvect-voxceleb\", run_opts={\"device\":device})\n",
    "    return processor, model.to(device), vocoder.to(device), classifier\n",
    "    \n",
    "def tts():\n",
    "    processor, model, vocoder, embeddings_dataset, classifier = get_tts_models()\n",
    "    gt_dict = get_gt()\n",
    "    for list_id, list_dict in tqdm(gt_dict.items()):\n",
    "        for sent_id, sent in list_dict.items():\n",
    "            try:\n",
    "                file_name = f'{list_id}_{sent_id}'\n",
    "                inputs = processor(text=sent, return_tensors=\"pt\")\n",
    "                inputs = {key: val.to(device) for key, val in inputs.items()}\n",
    "                # load xvector containing speaker's voice characteristics from a dataset\n",
    "                rand_speaker_id = random.randint(0, len(embeddings_dataset)-1)\n",
    "                speaker_embeddings = torch.tensor(embeddings_dataset[rand_speaker_id][\"xvector\"]).unsqueeze(0)\n",
    "                speech = model.generate_speech(inputs[\"input_ids\"], speaker_embeddings.to(device), vocoder=vocoder)\n",
    "                sf.write(f\"data/ground_truth/{file_name}.wav\", speech.cpu().numpy(), samplerate=16000)\n",
    "            except Exception as e:\n",
    "                print(e)\n",
    "                print(f'Cannot TTS for {file_name}: {sent}')\n",
    "\n",
    "def tts_speaker_voice():\n",
    "    filenames = glob.glob('data/no-noise_16k/*.wav')\n",
    "    save_dir = 'data/ground_truth_speaker_voice_16k'\n",
    "    if not os.path.exists(save_dir): os.mkdir(save_dir)\n",
    "    processor, model, vocoder, embeddings_dataset, classifier = get_tts_models()\n",
    "    gt_dict = get_gt()\n",
    "    for filename in tqdm(filenames):\n",
    "        basename = os.path.basename(filename).replace('.wav', '')\n",
    "        savename = os.path.join(save_dir, f'{basename}.wav')\n",
    "        try:\n",
    "            # GET SENTENCE\n",
    "            if \"70db\" in basename: # \"sim_oc11_habitual_nm_h15_10_ch1_70db\"\n",
    "                list_id = basename.split(\"_\")[4][1:]  # h15 -> 15\n",
    "                sent_id = basename.split(\"_\")[5]\n",
    "            else: # \"sim_NM_amp_babble_pd02_h17_1\"\n",
    "                list_id = basename.split(\"_\")[5][1:]  # h17 -> 17\n",
    "                sent_id = basename.split(\"_\")[6]\n",
    "            list_id, sent_id = int(list_id), int(sent_id)\n",
    "            sent = gt_dict[list_id][sent_id]\n",
    "            # GET VOICE EMBEDDINGS\n",
    "            signal, fs =torchaudio.load(filename)\n",
    "            assert fs == 16000, fs\n",
    "            speaker_embeddings = classifier.encode_batch(signal).squeeze(0)\n",
    "            # TTS\n",
    "            inputs = processor(text=sent, return_tensors=\"pt\")\n",
    "            inputs = {key: val.to(device) for key, val in inputs.items()}\n",
    "            speech = model.generate_speech(inputs[\"input_ids\"], speaker_embeddings.to(device), vocoder=vocoder)\n",
    "            sf.write(savename, speech.cpu().numpy(), samplerate=16000)\n",
    "        except Exception as e:\n",
    "            print(e)\n",
    "            print(f'Cannot TTS for {file_name}: {sent}')\n",
    "\n",
    "def vc_speaker_voice():\n",
    "    # https://huggingface.co/microsoft/speecht5_vc\n",
    "    filenames = glob.glob('data/no-noise_16k/*.wav')\n",
    "    save_dir = 'data/ground_truth_speaker_voice_16k_v2'\n",
    "    if not os.path.exists(save_dir): os.mkdir(save_dir)\n",
    "    processor, model, vocoder, classifier = get_vc_models()\n",
    "    for voicename in tqdm(filenames):\n",
    "        basename = os.path.basename(voicename).replace('.wav', '')\n",
    "        savename = os.path.join(save_dir, f'{basename}.wav')\n",
    "        try:\n",
    "            # GET IDs\n",
    "            if \"70db\" in basename: # \"sim_oc11_habitual_nm_h15_10_ch1_70db\"\n",
    "                list_id = basename.split(\"_\")[4][1:]  # h15 -> 15\n",
    "                sent_id = basename.split(\"_\")[5]\n",
    "            else: # \"sim_NM_amp_babble_pd02_h17_1\"\n",
    "                list_id = basename.split(\"_\")[5][1:]  # h17 -> 17\n",
    "                sent_id = basename.split(\"_\")[6]\n",
    "            list_id, sent_id = int(list_id), int(sent_id)\n",
    "            # GET FILE SIGNAL\n",
    "            filename = f'data/ground_truth/{list_id}_{sent_id}.wav'\n",
    "            signal, fs =torchaudio.load(filename)\n",
    "            assert fs == 16000, fs\n",
    "            inputs = processor(audio=signal, sampling_rate=fs, return_tensors=\"pt\")\n",
    "            inputs = {key: val.to(device) for key, val in inputs.items()}\n",
    "            # GET VOICE EMBEDDINGS\n",
    "            signal_voice, fs_voice =torchaudio.load(voicename)\n",
    "            assert fs_voice == 16000, fs_voice\n",
    "            speaker_embeddings = classifier.encode_batch(signal_voice).squeeze(0)\n",
    "            # VOICE CONVERSION\n",
    "            speech = model.generate_speech(inputs[\"input_values\"].squeeze(0), speaker_embeddings, vocoder=vocoder)\n",
    "            sf.write(savename, speech.cpu().numpy(), samplerate=16000)\n",
    "        except Exception as e:\n",
    "            print(e)\n",
    "            print(f'Cannot TTS for {file_name}: {sent}')"
   ]
  },
  {
   "cell_type": "code",
   "execution_count": 18,
   "metadata": {},
   "outputs": [
    {
     "name": "stderr",
     "output_type": "stream",
     "text": [
      "Found cached dataset cmu-arctic-xvectors (/home/hanqing/.cache/huggingface/datasets/Matthijs___cmu-arctic-xvectors/default/0.0.1/a62fea1f9415e240301ea0042ffad2a3aadf4d1caa7f9a8d9512d631723e781f)\n"
     ]
    }
   ],
   "source": [
    "processor, model, vocoder, embeddings_dataset, classifier = get_tts_models()"
   ]
  },
  {
   "cell_type": "code",
   "execution_count": 27,
   "metadata": {},
   "outputs": [
    {
     "name": "stderr",
     "output_type": "stream",
     "text": [
      "100%|█████████████████████████████████████████████████████████████████████████████████████████████████████████████████████████████████████████████████████████████████████| 380/380 [04:02<00:00,  1.57it/s]\n"
     ]
    }
   ],
   "source": [
    "with open('./loco_4_extracted_wavs/groundtruth_transcript.txt', 'r') as f:\n",
    "    lines = f.readlines()\n",
    "    gt = [l.strip().split(',') for l in lines]\n",
    "files = os.listdir('loco_4_extracted_wavs/noisy_speech_16k')\n",
    "files = set([f.replace('.wav', '') for f in files])\n",
    "gt_dict = {k: simple_clean_text(v) for (k, v) in gt if k in files}\n",
    "assert len(gt_dict)==len(files)\n",
    "des_dir = './loco_4_extracted_wavs/gt_speech_16k'\n",
    "for f_id, sent in tqdm(gt_dict.items()):\n",
    "    try:\n",
    "        inputs = processor(text=sent, return_tensors=\"pt\")\n",
    "        inputs = {key: val.to(device) for key, val in inputs.items()}\n",
    "        # load xvector containing speaker's voice characteristics from a dataset\n",
    "        rand_speaker_id = random.randint(0, len(embeddings_dataset)-1)\n",
    "        speaker_embeddings = torch.tensor(embeddings_dataset[rand_speaker_id][\"xvector\"]).unsqueeze(0)\n",
    "        speech = model.generate_speech(inputs[\"input_ids\"], speaker_embeddings.to(device), vocoder=vocoder)\n",
    "        sf.write(f\"{des_dir}/{f_id}.wav\", speech.cpu().numpy(), samplerate=16000)\n",
    "    except Exception as e:\n",
    "        print(e)\n",
    "        print(f'Cannot TTS for {f_id}: {sent}')"
   ]
  },
  {
   "cell_type": "code",
   "execution_count": 30,
   "metadata": {},
   "outputs": [],
   "source": [
    "processor, model, vocoder, classifier = get_vc_models()"
   ]
  },
  {
   "cell_type": "code",
   "execution_count": 41,
   "metadata": {},
   "outputs": [
    {
     "name": "stderr",
     "output_type": "stream",
     "text": [
      "\r",
      "  0%|                                                                                                                                                                               | 0/380 [00:00<?, ?it/s]"
     ]
    },
    {
     "name": "stdout",
     "output_type": "stream",
     "text": [
      "torch.Size([1, 1, 512])\n"
     ]
    },
    {
     "name": "stderr",
     "output_type": "stream",
     "text": [
      "\r",
      "  0%|▍                                                                                                                                                                      | 1/380 [00:00<02:50,  2.22it/s]"
     ]
    },
    {
     "name": "stdout",
     "output_type": "stream",
     "text": [
      "torch.Size([1, 1, 512])\n"
     ]
    },
    {
     "name": "stderr",
     "output_type": "stream",
     "text": [
      "\r",
      "  1%|▉                                                                                                                                                                      | 2/380 [00:01<04:13,  1.49it/s]"
     ]
    },
    {
     "name": "stdout",
     "output_type": "stream",
     "text": [
      "torch.Size([1, 1, 512])\n"
     ]
    },
    {
     "name": "stderr",
     "output_type": "stream",
     "text": [
      "\r",
      "  1%|█▎                                                                                                                                                                     | 3/380 [00:01<03:47,  1.66it/s]"
     ]
    },
    {
     "name": "stdout",
     "output_type": "stream",
     "text": [
      "torch.Size([1, 1, 512])\n"
     ]
    },
    {
     "name": "stderr",
     "output_type": "stream",
     "text": [
      "\r",
      "  1%|█▊                                                                                                                                                                     | 4/380 [00:02<03:11,  1.96it/s]"
     ]
    },
    {
     "name": "stdout",
     "output_type": "stream",
     "text": [
      "torch.Size([1, 1, 512])\n"
     ]
    },
    {
     "name": "stderr",
     "output_type": "stream",
     "text": [
      "\r",
      "  1%|██▏                                                                                                                                                                    | 5/380 [00:02<03:41,  1.70it/s]"
     ]
    },
    {
     "name": "stdout",
     "output_type": "stream",
     "text": [
      "torch.Size([1, 1, 512])\n"
     ]
    },
    {
     "name": "stderr",
     "output_type": "stream",
     "text": [
      "\r",
      "  2%|██▋                                                                                                                                                                    | 6/380 [00:03<04:26,  1.40it/s]"
     ]
    },
    {
     "name": "stdout",
     "output_type": "stream",
     "text": [
      "torch.Size([1, 1, 512])\n"
     ]
    },
    {
     "name": "stderr",
     "output_type": "stream",
     "text": [
      "\r",
      "  2%|███                                                                                                                                                                    | 7/380 [00:04<03:54,  1.59it/s]"
     ]
    },
    {
     "name": "stdout",
     "output_type": "stream",
     "text": [
      "torch.Size([1, 1, 512])\n"
     ]
    },
    {
     "name": "stderr",
     "output_type": "stream",
     "text": [
      "\r",
      "  2%|███▌                                                                                                                                                                   | 8/380 [00:04<03:08,  1.97it/s]"
     ]
    },
    {
     "name": "stdout",
     "output_type": "stream",
     "text": [
      "torch.Size([1, 1, 512])\n"
     ]
    },
    {
     "name": "stderr",
     "output_type": "stream",
     "text": [
      "\r",
      "  2%|███▉                                                                                                                                                                   | 9/380 [00:04<02:56,  2.10it/s]"
     ]
    },
    {
     "name": "stdout",
     "output_type": "stream",
     "text": [
      "torch.Size([1, 1, 512])\n"
     ]
    },
    {
     "name": "stderr",
     "output_type": "stream",
     "text": [
      "\r",
      "  3%|████▎                                                                                                                                                                 | 10/380 [00:05<02:47,  2.20it/s]"
     ]
    },
    {
     "name": "stdout",
     "output_type": "stream",
     "text": [
      "torch.Size([1, 1, 512])\n"
     ]
    },
    {
     "name": "stderr",
     "output_type": "stream",
     "text": [
      "\r",
      "  3%|████▊                                                                                                                                                                 | 11/380 [00:05<03:04,  2.00it/s]"
     ]
    },
    {
     "name": "stdout",
     "output_type": "stream",
     "text": [
      "torch.Size([1, 1, 512])\n"
     ]
    },
    {
     "name": "stderr",
     "output_type": "stream",
     "text": [
      "\r",
      "  3%|█████▏                                                                                                                                                                | 12/380 [00:06<02:46,  2.21it/s]"
     ]
    },
    {
     "name": "stdout",
     "output_type": "stream",
     "text": [
      "torch.Size([1, 1, 512])\n"
     ]
    },
    {
     "name": "stderr",
     "output_type": "stream",
     "text": [
      "\r",
      "  3%|█████▋                                                                                                                                                                | 13/380 [00:06<03:12,  1.91it/s]"
     ]
    },
    {
     "name": "stdout",
     "output_type": "stream",
     "text": [
      "torch.Size([1, 1, 512])\n"
     ]
    },
    {
     "name": "stderr",
     "output_type": "stream",
     "text": [
      "\r",
      "  4%|██████                                                                                                                                                                | 14/380 [00:07<03:22,  1.81it/s]"
     ]
    },
    {
     "name": "stdout",
     "output_type": "stream",
     "text": [
      "torch.Size([1, 1, 512])\n"
     ]
    },
    {
     "name": "stderr",
     "output_type": "stream",
     "text": [
      "\r",
      "  4%|██████▌                                                                                                                                                               | 15/380 [00:08<03:43,  1.63it/s]"
     ]
    },
    {
     "name": "stdout",
     "output_type": "stream",
     "text": [
      "torch.Size([1, 1, 512])\n"
     ]
    },
    {
     "name": "stderr",
     "output_type": "stream",
     "text": [
      "\r",
      "  4%|██████▉                                                                                                                                                               | 16/380 [00:08<03:26,  1.76it/s]"
     ]
    },
    {
     "name": "stdout",
     "output_type": "stream",
     "text": [
      "torch.Size([1, 1, 512])\n"
     ]
    },
    {
     "name": "stderr",
     "output_type": "stream",
     "text": [
      "\r",
      "  4%|███████▍                                                                                                                                                              | 17/380 [00:09<02:57,  2.04it/s]"
     ]
    },
    {
     "name": "stdout",
     "output_type": "stream",
     "text": [
      "torch.Size([1, 1, 512])\n"
     ]
    },
    {
     "name": "stderr",
     "output_type": "stream",
     "text": [
      "\r",
      "  5%|███████▊                                                                                                                                                              | 18/380 [00:09<03:13,  1.87it/s]"
     ]
    },
    {
     "name": "stdout",
     "output_type": "stream",
     "text": [
      "torch.Size([1, 1, 512])\n"
     ]
    },
    {
     "name": "stderr",
     "output_type": "stream",
     "text": [
      "\r",
      "  5%|████████▎                                                                                                                                                             | 19/380 [00:10<04:11,  1.44it/s]"
     ]
    },
    {
     "name": "stdout",
     "output_type": "stream",
     "text": [
      "torch.Size([1, 1, 512])\n"
     ]
    },
    {
     "name": "stderr",
     "output_type": "stream",
     "text": [
      "\r",
      "  5%|████████▋                                                                                                                                                             | 20/380 [00:11<03:38,  1.65it/s]"
     ]
    },
    {
     "name": "stdout",
     "output_type": "stream",
     "text": [
      "torch.Size([1, 1, 512])\n"
     ]
    },
    {
     "name": "stderr",
     "output_type": "stream",
     "text": [
      "\r",
      "  6%|█████████▏                                                                                                                                                            | 21/380 [00:11<03:48,  1.57it/s]"
     ]
    },
    {
     "name": "stdout",
     "output_type": "stream",
     "text": [
      "torch.Size([1, 1, 512])\n"
     ]
    },
    {
     "name": "stderr",
     "output_type": "stream",
     "text": [
      "\r",
      "  6%|█████████▌                                                                                                                                                            | 22/380 [00:12<04:02,  1.48it/s]"
     ]
    },
    {
     "name": "stdout",
     "output_type": "stream",
     "text": [
      "torch.Size([1, 1, 512])\n"
     ]
    },
    {
     "name": "stderr",
     "output_type": "stream",
     "text": [
      "\r",
      "  6%|██████████                                                                                                                                                            | 23/380 [00:13<03:57,  1.50it/s]"
     ]
    },
    {
     "name": "stdout",
     "output_type": "stream",
     "text": [
      "torch.Size([1, 1, 512])\n"
     ]
    },
    {
     "name": "stderr",
     "output_type": "stream",
     "text": [
      "\r",
      "  6%|██████████▍                                                                                                                                                           | 24/380 [00:13<03:48,  1.56it/s]"
     ]
    },
    {
     "name": "stdout",
     "output_type": "stream",
     "text": [
      "torch.Size([1, 1, 512])\n"
     ]
    },
    {
     "name": "stderr",
     "output_type": "stream",
     "text": [
      "\r",
      "  7%|██████████▉                                                                                                                                                           | 25/380 [00:14<03:50,  1.54it/s]"
     ]
    },
    {
     "name": "stdout",
     "output_type": "stream",
     "text": [
      "torch.Size([1, 1, 512])\n"
     ]
    },
    {
     "name": "stderr",
     "output_type": "stream",
     "text": [
      "\r",
      "  7%|███████████▎                                                                                                                                                          | 26/380 [00:15<03:46,  1.56it/s]"
     ]
    },
    {
     "name": "stdout",
     "output_type": "stream",
     "text": [
      "torch.Size([1, 1, 512])\n"
     ]
    },
    {
     "name": "stderr",
     "output_type": "stream",
     "text": [
      "\r",
      "  7%|███████████▊                                                                                                                                                          | 27/380 [00:15<03:27,  1.70it/s]"
     ]
    },
    {
     "name": "stdout",
     "output_type": "stream",
     "text": [
      "torch.Size([1, 1, 512])\n"
     ]
    },
    {
     "name": "stderr",
     "output_type": "stream",
     "text": [
      "\r",
      "  7%|████████████▏                                                                                                                                                         | 28/380 [00:16<03:06,  1.89it/s]"
     ]
    },
    {
     "name": "stdout",
     "output_type": "stream",
     "text": [
      "torch.Size([1, 1, 512])\n"
     ]
    },
    {
     "name": "stderr",
     "output_type": "stream",
     "text": [
      "\r",
      "  8%|████████████▋                                                                                                                                                         | 29/380 [00:16<02:51,  2.05it/s]"
     ]
    },
    {
     "name": "stdout",
     "output_type": "stream",
     "text": [
      "torch.Size([1, 1, 512])\n"
     ]
    },
    {
     "name": "stderr",
     "output_type": "stream",
     "text": [
      "\r",
      "  8%|█████████████                                                                                                                                                         | 30/380 [00:17<03:05,  1.88it/s]"
     ]
    },
    {
     "name": "stdout",
     "output_type": "stream",
     "text": [
      "torch.Size([1, 1, 512])\n"
     ]
    },
    {
     "name": "stderr",
     "output_type": "stream",
     "text": [
      "\r",
      "  8%|█████████████▌                                                                                                                                                        | 31/380 [00:17<03:08,  1.85it/s]"
     ]
    },
    {
     "name": "stdout",
     "output_type": "stream",
     "text": [
      "torch.Size([1, 1, 512])\n"
     ]
    },
    {
     "name": "stderr",
     "output_type": "stream",
     "text": [
      "\r",
      "  8%|█████████████▉                                                                                                                                                        | 32/380 [00:18<03:35,  1.62it/s]"
     ]
    },
    {
     "name": "stdout",
     "output_type": "stream",
     "text": [
      "torch.Size([1, 1, 512])\n"
     ]
    },
    {
     "name": "stderr",
     "output_type": "stream",
     "text": [
      "\r",
      "  9%|██████████████▍                                                                                                                                                       | 33/380 [00:19<03:43,  1.55it/s]"
     ]
    },
    {
     "name": "stdout",
     "output_type": "stream",
     "text": [
      "torch.Size([1, 1, 512])\n"
     ]
    },
    {
     "name": "stderr",
     "output_type": "stream",
     "text": [
      "\r",
      "  9%|██████████████▊                                                                                                                                                       | 34/380 [00:19<03:19,  1.73it/s]"
     ]
    },
    {
     "name": "stdout",
     "output_type": "stream",
     "text": [
      "torch.Size([1, 1, 512])\n"
     ]
    },
    {
     "name": "stderr",
     "output_type": "stream",
     "text": [
      "\r",
      "  9%|███████████████▎                                                                                                                                                      | 35/380 [00:20<03:09,  1.83it/s]"
     ]
    },
    {
     "name": "stdout",
     "output_type": "stream",
     "text": [
      "torch.Size([1, 1, 512])\n"
     ]
    },
    {
     "name": "stderr",
     "output_type": "stream",
     "text": [
      "\r",
      "  9%|███████████████▋                                                                                                                                                      | 36/380 [00:20<03:27,  1.65it/s]"
     ]
    },
    {
     "name": "stdout",
     "output_type": "stream",
     "text": [
      "torch.Size([1, 1, 512])\n"
     ]
    },
    {
     "name": "stderr",
     "output_type": "stream",
     "text": [
      "\r",
      " 10%|████████████████▏                                                                                                                                                     | 37/380 [00:21<03:25,  1.67it/s]"
     ]
    },
    {
     "name": "stdout",
     "output_type": "stream",
     "text": [
      "torch.Size([1, 1, 512])\n"
     ]
    },
    {
     "name": "stderr",
     "output_type": "stream",
     "text": [
      "\r",
      " 10%|████████████████▌                                                                                                                                                     | 38/380 [00:22<03:24,  1.67it/s]"
     ]
    },
    {
     "name": "stdout",
     "output_type": "stream",
     "text": [
      "torch.Size([1, 1, 512])\n"
     ]
    },
    {
     "name": "stderr",
     "output_type": "stream",
     "text": [
      "\r",
      " 10%|█████████████████                                                                                                                                                     | 39/380 [00:22<03:39,  1.55it/s]"
     ]
    },
    {
     "name": "stdout",
     "output_type": "stream",
     "text": [
      "torch.Size([1, 1, 512])\n"
     ]
    },
    {
     "name": "stderr",
     "output_type": "stream",
     "text": [
      "\r",
      " 11%|█████████████████▍                                                                                                                                                    | 40/380 [00:23<03:45,  1.50it/s]"
     ]
    },
    {
     "name": "stdout",
     "output_type": "stream",
     "text": [
      "torch.Size([1, 1, 512])\n"
     ]
    },
    {
     "name": "stderr",
     "output_type": "stream",
     "text": [
      "\r",
      " 11%|█████████████████▉                                                                                                                                                    | 41/380 [00:23<03:30,  1.61it/s]"
     ]
    },
    {
     "name": "stdout",
     "output_type": "stream",
     "text": [
      "torch.Size([1, 1, 512])\n"
     ]
    },
    {
     "name": "stderr",
     "output_type": "stream",
     "text": [
      "\r",
      " 11%|██████████████████▎                                                                                                                                                   | 42/380 [00:24<03:07,  1.80it/s]"
     ]
    },
    {
     "name": "stdout",
     "output_type": "stream",
     "text": [
      "torch.Size([1, 1, 512])\n"
     ]
    },
    {
     "name": "stderr",
     "output_type": "stream",
     "text": [
      "\r",
      " 11%|██████████████████▊                                                                                                                                                   | 43/380 [00:24<02:56,  1.91it/s]"
     ]
    },
    {
     "name": "stdout",
     "output_type": "stream",
     "text": [
      "torch.Size([1, 1, 512])\n"
     ]
    },
    {
     "name": "stderr",
     "output_type": "stream",
     "text": [
      "\r",
      " 12%|███████████████████▏                                                                                                                                                  | 44/380 [00:25<02:47,  2.01it/s]"
     ]
    },
    {
     "name": "stdout",
     "output_type": "stream",
     "text": [
      "torch.Size([1, 1, 512])\n"
     ]
    },
    {
     "name": "stderr",
     "output_type": "stream",
     "text": [
      "\r",
      " 12%|███████████████████▋                                                                                                                                                  | 45/380 [00:25<02:54,  1.92it/s]"
     ]
    },
    {
     "name": "stdout",
     "output_type": "stream",
     "text": [
      "torch.Size([1, 1, 512])\n"
     ]
    },
    {
     "name": "stderr",
     "output_type": "stream",
     "text": [
      "\r",
      " 12%|████████████████████                                                                                                                                                  | 46/380 [00:26<02:31,  2.20it/s]"
     ]
    },
    {
     "name": "stdout",
     "output_type": "stream",
     "text": [
      "torch.Size([1, 1, 512])\n"
     ]
    },
    {
     "name": "stderr",
     "output_type": "stream",
     "text": [
      "\r",
      " 12%|████████████████████▌                                                                                                                                                 | 47/380 [00:27<03:22,  1.65it/s]"
     ]
    },
    {
     "name": "stdout",
     "output_type": "stream",
     "text": [
      "torch.Size([1, 1, 512])\n"
     ]
    },
    {
     "name": "stderr",
     "output_type": "stream",
     "text": [
      "\r",
      " 13%|████████████████████▉                                                                                                                                                 | 48/380 [00:28<03:49,  1.45it/s]"
     ]
    },
    {
     "name": "stdout",
     "output_type": "stream",
     "text": [
      "torch.Size([1, 1, 512])\n"
     ]
    },
    {
     "name": "stderr",
     "output_type": "stream",
     "text": [
      "\r",
      " 13%|█████████████████████▍                                                                                                                                                | 49/380 [00:28<03:27,  1.59it/s]"
     ]
    },
    {
     "name": "stdout",
     "output_type": "stream",
     "text": [
      "torch.Size([1, 1, 512])\n"
     ]
    },
    {
     "name": "stderr",
     "output_type": "stream",
     "text": [
      "\r",
      " 13%|█████████████████████▊                                                                                                                                                | 50/380 [00:28<03:09,  1.74it/s]"
     ]
    },
    {
     "name": "stdout",
     "output_type": "stream",
     "text": [
      "torch.Size([1, 1, 512])\n"
     ]
    },
    {
     "name": "stderr",
     "output_type": "stream",
     "text": [
      "\r",
      " 13%|██████████████████████▎                                                                                                                                               | 51/380 [00:29<03:36,  1.52it/s]"
     ]
    },
    {
     "name": "stdout",
     "output_type": "stream",
     "text": [
      "torch.Size([1, 1, 512])\n"
     ]
    },
    {
     "name": "stderr",
     "output_type": "stream",
     "text": [
      "\r",
      " 14%|██████████████████████▋                                                                                                                                               | 52/380 [00:30<03:01,  1.80it/s]"
     ]
    },
    {
     "name": "stdout",
     "output_type": "stream",
     "text": [
      "torch.Size([1, 1, 512])\n"
     ]
    },
    {
     "name": "stderr",
     "output_type": "stream",
     "text": [
      "\r",
      " 14%|███████████████████████▏                                                                                                                                              | 53/380 [00:30<03:14,  1.69it/s]"
     ]
    },
    {
     "name": "stdout",
     "output_type": "stream",
     "text": [
      "torch.Size([1, 1, 512])\n"
     ]
    },
    {
     "name": "stderr",
     "output_type": "stream",
     "text": [
      "\r",
      " 14%|███████████████████████▌                                                                                                                                              | 54/380 [00:31<03:22,  1.61it/s]"
     ]
    },
    {
     "name": "stdout",
     "output_type": "stream",
     "text": [
      "torch.Size([1, 1, 512])\n"
     ]
    },
    {
     "name": "stderr",
     "output_type": "stream",
     "text": [
      "\r",
      " 14%|████████████████████████                                                                                                                                              | 55/380 [00:31<03:11,  1.70it/s]"
     ]
    },
    {
     "name": "stdout",
     "output_type": "stream",
     "text": [
      "torch.Size([1, 1, 512])\n"
     ]
    },
    {
     "name": "stderr",
     "output_type": "stream",
     "text": [
      "\r",
      " 15%|████████████████████████▍                                                                                                                                             | 56/380 [00:32<02:42,  2.00it/s]"
     ]
    },
    {
     "name": "stdout",
     "output_type": "stream",
     "text": [
      "torch.Size([1, 1, 512])\n"
     ]
    },
    {
     "name": "stderr",
     "output_type": "stream",
     "text": [
      "\r",
      " 15%|████████████████████████▉                                                                                                                                             | 57/380 [00:32<03:00,  1.79it/s]"
     ]
    },
    {
     "name": "stdout",
     "output_type": "stream",
     "text": [
      "torch.Size([1, 1, 512])\n"
     ]
    },
    {
     "name": "stderr",
     "output_type": "stream",
     "text": [
      "\r",
      " 15%|█████████████████████████▎                                                                                                                                            | 58/380 [00:33<02:56,  1.83it/s]"
     ]
    },
    {
     "name": "stdout",
     "output_type": "stream",
     "text": [
      "torch.Size([1, 1, 512])\n"
     ]
    },
    {
     "name": "stderr",
     "output_type": "stream",
     "text": [
      "\r",
      " 16%|█████████████████████████▊                                                                                                                                            | 59/380 [00:33<02:40,  2.00it/s]"
     ]
    },
    {
     "name": "stdout",
     "output_type": "stream",
     "text": [
      "torch.Size([1, 1, 512])\n"
     ]
    },
    {
     "name": "stderr",
     "output_type": "stream",
     "text": [
      "\r",
      " 16%|██████████████████████████▏                                                                                                                                           | 60/380 [00:34<02:41,  1.98it/s]"
     ]
    },
    {
     "name": "stdout",
     "output_type": "stream",
     "text": [
      "torch.Size([1, 1, 512])\n"
     ]
    },
    {
     "name": "stderr",
     "output_type": "stream",
     "text": [
      "\r",
      " 16%|██████████████████████████▋                                                                                                                                           | 61/380 [00:34<02:17,  2.33it/s]"
     ]
    },
    {
     "name": "stdout",
     "output_type": "stream",
     "text": [
      "torch.Size([1, 1, 512])\n"
     ]
    },
    {
     "name": "stderr",
     "output_type": "stream",
     "text": [
      "\r",
      " 16%|███████████████████████████                                                                                                                                           | 62/380 [00:35<03:03,  1.74it/s]"
     ]
    },
    {
     "name": "stdout",
     "output_type": "stream",
     "text": [
      "torch.Size([1, 1, 512])\n"
     ]
    },
    {
     "name": "stderr",
     "output_type": "stream",
     "text": [
      "\r",
      " 17%|███████████████████████████▌                                                                                                                                          | 63/380 [00:36<03:33,  1.48it/s]"
     ]
    },
    {
     "name": "stdout",
     "output_type": "stream",
     "text": [
      "torch.Size([1, 1, 512])\n"
     ]
    },
    {
     "name": "stderr",
     "output_type": "stream",
     "text": [
      "\r",
      " 17%|███████████████████████████▉                                                                                                                                          | 64/380 [00:37<03:43,  1.41it/s]"
     ]
    },
    {
     "name": "stdout",
     "output_type": "stream",
     "text": [
      "torch.Size([1, 1, 512])\n"
     ]
    },
    {
     "name": "stderr",
     "output_type": "stream",
     "text": [
      "\r",
      " 17%|████████████████████████████▍                                                                                                                                         | 65/380 [00:37<03:06,  1.68it/s]"
     ]
    },
    {
     "name": "stdout",
     "output_type": "stream",
     "text": [
      "torch.Size([1, 1, 512])\n"
     ]
    },
    {
     "name": "stderr",
     "output_type": "stream",
     "text": [
      "\r",
      " 17%|████████████████████████████▊                                                                                                                                         | 66/380 [00:38<03:53,  1.35it/s]"
     ]
    },
    {
     "name": "stdout",
     "output_type": "stream",
     "text": [
      "torch.Size([1, 1, 512])\n"
     ]
    },
    {
     "name": "stderr",
     "output_type": "stream",
     "text": [
      "\r",
      " 18%|█████████████████████████████▎                                                                                                                                        | 67/380 [00:39<03:47,  1.38it/s]"
     ]
    },
    {
     "name": "stdout",
     "output_type": "stream",
     "text": [
      "torch.Size([1, 1, 512])\n"
     ]
    },
    {
     "name": "stderr",
     "output_type": "stream",
     "text": [
      "\r",
      " 18%|█████████████████████████████▋                                                                                                                                        | 68/380 [00:39<03:10,  1.64it/s]"
     ]
    },
    {
     "name": "stdout",
     "output_type": "stream",
     "text": [
      "torch.Size([1, 1, 512])\n"
     ]
    },
    {
     "name": "stderr",
     "output_type": "stream",
     "text": [
      "\r",
      " 18%|██████████████████████████████▏                                                                                                                                       | 69/380 [00:40<03:06,  1.67it/s]"
     ]
    },
    {
     "name": "stdout",
     "output_type": "stream",
     "text": [
      "torch.Size([1, 1, 512])\n"
     ]
    },
    {
     "name": "stderr",
     "output_type": "stream",
     "text": [
      "\r",
      " 18%|██████████████████████████████▌                                                                                                                                       | 70/380 [00:40<02:48,  1.84it/s]"
     ]
    },
    {
     "name": "stdout",
     "output_type": "stream",
     "text": [
      "torch.Size([1, 1, 512])\n"
     ]
    },
    {
     "name": "stderr",
     "output_type": "stream",
     "text": [
      "\r",
      " 19%|███████████████████████████████                                                                                                                                       | 71/380 [00:41<02:41,  1.91it/s]"
     ]
    },
    {
     "name": "stdout",
     "output_type": "stream",
     "text": [
      "torch.Size([1, 1, 512])\n"
     ]
    },
    {
     "name": "stderr",
     "output_type": "stream",
     "text": [
      "\r",
      " 19%|███████████████████████████████▍                                                                                                                                      | 72/380 [00:41<03:00,  1.71it/s]"
     ]
    },
    {
     "name": "stdout",
     "output_type": "stream",
     "text": [
      "torch.Size([1, 1, 512])\n"
     ]
    },
    {
     "name": "stderr",
     "output_type": "stream",
     "text": [
      "\r",
      " 19%|███████████████████████████████▉                                                                                                                                      | 73/380 [00:42<03:10,  1.61it/s]"
     ]
    },
    {
     "name": "stdout",
     "output_type": "stream",
     "text": [
      "torch.Size([1, 1, 512])\n"
     ]
    },
    {
     "name": "stderr",
     "output_type": "stream",
     "text": [
      "\r",
      " 19%|████████████████████████████████▎                                                                                                                                     | 74/380 [00:42<02:44,  1.86it/s]"
     ]
    },
    {
     "name": "stdout",
     "output_type": "stream",
     "text": [
      "torch.Size([1, 1, 512])\n"
     ]
    },
    {
     "name": "stderr",
     "output_type": "stream",
     "text": [
      "\r",
      " 20%|████████████████████████████████▊                                                                                                                                     | 75/380 [00:43<02:57,  1.72it/s]"
     ]
    },
    {
     "name": "stdout",
     "output_type": "stream",
     "text": [
      "torch.Size([1, 1, 512])\n"
     ]
    },
    {
     "name": "stderr",
     "output_type": "stream",
     "text": [
      "\r",
      " 20%|█████████████████████████████████▏                                                                                                                                    | 76/380 [00:44<02:50,  1.79it/s]"
     ]
    },
    {
     "name": "stdout",
     "output_type": "stream",
     "text": [
      "torch.Size([1, 1, 512])\n"
     ]
    },
    {
     "name": "stderr",
     "output_type": "stream",
     "text": [
      "\r",
      " 20%|█████████████████████████████████▋                                                                                                                                    | 77/380 [00:44<02:25,  2.08it/s]"
     ]
    },
    {
     "name": "stdout",
     "output_type": "stream",
     "text": [
      "torch.Size([1, 1, 512])\n"
     ]
    },
    {
     "name": "stderr",
     "output_type": "stream",
     "text": [
      "\r",
      " 21%|██████████████████████████████████                                                                                                                                    | 78/380 [00:44<02:21,  2.14it/s]"
     ]
    },
    {
     "name": "stdout",
     "output_type": "stream",
     "text": [
      "torch.Size([1, 1, 512])\n"
     ]
    },
    {
     "name": "stderr",
     "output_type": "stream",
     "text": [
      "\r",
      " 21%|██████████████████████████████████▌                                                                                                                                   | 79/380 [00:45<02:42,  1.85it/s]"
     ]
    },
    {
     "name": "stdout",
     "output_type": "stream",
     "text": [
      "torch.Size([1, 1, 512])\n"
     ]
    },
    {
     "name": "stderr",
     "output_type": "stream",
     "text": [
      "\r",
      " 21%|██████████████████████████████████▉                                                                                                                                   | 80/380 [00:46<02:49,  1.77it/s]"
     ]
    },
    {
     "name": "stdout",
     "output_type": "stream",
     "text": [
      "torch.Size([1, 1, 512])\n"
     ]
    },
    {
     "name": "stderr",
     "output_type": "stream",
     "text": [
      "\r",
      " 21%|███████████████████████████████████▍                                                                                                                                  | 81/380 [00:46<02:46,  1.80it/s]"
     ]
    },
    {
     "name": "stdout",
     "output_type": "stream",
     "text": [
      "torch.Size([1, 1, 512])\n"
     ]
    },
    {
     "name": "stderr",
     "output_type": "stream",
     "text": [
      "\r",
      " 22%|███████████████████████████████████▊                                                                                                                                  | 82/380 [00:47<02:55,  1.70it/s]"
     ]
    },
    {
     "name": "stdout",
     "output_type": "stream",
     "text": [
      "torch.Size([1, 1, 512])\n"
     ]
    },
    {
     "name": "stderr",
     "output_type": "stream",
     "text": [
      "\r",
      " 22%|████████████████████████████████████▎                                                                                                                                 | 83/380 [00:47<02:38,  1.88it/s]"
     ]
    },
    {
     "name": "stdout",
     "output_type": "stream",
     "text": [
      "torch.Size([1, 1, 512])\n"
     ]
    },
    {
     "name": "stderr",
     "output_type": "stream",
     "text": [
      "\r",
      " 22%|████████████████████████████████████▋                                                                                                                                 | 84/380 [00:48<02:43,  1.81it/s]"
     ]
    },
    {
     "name": "stdout",
     "output_type": "stream",
     "text": [
      "torch.Size([1, 1, 512])\n"
     ]
    },
    {
     "name": "stderr",
     "output_type": "stream",
     "text": [
      "\r",
      " 22%|█████████████████████████████████████▏                                                                                                                                | 85/380 [00:49<02:46,  1.77it/s]"
     ]
    },
    {
     "name": "stdout",
     "output_type": "stream",
     "text": [
      "torch.Size([1, 1, 512])\n"
     ]
    },
    {
     "name": "stderr",
     "output_type": "stream",
     "text": [
      "\r",
      " 23%|█████████████████████████████████████▌                                                                                                                                | 86/380 [00:49<02:52,  1.70it/s]"
     ]
    },
    {
     "name": "stdout",
     "output_type": "stream",
     "text": [
      "torch.Size([1, 1, 512])\n"
     ]
    },
    {
     "name": "stderr",
     "output_type": "stream",
     "text": [
      "\r",
      " 23%|██████████████████████████████████████                                                                                                                                | 87/380 [00:50<02:58,  1.64it/s]"
     ]
    },
    {
     "name": "stdout",
     "output_type": "stream",
     "text": [
      "torch.Size([1, 1, 512])\n"
     ]
    },
    {
     "name": "stderr",
     "output_type": "stream",
     "text": [
      "\r",
      " 23%|██████████████████████████████████████▍                                                                                                                               | 88/380 [00:50<02:34,  1.89it/s]"
     ]
    },
    {
     "name": "stdout",
     "output_type": "stream",
     "text": [
      "torch.Size([1, 1, 512])\n"
     ]
    },
    {
     "name": "stderr",
     "output_type": "stream",
     "text": [
      "\r",
      " 23%|██████████████████████████████████████▉                                                                                                                               | 89/380 [00:51<02:22,  2.04it/s]"
     ]
    },
    {
     "name": "stdout",
     "output_type": "stream",
     "text": [
      "torch.Size([1, 1, 512])\n"
     ]
    },
    {
     "name": "stderr",
     "output_type": "stream",
     "text": [
      "\r",
      " 24%|███████████████████████████████████████▎                                                                                                                              | 90/380 [00:51<02:16,  2.13it/s]"
     ]
    },
    {
     "name": "stdout",
     "output_type": "stream",
     "text": [
      "torch.Size([1, 1, 512])\n"
     ]
    },
    {
     "name": "stderr",
     "output_type": "stream",
     "text": [
      "\r",
      " 24%|███████████████████████████████████████▊                                                                                                                              | 91/380 [00:52<02:42,  1.78it/s]"
     ]
    },
    {
     "name": "stdout",
     "output_type": "stream",
     "text": [
      "torch.Size([1, 1, 512])\n"
     ]
    },
    {
     "name": "stderr",
     "output_type": "stream",
     "text": [
      "\r",
      " 24%|████████████████████████████████████████▏                                                                                                                             | 92/380 [00:52<02:34,  1.86it/s]"
     ]
    },
    {
     "name": "stdout",
     "output_type": "stream",
     "text": [
      "torch.Size([1, 1, 512])\n"
     ]
    },
    {
     "name": "stderr",
     "output_type": "stream",
     "text": [
      "\r",
      " 24%|████████████████████████████████████████▋                                                                                                                             | 93/380 [00:53<02:29,  1.92it/s]"
     ]
    },
    {
     "name": "stdout",
     "output_type": "stream",
     "text": [
      "torch.Size([1, 1, 512])\n"
     ]
    },
    {
     "name": "stderr",
     "output_type": "stream",
     "text": [
      "\r",
      " 25%|█████████████████████████████████████████                                                                                                                             | 94/380 [00:53<02:30,  1.90it/s]"
     ]
    },
    {
     "name": "stdout",
     "output_type": "stream",
     "text": [
      "torch.Size([1, 1, 512])\n"
     ]
    },
    {
     "name": "stderr",
     "output_type": "stream",
     "text": [
      "\r",
      " 25%|█████████████████████████████████████████▌                                                                                                                            | 95/380 [00:54<02:51,  1.67it/s]"
     ]
    },
    {
     "name": "stdout",
     "output_type": "stream",
     "text": [
      "torch.Size([1, 1, 512])\n"
     ]
    },
    {
     "name": "stderr",
     "output_type": "stream",
     "text": [
      "\r",
      " 25%|█████████████████████████████████████████▉                                                                                                                            | 96/380 [00:55<03:31,  1.34it/s]"
     ]
    },
    {
     "name": "stdout",
     "output_type": "stream",
     "text": [
      "torch.Size([1, 1, 512])\n"
     ]
    },
    {
     "name": "stderr",
     "output_type": "stream",
     "text": [
      "\r",
      " 26%|██████████████████████████████████████████▎                                                                                                                           | 97/380 [00:56<03:16,  1.44it/s]"
     ]
    },
    {
     "name": "stdout",
     "output_type": "stream",
     "text": [
      "torch.Size([1, 1, 512])\n"
     ]
    },
    {
     "name": "stderr",
     "output_type": "stream",
     "text": [
      "\r",
      " 26%|██████████████████████████████████████████▊                                                                                                                           | 98/380 [00:56<03:21,  1.40it/s]"
     ]
    },
    {
     "name": "stdout",
     "output_type": "stream",
     "text": [
      "torch.Size([1, 1, 512])\n"
     ]
    },
    {
     "name": "stderr",
     "output_type": "stream",
     "text": [
      "\r",
      " 26%|███████████████████████████████████████████▏                                                                                                                          | 99/380 [00:57<02:58,  1.57it/s]"
     ]
    },
    {
     "name": "stdout",
     "output_type": "stream",
     "text": [
      "torch.Size([1, 1, 512])\n"
     ]
    },
    {
     "name": "stderr",
     "output_type": "stream",
     "text": [
      "\r",
      " 26%|███████████████████████████████████████████▍                                                                                                                         | 100/380 [00:58<03:03,  1.52it/s]"
     ]
    },
    {
     "name": "stdout",
     "output_type": "stream",
     "text": [
      "torch.Size([1, 1, 512])\n"
     ]
    },
    {
     "name": "stderr",
     "output_type": "stream",
     "text": [
      "\r",
      " 27%|███████████████████████████████████████████▊                                                                                                                         | 101/380 [00:59<03:26,  1.35it/s]"
     ]
    },
    {
     "name": "stdout",
     "output_type": "stream",
     "text": [
      "torch.Size([1, 1, 512])\n"
     ]
    },
    {
     "name": "stderr",
     "output_type": "stream",
     "text": [
      "\r",
      " 27%|████████████████████████████████████████████▎                                                                                                                        | 102/380 [00:59<03:37,  1.28it/s]"
     ]
    },
    {
     "name": "stdout",
     "output_type": "stream",
     "text": [
      "torch.Size([1, 1, 512])\n"
     ]
    },
    {
     "name": "stderr",
     "output_type": "stream",
     "text": [
      "\r",
      " 27%|████████████████████████████████████████████▋                                                                                                                        | 103/380 [01:00<03:36,  1.28it/s]"
     ]
    },
    {
     "name": "stdout",
     "output_type": "stream",
     "text": [
      "torch.Size([1, 1, 512])\n"
     ]
    },
    {
     "name": "stderr",
     "output_type": "stream",
     "text": [
      "\r",
      " 27%|█████████████████████████████████████████████▏                                                                                                                       | 104/380 [01:01<03:26,  1.34it/s]"
     ]
    },
    {
     "name": "stdout",
     "output_type": "stream",
     "text": [
      "torch.Size([1, 1, 512])\n"
     ]
    },
    {
     "name": "stderr",
     "output_type": "stream",
     "text": [
      "\r",
      " 28%|█████████████████████████████████████████████▌                                                                                                                       | 105/380 [01:02<03:40,  1.25it/s]"
     ]
    },
    {
     "name": "stdout",
     "output_type": "stream",
     "text": [
      "torch.Size([1, 1, 512])\n"
     ]
    },
    {
     "name": "stderr",
     "output_type": "stream",
     "text": [
      "\r",
      " 28%|██████████████████████████████████████████████                                                                                                                       | 106/380 [01:02<03:05,  1.47it/s]"
     ]
    },
    {
     "name": "stdout",
     "output_type": "stream",
     "text": [
      "torch.Size([1, 1, 512])\n"
     ]
    },
    {
     "name": "stderr",
     "output_type": "stream",
     "text": [
      "\r",
      " 28%|██████████████████████████████████████████████▍                                                                                                                      | 107/380 [01:03<03:23,  1.34it/s]"
     ]
    },
    {
     "name": "stdout",
     "output_type": "stream",
     "text": [
      "torch.Size([1, 1, 512])\n"
     ]
    },
    {
     "name": "stderr",
     "output_type": "stream",
     "text": [
      "\r",
      " 28%|██████████████████████████████████████████████▉                                                                                                                      | 108/380 [01:04<02:59,  1.51it/s]"
     ]
    },
    {
     "name": "stdout",
     "output_type": "stream",
     "text": [
      "torch.Size([1, 1, 512])\n"
     ]
    },
    {
     "name": "stderr",
     "output_type": "stream",
     "text": [
      "\r",
      " 29%|███████████████████████████████████████████████▎                                                                                                                     | 109/380 [01:04<02:43,  1.66it/s]"
     ]
    },
    {
     "name": "stdout",
     "output_type": "stream",
     "text": [
      "torch.Size([1, 1, 512])\n"
     ]
    },
    {
     "name": "stderr",
     "output_type": "stream",
     "text": [
      "\r",
      " 29%|███████████████████████████████████████████████▊                                                                                                                     | 110/380 [01:05<02:38,  1.71it/s]"
     ]
    },
    {
     "name": "stdout",
     "output_type": "stream",
     "text": [
      "torch.Size([1, 1, 512])\n"
     ]
    },
    {
     "name": "stderr",
     "output_type": "stream",
     "text": [
      "\r",
      " 29%|████████████████████████████████████████████████▏                                                                                                                    | 111/380 [01:05<02:18,  1.94it/s]"
     ]
    },
    {
     "name": "stdout",
     "output_type": "stream",
     "text": [
      "torch.Size([1, 1, 512])\n"
     ]
    },
    {
     "name": "stderr",
     "output_type": "stream",
     "text": [
      "\r",
      " 29%|████████████████████████████████████████████████▋                                                                                                                    | 112/380 [01:05<02:13,  2.01it/s]"
     ]
    },
    {
     "name": "stdout",
     "output_type": "stream",
     "text": [
      "torch.Size([1, 1, 512])\n"
     ]
    },
    {
     "name": "stderr",
     "output_type": "stream",
     "text": [
      "\r",
      " 30%|█████████████████████████████████████████████████                                                                                                                    | 113/380 [01:06<02:15,  1.97it/s]"
     ]
    },
    {
     "name": "stdout",
     "output_type": "stream",
     "text": [
      "torch.Size([1, 1, 512])\n"
     ]
    },
    {
     "name": "stderr",
     "output_type": "stream",
     "text": [
      "\r",
      " 30%|█████████████████████████████████████████████████▌                                                                                                                   | 114/380 [01:06<01:57,  2.27it/s]"
     ]
    },
    {
     "name": "stdout",
     "output_type": "stream",
     "text": [
      "torch.Size([1, 1, 512])\n"
     ]
    },
    {
     "name": "stderr",
     "output_type": "stream",
     "text": [
      "\r",
      " 30%|█████████████████████████████████████████████████▉                                                                                                                   | 115/380 [01:07<02:13,  1.98it/s]"
     ]
    },
    {
     "name": "stdout",
     "output_type": "stream",
     "text": [
      "torch.Size([1, 1, 512])\n"
     ]
    },
    {
     "name": "stderr",
     "output_type": "stream",
     "text": [
      "\r",
      " 31%|██████████████████████████████████████████████████▎                                                                                                                  | 116/380 [01:08<02:30,  1.75it/s]"
     ]
    },
    {
     "name": "stdout",
     "output_type": "stream",
     "text": [
      "torch.Size([1, 1, 512])\n"
     ]
    },
    {
     "name": "stderr",
     "output_type": "stream",
     "text": [
      "\r",
      " 31%|██████████████████████████████████████████████████▊                                                                                                                  | 117/380 [01:08<02:28,  1.77it/s]"
     ]
    },
    {
     "name": "stdout",
     "output_type": "stream",
     "text": [
      "torch.Size([1, 1, 512])\n"
     ]
    },
    {
     "name": "stderr",
     "output_type": "stream",
     "text": [
      "\r",
      " 31%|███████████████████████████████████████████████████▏                                                                                                                 | 118/380 [01:09<02:21,  1.85it/s]"
     ]
    },
    {
     "name": "stdout",
     "output_type": "stream",
     "text": [
      "torch.Size([1, 1, 512])\n"
     ]
    },
    {
     "name": "stderr",
     "output_type": "stream",
     "text": [
      "\r",
      " 31%|███████████████████████████████████████████████████▋                                                                                                                 | 119/380 [01:09<02:40,  1.62it/s]"
     ]
    },
    {
     "name": "stdout",
     "output_type": "stream",
     "text": [
      "torch.Size([1, 1, 512])\n"
     ]
    },
    {
     "name": "stderr",
     "output_type": "stream",
     "text": [
      "\r",
      " 32%|████████████████████████████████████████████████████                                                                                                                 | 120/380 [01:10<02:21,  1.83it/s]"
     ]
    },
    {
     "name": "stdout",
     "output_type": "stream",
     "text": [
      "torch.Size([1, 1, 512])\n"
     ]
    },
    {
     "name": "stderr",
     "output_type": "stream",
     "text": [
      "\r",
      " 32%|████████████████████████████████████████████████████▌                                                                                                                | 121/380 [01:10<02:27,  1.76it/s]"
     ]
    },
    {
     "name": "stdout",
     "output_type": "stream",
     "text": [
      "torch.Size([1, 1, 512])\n"
     ]
    },
    {
     "name": "stderr",
     "output_type": "stream",
     "text": [
      "\r",
      " 32%|████████████████████████████████████████████████████▉                                                                                                                | 122/380 [01:11<02:46,  1.55it/s]"
     ]
    },
    {
     "name": "stdout",
     "output_type": "stream",
     "text": [
      "torch.Size([1, 1, 512])\n"
     ]
    },
    {
     "name": "stderr",
     "output_type": "stream",
     "text": [
      "\r",
      " 32%|█████████████████████████████████████████████████████▍                                                                                                               | 123/380 [01:12<02:23,  1.80it/s]"
     ]
    },
    {
     "name": "stdout",
     "output_type": "stream",
     "text": [
      "torch.Size([1, 1, 512])\n"
     ]
    },
    {
     "name": "stderr",
     "output_type": "stream",
     "text": [
      "\r",
      " 33%|█████████████████████████████████████████████████████▊                                                                                                               | 124/380 [01:12<02:36,  1.64it/s]"
     ]
    },
    {
     "name": "stdout",
     "output_type": "stream",
     "text": [
      "torch.Size([1, 1, 512])\n"
     ]
    },
    {
     "name": "stderr",
     "output_type": "stream",
     "text": [
      "\r",
      " 33%|██████████████████████████████████████████████████████▎                                                                                                              | 125/380 [01:13<02:18,  1.84it/s]"
     ]
    },
    {
     "name": "stdout",
     "output_type": "stream",
     "text": [
      "torch.Size([1, 1, 512])\n"
     ]
    },
    {
     "name": "stderr",
     "output_type": "stream",
     "text": [
      "\r",
      " 33%|██████████████████████████████████████████████████████▋                                                                                                              | 126/380 [01:13<02:10,  1.95it/s]"
     ]
    },
    {
     "name": "stdout",
     "output_type": "stream",
     "text": [
      "torch.Size([1, 1, 512])\n"
     ]
    },
    {
     "name": "stderr",
     "output_type": "stream",
     "text": [
      "\r",
      " 33%|███████████████████████████████████████████████████████▏                                                                                                             | 127/380 [01:14<02:47,  1.51it/s]"
     ]
    },
    {
     "name": "stdout",
     "output_type": "stream",
     "text": [
      "torch.Size([1, 1, 512])\n"
     ]
    },
    {
     "name": "stderr",
     "output_type": "stream",
     "text": [
      "\r",
      " 34%|███████████████████████████████████████████████████████▌                                                                                                             | 128/380 [01:15<02:32,  1.65it/s]"
     ]
    },
    {
     "name": "stdout",
     "output_type": "stream",
     "text": [
      "torch.Size([1, 1, 512])\n"
     ]
    },
    {
     "name": "stderr",
     "output_type": "stream",
     "text": [
      "\r",
      " 34%|████████████████████████████████████████████████████████                                                                                                             | 129/380 [01:15<02:18,  1.81it/s]"
     ]
    },
    {
     "name": "stdout",
     "output_type": "stream",
     "text": [
      "torch.Size([1, 1, 512])\n"
     ]
    },
    {
     "name": "stderr",
     "output_type": "stream",
     "text": [
      "\r",
      " 34%|████████████████████████████████████████████████████████▍                                                                                                            | 130/380 [01:16<02:36,  1.60it/s]"
     ]
    },
    {
     "name": "stdout",
     "output_type": "stream",
     "text": [
      "torch.Size([1, 1, 512])\n"
     ]
    },
    {
     "name": "stderr",
     "output_type": "stream",
     "text": [
      "\r",
      " 34%|████████████████████████████████████████████████████████▉                                                                                                            | 131/380 [01:17<02:58,  1.40it/s]"
     ]
    },
    {
     "name": "stdout",
     "output_type": "stream",
     "text": [
      "torch.Size([1, 1, 512])\n"
     ]
    },
    {
     "name": "stderr",
     "output_type": "stream",
     "text": [
      "\r",
      " 35%|█████████████████████████████████████████████████████████▎                                                                                                           | 132/380 [01:17<02:37,  1.58it/s]"
     ]
    },
    {
     "name": "stdout",
     "output_type": "stream",
     "text": [
      "torch.Size([1, 1, 512])\n"
     ]
    },
    {
     "name": "stderr",
     "output_type": "stream",
     "text": [
      "\r",
      " 35%|█████████████████████████████████████████████████████████▋                                                                                                           | 133/380 [01:18<02:28,  1.67it/s]"
     ]
    },
    {
     "name": "stdout",
     "output_type": "stream",
     "text": [
      "torch.Size([1, 1, 512])\n"
     ]
    },
    {
     "name": "stderr",
     "output_type": "stream",
     "text": [
      "\r",
      " 35%|██████████████████████████████████████████████████████████▏                                                                                                          | 134/380 [01:18<02:32,  1.61it/s]"
     ]
    },
    {
     "name": "stdout",
     "output_type": "stream",
     "text": [
      "torch.Size([1, 1, 512])\n"
     ]
    },
    {
     "name": "stderr",
     "output_type": "stream",
     "text": [
      "\r",
      " 36%|██████████████████████████████████████████████████████████▌                                                                                                          | 135/380 [01:19<02:03,  1.99it/s]"
     ]
    },
    {
     "name": "stdout",
     "output_type": "stream",
     "text": [
      "torch.Size([1, 1, 512])\n"
     ]
    },
    {
     "name": "stderr",
     "output_type": "stream",
     "text": [
      "\r",
      " 36%|███████████████████████████████████████████████████████████                                                                                                          | 136/380 [01:19<02:04,  1.96it/s]"
     ]
    },
    {
     "name": "stdout",
     "output_type": "stream",
     "text": [
      "torch.Size([1, 1, 512])\n"
     ]
    },
    {
     "name": "stderr",
     "output_type": "stream",
     "text": [
      "\r",
      " 36%|███████████████████████████████████████████████████████████▍                                                                                                         | 137/380 [01:20<02:06,  1.92it/s]"
     ]
    },
    {
     "name": "stdout",
     "output_type": "stream",
     "text": [
      "torch.Size([1, 1, 512])\n"
     ]
    },
    {
     "name": "stderr",
     "output_type": "stream",
     "text": [
      "\r",
      " 36%|███████████████████████████████████████████████████████████▉                                                                                                         | 138/380 [01:21<02:33,  1.58it/s]"
     ]
    },
    {
     "name": "stdout",
     "output_type": "stream",
     "text": [
      "torch.Size([1, 1, 512])\n"
     ]
    },
    {
     "name": "stderr",
     "output_type": "stream",
     "text": [
      "\r",
      " 37%|████████████████████████████████████████████████████████████▎                                                                                                        | 139/380 [01:21<02:46,  1.45it/s]"
     ]
    },
    {
     "name": "stdout",
     "output_type": "stream",
     "text": [
      "torch.Size([1, 1, 512])\n"
     ]
    },
    {
     "name": "stderr",
     "output_type": "stream",
     "text": [
      "\r",
      " 37%|████████████████████████████████████████████████████████████▊                                                                                                        | 140/380 [01:22<02:16,  1.76it/s]"
     ]
    },
    {
     "name": "stdout",
     "output_type": "stream",
     "text": [
      "torch.Size([1, 1, 512])\n"
     ]
    },
    {
     "name": "stderr",
     "output_type": "stream",
     "text": [
      "\r",
      " 37%|█████████████████████████████████████████████████████████████▏                                                                                                       | 141/380 [01:22<02:18,  1.73it/s]"
     ]
    },
    {
     "name": "stdout",
     "output_type": "stream",
     "text": [
      "torch.Size([1, 1, 512])\n"
     ]
    },
    {
     "name": "stderr",
     "output_type": "stream",
     "text": [
      "\r",
      " 37%|█████████████████████████████████████████████████████████████▋                                                                                                       | 142/380 [01:23<02:20,  1.69it/s]"
     ]
    },
    {
     "name": "stdout",
     "output_type": "stream",
     "text": [
      "torch.Size([1, 1, 512])\n"
     ]
    },
    {
     "name": "stderr",
     "output_type": "stream",
     "text": [
      "\r",
      " 38%|██████████████████████████████████████████████████████████████                                                                                                       | 143/380 [01:24<02:37,  1.51it/s]"
     ]
    },
    {
     "name": "stdout",
     "output_type": "stream",
     "text": [
      "torch.Size([1, 1, 512])\n"
     ]
    },
    {
     "name": "stderr",
     "output_type": "stream",
     "text": [
      "\r",
      " 38%|██████████████████████████████████████████████████████████████▌                                                                                                      | 144/380 [01:24<02:38,  1.49it/s]"
     ]
    },
    {
     "name": "stdout",
     "output_type": "stream",
     "text": [
      "torch.Size([1, 1, 512])\n"
     ]
    },
    {
     "name": "stderr",
     "output_type": "stream",
     "text": [
      "\r",
      " 38%|██████████████████████████████████████████████████████████████▉                                                                                                      | 145/380 [01:25<02:12,  1.78it/s]"
     ]
    },
    {
     "name": "stdout",
     "output_type": "stream",
     "text": [
      "torch.Size([1, 1, 512])\n"
     ]
    },
    {
     "name": "stderr",
     "output_type": "stream",
     "text": [
      "\r",
      " 38%|███████████████████████████████████████████████████████████████▍                                                                                                     | 146/380 [01:25<02:13,  1.76it/s]"
     ]
    },
    {
     "name": "stdout",
     "output_type": "stream",
     "text": [
      "torch.Size([1, 1, 512])\n"
     ]
    },
    {
     "name": "stderr",
     "output_type": "stream",
     "text": [
      "\r",
      " 39%|███████████████████████████████████████████████████████████████▊                                                                                                     | 147/380 [01:26<02:15,  1.72it/s]"
     ]
    },
    {
     "name": "stdout",
     "output_type": "stream",
     "text": [
      "torch.Size([1, 1, 512])\n"
     ]
    },
    {
     "name": "stderr",
     "output_type": "stream",
     "text": [
      "\r",
      " 39%|████████████████████████████████████████████████████████████████▎                                                                                                    | 148/380 [01:27<02:28,  1.56it/s]"
     ]
    },
    {
     "name": "stdout",
     "output_type": "stream",
     "text": [
      "torch.Size([1, 1, 512])\n"
     ]
    },
    {
     "name": "stderr",
     "output_type": "stream",
     "text": [
      "\r",
      " 39%|████████████████████████████████████████████████████████████████▋                                                                                                    | 149/380 [01:28<02:46,  1.39it/s]"
     ]
    },
    {
     "name": "stdout",
     "output_type": "stream",
     "text": [
      "torch.Size([1, 1, 512])\n"
     ]
    },
    {
     "name": "stderr",
     "output_type": "stream",
     "text": [
      "\r",
      " 39%|█████████████████████████████████████████████████████████████████▏                                                                                                   | 150/380 [01:28<02:52,  1.33it/s]"
     ]
    },
    {
     "name": "stdout",
     "output_type": "stream",
     "text": [
      "torch.Size([1, 1, 512])\n"
     ]
    },
    {
     "name": "stderr",
     "output_type": "stream",
     "text": [
      "\r",
      " 40%|█████████████████████████████████████████████████████████████████▌                                                                                                   | 151/380 [01:29<02:24,  1.58it/s]"
     ]
    },
    {
     "name": "stdout",
     "output_type": "stream",
     "text": [
      "torch.Size([1, 1, 512])\n"
     ]
    },
    {
     "name": "stderr",
     "output_type": "stream",
     "text": [
      "\r",
      " 40%|██████████████████████████████████████████████████████████████████                                                                                                   | 152/380 [01:29<02:25,  1.56it/s]"
     ]
    },
    {
     "name": "stdout",
     "output_type": "stream",
     "text": [
      "torch.Size([1, 1, 512])\n"
     ]
    },
    {
     "name": "stderr",
     "output_type": "stream",
     "text": [
      "\r",
      " 40%|██████████████████████████████████████████████████████████████████▍                                                                                                  | 153/380 [01:30<02:19,  1.63it/s]"
     ]
    },
    {
     "name": "stdout",
     "output_type": "stream",
     "text": [
      "torch.Size([1, 1, 512])\n"
     ]
    },
    {
     "name": "stderr",
     "output_type": "stream",
     "text": [
      "\r",
      " 41%|██████████████████████████████████████████████████████████████████▊                                                                                                  | 154/380 [01:31<02:15,  1.67it/s]"
     ]
    },
    {
     "name": "stdout",
     "output_type": "stream",
     "text": [
      "torch.Size([1, 1, 512])\n"
     ]
    },
    {
     "name": "stderr",
     "output_type": "stream",
     "text": [
      "\r",
      " 41%|███████████████████████████████████████████████████████████████████▎                                                                                                 | 155/380 [01:31<02:12,  1.69it/s]"
     ]
    },
    {
     "name": "stdout",
     "output_type": "stream",
     "text": [
      "torch.Size([1, 1, 512])\n"
     ]
    },
    {
     "name": "stderr",
     "output_type": "stream",
     "text": [
      "\r",
      " 41%|███████████████████████████████████████████████████████████████████▋                                                                                                 | 156/380 [01:32<01:57,  1.91it/s]"
     ]
    },
    {
     "name": "stdout",
     "output_type": "stream",
     "text": [
      "torch.Size([1, 1, 512])\n"
     ]
    },
    {
     "name": "stderr",
     "output_type": "stream",
     "text": [
      "\r",
      " 41%|████████████████████████████████████████████████████████████████████▏                                                                                                | 157/380 [01:33<02:34,  1.45it/s]"
     ]
    },
    {
     "name": "stdout",
     "output_type": "stream",
     "text": [
      "torch.Size([1, 1, 512])\n"
     ]
    },
    {
     "name": "stderr",
     "output_type": "stream",
     "text": [
      "\r",
      " 42%|████████████████████████████████████████████████████████████████████▌                                                                                                | 158/380 [01:33<02:12,  1.67it/s]"
     ]
    },
    {
     "name": "stdout",
     "output_type": "stream",
     "text": [
      "torch.Size([1, 1, 512])\n"
     ]
    },
    {
     "name": "stderr",
     "output_type": "stream",
     "text": [
      "\r",
      " 42%|█████████████████████████████████████████████████████████████████████                                                                                                | 159/380 [01:34<02:30,  1.47it/s]"
     ]
    },
    {
     "name": "stdout",
     "output_type": "stream",
     "text": [
      "torch.Size([1, 1, 512])\n"
     ]
    },
    {
     "name": "stderr",
     "output_type": "stream",
     "text": [
      "\r",
      " 42%|█████████████████████████████████████████████████████████████████████▍                                                                                               | 160/380 [01:35<02:36,  1.41it/s]"
     ]
    },
    {
     "name": "stdout",
     "output_type": "stream",
     "text": [
      "torch.Size([1, 1, 512])\n"
     ]
    },
    {
     "name": "stderr",
     "output_type": "stream",
     "text": [
      "\r",
      " 42%|█████████████████████████████████████████████████████████████████████▉                                                                                               | 161/380 [01:35<02:05,  1.74it/s]"
     ]
    },
    {
     "name": "stdout",
     "output_type": "stream",
     "text": [
      "torch.Size([1, 1, 512])\n"
     ]
    },
    {
     "name": "stderr",
     "output_type": "stream",
     "text": [
      "\r",
      " 43%|██████████████████████████████████████████████████████████████████████▎                                                                                              | 162/380 [01:35<01:59,  1.82it/s]"
     ]
    },
    {
     "name": "stdout",
     "output_type": "stream",
     "text": [
      "torch.Size([1, 1, 512])\n"
     ]
    },
    {
     "name": "stderr",
     "output_type": "stream",
     "text": [
      "\r",
      " 43%|██████████████████████████████████████████████████████████████████████▊                                                                                              | 163/380 [01:36<01:46,  2.04it/s]"
     ]
    },
    {
     "name": "stdout",
     "output_type": "stream",
     "text": [
      "torch.Size([1, 1, 512])\n"
     ]
    },
    {
     "name": "stderr",
     "output_type": "stream",
     "text": [
      "\r",
      " 43%|███████████████████████████████████████████████████████████████████████▏                                                                                             | 164/380 [01:36<01:41,  2.13it/s]"
     ]
    },
    {
     "name": "stdout",
     "output_type": "stream",
     "text": [
      "torch.Size([1, 1, 512])\n"
     ]
    },
    {
     "name": "stderr",
     "output_type": "stream",
     "text": [
      "\r",
      " 43%|███████████████████████████████████████████████████████████████████████▋                                                                                             | 165/380 [01:37<01:37,  2.19it/s]"
     ]
    },
    {
     "name": "stdout",
     "output_type": "stream",
     "text": [
      "torch.Size([1, 1, 512])\n"
     ]
    },
    {
     "name": "stderr",
     "output_type": "stream",
     "text": [
      "\r",
      " 44%|████████████████████████████████████████████████████████████████████████                                                                                             | 166/380 [01:37<01:35,  2.24it/s]"
     ]
    },
    {
     "name": "stdout",
     "output_type": "stream",
     "text": [
      "torch.Size([1, 1, 512])\n"
     ]
    },
    {
     "name": "stderr",
     "output_type": "stream",
     "text": [
      "\r",
      " 44%|████████████████████████████████████████████████████████████████████████▌                                                                                            | 167/380 [01:38<01:42,  2.08it/s]"
     ]
    },
    {
     "name": "stdout",
     "output_type": "stream",
     "text": [
      "torch.Size([1, 1, 512])\n"
     ]
    },
    {
     "name": "stderr",
     "output_type": "stream",
     "text": [
      "\r",
      " 44%|████████████████████████████████████████████████████████████████████████▉                                                                                            | 168/380 [01:39<02:12,  1.60it/s]"
     ]
    },
    {
     "name": "stdout",
     "output_type": "stream",
     "text": [
      "torch.Size([1, 1, 512])\n"
     ]
    },
    {
     "name": "stderr",
     "output_type": "stream",
     "text": [
      "\r",
      " 44%|█████████████████████████████████████████████████████████████████████████▍                                                                                           | 169/380 [01:39<02:11,  1.61it/s]"
     ]
    },
    {
     "name": "stdout",
     "output_type": "stream",
     "text": [
      "torch.Size([1, 1, 512])\n"
     ]
    },
    {
     "name": "stderr",
     "output_type": "stream",
     "text": [
      "\r",
      " 45%|█████████████████████████████████████████████████████████████████████████▊                                                                                           | 170/380 [01:40<02:11,  1.59it/s]"
     ]
    },
    {
     "name": "stdout",
     "output_type": "stream",
     "text": [
      "torch.Size([1, 1, 512])\n"
     ]
    },
    {
     "name": "stderr",
     "output_type": "stream",
     "text": [
      "\r",
      " 45%|██████████████████████████████████████████████████████████████████████████▎                                                                                          | 171/380 [01:41<02:23,  1.46it/s]"
     ]
    },
    {
     "name": "stdout",
     "output_type": "stream",
     "text": [
      "torch.Size([1, 1, 512])\n"
     ]
    },
    {
     "name": "stderr",
     "output_type": "stream",
     "text": [
      "\r",
      " 45%|██████████████████████████████████████████████████████████████████████████▋                                                                                          | 172/380 [01:41<02:20,  1.48it/s]"
     ]
    },
    {
     "name": "stdout",
     "output_type": "stream",
     "text": [
      "torch.Size([1, 1, 512])\n"
     ]
    },
    {
     "name": "stderr",
     "output_type": "stream",
     "text": [
      "\r",
      " 46%|███████████████████████████████████████████████████████████████████████████                                                                                          | 173/380 [01:42<02:09,  1.60it/s]"
     ]
    },
    {
     "name": "stdout",
     "output_type": "stream",
     "text": [
      "torch.Size([1, 1, 512])\n"
     ]
    },
    {
     "name": "stderr",
     "output_type": "stream",
     "text": [
      "\r",
      " 46%|███████████████████████████████████████████████████████████████████████████▌                                                                                         | 174/380 [01:43<02:19,  1.48it/s]"
     ]
    },
    {
     "name": "stdout",
     "output_type": "stream",
     "text": [
      "torch.Size([1, 1, 512])\n"
     ]
    },
    {
     "name": "stderr",
     "output_type": "stream",
     "text": [
      "\r",
      " 46%|███████████████████████████████████████████████████████████████████████████▉                                                                                         | 175/380 [01:43<02:12,  1.54it/s]"
     ]
    },
    {
     "name": "stdout",
     "output_type": "stream",
     "text": [
      "torch.Size([1, 1, 512])\n"
     ]
    },
    {
     "name": "stderr",
     "output_type": "stream",
     "text": [
      "\r",
      " 46%|████████████████████████████████████████████████████████████████████████████▍                                                                                        | 176/380 [01:44<02:08,  1.59it/s]"
     ]
    },
    {
     "name": "stdout",
     "output_type": "stream",
     "text": [
      "torch.Size([1, 1, 512])\n"
     ]
    },
    {
     "name": "stderr",
     "output_type": "stream",
     "text": [
      "\r",
      " 47%|████████████████████████████████████████████████████████████████████████████▊                                                                                        | 177/380 [01:44<01:50,  1.84it/s]"
     ]
    },
    {
     "name": "stdout",
     "output_type": "stream",
     "text": [
      "torch.Size([1, 1, 512])\n"
     ]
    },
    {
     "name": "stderr",
     "output_type": "stream",
     "text": [
      "\r",
      " 47%|█████████████████████████████████████████████████████████████████████████████▎                                                                                       | 178/380 [01:45<02:06,  1.60it/s]"
     ]
    },
    {
     "name": "stdout",
     "output_type": "stream",
     "text": [
      "torch.Size([1, 1, 512])\n"
     ]
    },
    {
     "name": "stderr",
     "output_type": "stream",
     "text": [
      "\r",
      " 47%|█████████████████████████████████████████████████████████████████████████████▋                                                                                       | 179/380 [01:46<02:31,  1.33it/s]"
     ]
    },
    {
     "name": "stdout",
     "output_type": "stream",
     "text": [
      "torch.Size([1, 1, 512])\n"
     ]
    },
    {
     "name": "stderr",
     "output_type": "stream",
     "text": [
      "\r",
      " 47%|██████████████████████████████████████████████████████████████████████████████▏                                                                                      | 180/380 [01:46<02:18,  1.44it/s]"
     ]
    },
    {
     "name": "stdout",
     "output_type": "stream",
     "text": [
      "torch.Size([1, 1, 512])\n"
     ]
    },
    {
     "name": "stderr",
     "output_type": "stream",
     "text": [
      "\r",
      " 48%|██████████████████████████████████████████████████████████████████████████████▌                                                                                      | 181/380 [01:47<02:27,  1.35it/s]"
     ]
    },
    {
     "name": "stdout",
     "output_type": "stream",
     "text": [
      "torch.Size([1, 1, 512])\n"
     ]
    },
    {
     "name": "stderr",
     "output_type": "stream",
     "text": [
      "\r",
      " 48%|███████████████████████████████████████████████████████████████████████████████                                                                                      | 182/380 [01:48<02:06,  1.56it/s]"
     ]
    },
    {
     "name": "stdout",
     "output_type": "stream",
     "text": [
      "torch.Size([1, 1, 512])\n"
     ]
    },
    {
     "name": "stderr",
     "output_type": "stream",
     "text": [
      "\r",
      " 48%|███████████████████████████████████████████████████████████████████████████████▍                                                                                     | 183/380 [01:48<02:03,  1.60it/s]"
     ]
    },
    {
     "name": "stdout",
     "output_type": "stream",
     "text": [
      "torch.Size([1, 1, 512])\n"
     ]
    },
    {
     "name": "stderr",
     "output_type": "stream",
     "text": [
      "\r",
      " 48%|███████████████████████████████████████████████████████████████████████████████▉                                                                                     | 184/380 [01:49<01:55,  1.69it/s]"
     ]
    },
    {
     "name": "stdout",
     "output_type": "stream",
     "text": [
      "torch.Size([1, 1, 512])\n"
     ]
    },
    {
     "name": "stderr",
     "output_type": "stream",
     "text": [
      "\r",
      " 49%|████████████████████████████████████████████████████████████████████████████████▎                                                                                    | 185/380 [01:49<01:40,  1.94it/s]"
     ]
    },
    {
     "name": "stdout",
     "output_type": "stream",
     "text": [
      "torch.Size([1, 1, 512])\n"
     ]
    },
    {
     "name": "stderr",
     "output_type": "stream",
     "text": [
      "\r",
      " 49%|████████████████████████████████████████████████████████████████████████████████▊                                                                                    | 186/380 [01:50<02:03,  1.57it/s]"
     ]
    },
    {
     "name": "stdout",
     "output_type": "stream",
     "text": [
      "torch.Size([1, 1, 512])\n"
     ]
    },
    {
     "name": "stderr",
     "output_type": "stream",
     "text": [
      "\r",
      " 49%|█████████████████████████████████████████████████████████████████████████████████▏                                                                                   | 187/380 [01:51<01:49,  1.76it/s]"
     ]
    },
    {
     "name": "stdout",
     "output_type": "stream",
     "text": [
      "torch.Size([1, 1, 512])\n"
     ]
    },
    {
     "name": "stderr",
     "output_type": "stream",
     "text": [
      "\r",
      " 49%|█████████████████████████████████████████████████████████████████████████████████▋                                                                                   | 188/380 [01:51<01:56,  1.64it/s]"
     ]
    },
    {
     "name": "stdout",
     "output_type": "stream",
     "text": [
      "torch.Size([1, 1, 512])\n"
     ]
    },
    {
     "name": "stderr",
     "output_type": "stream",
     "text": [
      "\r",
      " 50%|██████████████████████████████████████████████████████████████████████████████████                                                                                   | 189/380 [01:52<02:13,  1.44it/s]"
     ]
    },
    {
     "name": "stdout",
     "output_type": "stream",
     "text": [
      "torch.Size([1, 1, 512])\n"
     ]
    },
    {
     "name": "stderr",
     "output_type": "stream",
     "text": [
      "\r",
      " 50%|██████████████████████████████████████████████████████████████████████████████████▌                                                                                  | 190/380 [01:53<02:16,  1.39it/s]"
     ]
    },
    {
     "name": "stdout",
     "output_type": "stream",
     "text": [
      "torch.Size([1, 1, 512])\n"
     ]
    },
    {
     "name": "stderr",
     "output_type": "stream",
     "text": [
      "\r",
      " 50%|██████████████████████████████████████████████████████████████████████████████████▉                                                                                  | 191/380 [01:54<02:18,  1.37it/s]"
     ]
    },
    {
     "name": "stdout",
     "output_type": "stream",
     "text": [
      "torch.Size([1, 1, 512])\n"
     ]
    },
    {
     "name": "stderr",
     "output_type": "stream",
     "text": [
      "\r",
      " 51%|███████████████████████████████████████████████████████████████████████████████████▎                                                                                 | 192/380 [01:54<02:06,  1.49it/s]"
     ]
    },
    {
     "name": "stdout",
     "output_type": "stream",
     "text": [
      "torch.Size([1, 1, 512])\n"
     ]
    },
    {
     "name": "stderr",
     "output_type": "stream",
     "text": [
      "\r",
      " 51%|███████████████████████████████████████████████████████████████████████████████████▊                                                                                 | 193/380 [01:55<02:02,  1.52it/s]"
     ]
    },
    {
     "name": "stdout",
     "output_type": "stream",
     "text": [
      "torch.Size([1, 1, 512])\n"
     ]
    },
    {
     "name": "stderr",
     "output_type": "stream",
     "text": [
      "\r",
      " 51%|████████████████████████████████████████████████████████████████████████████████████▏                                                                                | 194/380 [01:56<02:04,  1.49it/s]"
     ]
    },
    {
     "name": "stdout",
     "output_type": "stream",
     "text": [
      "torch.Size([1, 1, 512])\n"
     ]
    },
    {
     "name": "stderr",
     "output_type": "stream",
     "text": [
      "\r",
      " 51%|████████████████████████████████████████████████████████████████████████████████████▋                                                                                | 195/380 [01:56<02:06,  1.46it/s]"
     ]
    },
    {
     "name": "stdout",
     "output_type": "stream",
     "text": [
      "torch.Size([1, 1, 512])\n"
     ]
    },
    {
     "name": "stderr",
     "output_type": "stream",
     "text": [
      "\r",
      " 52%|█████████████████████████████████████████████████████████████████████████████████████                                                                                | 196/380 [01:57<02:21,  1.30it/s]"
     ]
    },
    {
     "name": "stdout",
     "output_type": "stream",
     "text": [
      "torch.Size([1, 1, 512])\n"
     ]
    },
    {
     "name": "stderr",
     "output_type": "stream",
     "text": [
      "\r",
      " 52%|█████████████████████████████████████████████████████████████████████████████████████▌                                                                               | 197/380 [01:58<02:03,  1.48it/s]"
     ]
    },
    {
     "name": "stdout",
     "output_type": "stream",
     "text": [
      "torch.Size([1, 1, 512])\n"
     ]
    },
    {
     "name": "stderr",
     "output_type": "stream",
     "text": [
      "\r",
      " 52%|█████████████████████████████████████████████████████████████████████████████████████▉                                                                               | 198/380 [01:58<01:45,  1.72it/s]"
     ]
    },
    {
     "name": "stdout",
     "output_type": "stream",
     "text": [
      "torch.Size([1, 1, 512])\n"
     ]
    },
    {
     "name": "stderr",
     "output_type": "stream",
     "text": [
      "\r",
      " 52%|██████████████████████████████████████████████████████████████████████████████████████▍                                                                              | 199/380 [01:59<01:52,  1.61it/s]"
     ]
    },
    {
     "name": "stdout",
     "output_type": "stream",
     "text": [
      "torch.Size([1, 1, 512])\n"
     ]
    },
    {
     "name": "stderr",
     "output_type": "stream",
     "text": [
      "\r",
      " 53%|██████████████████████████████████████████████████████████████████████████████████████▊                                                                              | 200/380 [02:00<02:13,  1.35it/s]"
     ]
    },
    {
     "name": "stdout",
     "output_type": "stream",
     "text": [
      "torch.Size([1, 1, 512])\n"
     ]
    },
    {
     "name": "stderr",
     "output_type": "stream",
     "text": [
      "\r",
      " 53%|███████████████████████████████████████████████████████████████████████████████████████▎                                                                             | 201/380 [02:00<01:53,  1.58it/s]"
     ]
    },
    {
     "name": "stdout",
     "output_type": "stream",
     "text": [
      "torch.Size([1, 1, 512])\n"
     ]
    },
    {
     "name": "stderr",
     "output_type": "stream",
     "text": [
      "\r",
      " 53%|███████████████████████████████████████████████████████████████████████████████████████▋                                                                             | 202/380 [02:01<02:05,  1.42it/s]"
     ]
    },
    {
     "name": "stdout",
     "output_type": "stream",
     "text": [
      "torch.Size([1, 1, 512])\n"
     ]
    },
    {
     "name": "stderr",
     "output_type": "stream",
     "text": [
      "\r",
      " 53%|████████████████████████████████████████████████████████████████████████████████████████▏                                                                            | 203/380 [02:01<01:52,  1.57it/s]"
     ]
    },
    {
     "name": "stdout",
     "output_type": "stream",
     "text": [
      "torch.Size([1, 1, 512])\n"
     ]
    },
    {
     "name": "stderr",
     "output_type": "stream",
     "text": [
      "\r",
      " 54%|████████████████████████████████████████████████████████████████████████████████████████▌                                                                            | 204/380 [02:02<01:41,  1.73it/s]"
     ]
    },
    {
     "name": "stdout",
     "output_type": "stream",
     "text": [
      "torch.Size([1, 1, 512])\n"
     ]
    },
    {
     "name": "stderr",
     "output_type": "stream",
     "text": [
      "\r",
      " 54%|█████████████████████████████████████████████████████████████████████████████████████████                                                                            | 205/380 [02:02<01:36,  1.82it/s]"
     ]
    },
    {
     "name": "stdout",
     "output_type": "stream",
     "text": [
      "torch.Size([1, 1, 512])\n"
     ]
    },
    {
     "name": "stderr",
     "output_type": "stream",
     "text": [
      "\r",
      " 54%|█████████████████████████████████████████████████████████████████████████████████████████▍                                                                           | 206/380 [02:03<01:43,  1.68it/s]"
     ]
    },
    {
     "name": "stdout",
     "output_type": "stream",
     "text": [
      "torch.Size([1, 1, 512])\n"
     ]
    },
    {
     "name": "stderr",
     "output_type": "stream",
     "text": [
      "\r",
      " 54%|█████████████████████████████████████████████████████████████████████████████████████████▉                                                                           | 207/380 [02:04<02:01,  1.42it/s]"
     ]
    },
    {
     "name": "stdout",
     "output_type": "stream",
     "text": [
      "torch.Size([1, 1, 512])\n"
     ]
    },
    {
     "name": "stderr",
     "output_type": "stream",
     "text": [
      "\r",
      " 55%|██████████████████████████████████████████████████████████████████████████████████████████▎                                                                          | 208/380 [02:05<01:50,  1.56it/s]"
     ]
    },
    {
     "name": "stdout",
     "output_type": "stream",
     "text": [
      "torch.Size([1, 1, 512])\n"
     ]
    },
    {
     "name": "stderr",
     "output_type": "stream",
     "text": [
      "\r",
      " 55%|██████████████████████████████████████████████████████████████████████████████████████████▊                                                                          | 209/380 [02:05<01:48,  1.57it/s]"
     ]
    },
    {
     "name": "stdout",
     "output_type": "stream",
     "text": [
      "torch.Size([1, 1, 512])\n"
     ]
    },
    {
     "name": "stderr",
     "output_type": "stream",
     "text": [
      "\r",
      " 55%|███████████████████████████████████████████████████████████████████████████████████████████▏                                                                         | 210/380 [02:06<01:43,  1.64it/s]"
     ]
    },
    {
     "name": "stdout",
     "output_type": "stream",
     "text": [
      "torch.Size([1, 1, 512])\n"
     ]
    },
    {
     "name": "stderr",
     "output_type": "stream",
     "text": [
      "\r",
      " 56%|███████████████████████████████████████████████████████████████████████████████████████████▌                                                                         | 211/380 [02:06<01:42,  1.65it/s]"
     ]
    },
    {
     "name": "stdout",
     "output_type": "stream",
     "text": [
      "torch.Size([1, 1, 512])\n"
     ]
    },
    {
     "name": "stderr",
     "output_type": "stream",
     "text": [
      "\r",
      " 56%|████████████████████████████████████████████████████████████████████████████████████████████                                                                         | 212/380 [02:07<01:45,  1.60it/s]"
     ]
    },
    {
     "name": "stdout",
     "output_type": "stream",
     "text": [
      "torch.Size([1, 1, 512])\n"
     ]
    },
    {
     "name": "stderr",
     "output_type": "stream",
     "text": [
      "\r",
      " 56%|████████████████████████████████████████████████████████████████████████████████████████████▍                                                                        | 213/380 [02:07<01:36,  1.74it/s]"
     ]
    },
    {
     "name": "stdout",
     "output_type": "stream",
     "text": [
      "torch.Size([1, 1, 512])\n"
     ]
    },
    {
     "name": "stderr",
     "output_type": "stream",
     "text": [
      "\r",
      " 56%|████████████████████████████████████████████████████████████████████████████████████████████▉                                                                        | 214/380 [02:08<01:50,  1.50it/s]"
     ]
    },
    {
     "name": "stdout",
     "output_type": "stream",
     "text": [
      "torch.Size([1, 1, 512])\n"
     ]
    },
    {
     "name": "stderr",
     "output_type": "stream",
     "text": [
      "\r",
      " 57%|█████████████████████████████████████████████████████████████████████████████████████████████▎                                                                       | 215/380 [02:09<01:33,  1.76it/s]"
     ]
    },
    {
     "name": "stdout",
     "output_type": "stream",
     "text": [
      "torch.Size([1, 1, 512])\n"
     ]
    },
    {
     "name": "stderr",
     "output_type": "stream",
     "text": [
      "\r",
      " 57%|█████████████████████████████████████████████████████████████████████████████████████████████▊                                                                       | 216/380 [02:09<01:29,  1.84it/s]"
     ]
    },
    {
     "name": "stdout",
     "output_type": "stream",
     "text": [
      "torch.Size([1, 1, 512])\n"
     ]
    },
    {
     "name": "stderr",
     "output_type": "stream",
     "text": [
      "\r",
      " 57%|██████████████████████████████████████████████████████████████████████████████████████████████▏                                                                      | 217/380 [02:10<01:29,  1.83it/s]"
     ]
    },
    {
     "name": "stdout",
     "output_type": "stream",
     "text": [
      "torch.Size([1, 1, 512])\n"
     ]
    },
    {
     "name": "stderr",
     "output_type": "stream",
     "text": [
      "\r",
      " 57%|██████████████████████████████████████████████████████████████████████████████████████████████▋                                                                      | 218/380 [02:11<01:51,  1.45it/s]"
     ]
    },
    {
     "name": "stdout",
     "output_type": "stream",
     "text": [
      "torch.Size([1, 1, 512])\n"
     ]
    },
    {
     "name": "stderr",
     "output_type": "stream",
     "text": [
      "\r",
      " 58%|███████████████████████████████████████████████████████████████████████████████████████████████                                                                      | 219/380 [02:12<02:04,  1.29it/s]"
     ]
    },
    {
     "name": "stdout",
     "output_type": "stream",
     "text": [
      "torch.Size([1, 1, 512])\n"
     ]
    },
    {
     "name": "stderr",
     "output_type": "stream",
     "text": [
      "\r",
      " 58%|███████████████████████████████████████████████████████████████████████████████████████████████▌                                                                     | 220/380 [02:12<01:56,  1.37it/s]"
     ]
    },
    {
     "name": "stdout",
     "output_type": "stream",
     "text": [
      "torch.Size([1, 1, 512])\n"
     ]
    },
    {
     "name": "stderr",
     "output_type": "stream",
     "text": [
      "\r",
      " 58%|███████████████████████████████████████████████████████████████████████████████████████████████▉                                                                     | 221/380 [02:13<01:44,  1.52it/s]"
     ]
    },
    {
     "name": "stdout",
     "output_type": "stream",
     "text": [
      "torch.Size([1, 1, 512])\n"
     ]
    },
    {
     "name": "stderr",
     "output_type": "stream",
     "text": [
      "\r",
      " 58%|████████████████████████████████████████████████████████████████████████████████████████████████▍                                                                    | 222/380 [02:13<01:31,  1.72it/s]"
     ]
    },
    {
     "name": "stdout",
     "output_type": "stream",
     "text": [
      "torch.Size([1, 1, 512])\n"
     ]
    },
    {
     "name": "stderr",
     "output_type": "stream",
     "text": [
      "\r",
      " 59%|████████████████████████████████████████████████████████████████████████████████████████████████▊                                                                    | 223/380 [02:14<01:41,  1.54it/s]"
     ]
    },
    {
     "name": "stdout",
     "output_type": "stream",
     "text": [
      "torch.Size([1, 1, 512])\n"
     ]
    },
    {
     "name": "stderr",
     "output_type": "stream",
     "text": [
      "\r",
      " 59%|█████████████████████████████████████████████████████████████████████████████████████████████████▎                                                                   | 224/380 [02:15<01:49,  1.42it/s]"
     ]
    },
    {
     "name": "stdout",
     "output_type": "stream",
     "text": [
      "torch.Size([1, 1, 512])\n"
     ]
    },
    {
     "name": "stderr",
     "output_type": "stream",
     "text": [
      "\r",
      " 59%|█████████████████████████████████████████████████████████████████████████████████████████████████▋                                                                   | 225/380 [02:16<01:52,  1.38it/s]"
     ]
    },
    {
     "name": "stdout",
     "output_type": "stream",
     "text": [
      "torch.Size([1, 1, 512])\n"
     ]
    },
    {
     "name": "stderr",
     "output_type": "stream",
     "text": [
      "\r",
      " 59%|██████████████████████████████████████████████████████████████████████████████████████████████████▏                                                                  | 226/380 [02:17<02:00,  1.28it/s]"
     ]
    },
    {
     "name": "stdout",
     "output_type": "stream",
     "text": [
      "torch.Size([1, 1, 512])\n"
     ]
    },
    {
     "name": "stderr",
     "output_type": "stream",
     "text": [
      "\r",
      " 60%|██████████████████████████████████████████████████████████████████████████████████████████████████▌                                                                  | 227/380 [02:17<01:43,  1.47it/s]"
     ]
    },
    {
     "name": "stdout",
     "output_type": "stream",
     "text": [
      "torch.Size([1, 1, 512])\n"
     ]
    },
    {
     "name": "stderr",
     "output_type": "stream",
     "text": [
      "\r",
      " 60%|███████████████████████████████████████████████████████████████████████████████████████████████████                                                                  | 228/380 [02:18<01:38,  1.54it/s]"
     ]
    },
    {
     "name": "stdout",
     "output_type": "stream",
     "text": [
      "torch.Size([1, 1, 512])\n"
     ]
    },
    {
     "name": "stderr",
     "output_type": "stream",
     "text": [
      "\r",
      " 60%|███████████████████████████████████████████████████████████████████████████████████████████████████▍                                                                 | 229/380 [02:18<01:37,  1.55it/s]"
     ]
    },
    {
     "name": "stdout",
     "output_type": "stream",
     "text": [
      "torch.Size([1, 1, 512])\n"
     ]
    },
    {
     "name": "stderr",
     "output_type": "stream",
     "text": [
      "\r",
      " 61%|███████████████████████████████████████████████████████████████████████████████████████████████████▊                                                                 | 230/380 [02:19<01:40,  1.50it/s]"
     ]
    },
    {
     "name": "stdout",
     "output_type": "stream",
     "text": [
      "torch.Size([1, 1, 512])\n"
     ]
    },
    {
     "name": "stderr",
     "output_type": "stream",
     "text": [
      "\r",
      " 61%|████████████████████████████████████████████████████████████████████████████████████████████████████▎                                                                | 231/380 [02:20<01:36,  1.55it/s]"
     ]
    },
    {
     "name": "stdout",
     "output_type": "stream",
     "text": [
      "torch.Size([1, 1, 512])\n"
     ]
    },
    {
     "name": "stderr",
     "output_type": "stream",
     "text": [
      "\r",
      " 61%|████████████████████████████████████████████████████████████████████████████████████████████████████▋                                                                | 232/380 [02:20<01:27,  1.69it/s]"
     ]
    },
    {
     "name": "stdout",
     "output_type": "stream",
     "text": [
      "torch.Size([1, 1, 512])\n"
     ]
    },
    {
     "name": "stderr",
     "output_type": "stream",
     "text": [
      "\r",
      " 61%|█████████████████████████████████████████████████████████████████████████████████████████████████████▏                                                               | 233/380 [02:21<01:26,  1.70it/s]"
     ]
    },
    {
     "name": "stdout",
     "output_type": "stream",
     "text": [
      "torch.Size([1, 1, 512])\n"
     ]
    },
    {
     "name": "stderr",
     "output_type": "stream",
     "text": [
      "\r",
      " 62%|█████████████████████████████████████████████████████████████████████████████████████████████████████▌                                                               | 234/380 [02:21<01:14,  1.96it/s]"
     ]
    },
    {
     "name": "stdout",
     "output_type": "stream",
     "text": [
      "torch.Size([1, 1, 512])\n"
     ]
    },
    {
     "name": "stderr",
     "output_type": "stream",
     "text": [
      "\r",
      " 62%|██████████████████████████████████████████████████████████████████████████████████████████████████████                                                               | 235/380 [02:21<01:13,  1.96it/s]"
     ]
    },
    {
     "name": "stdout",
     "output_type": "stream",
     "text": [
      "torch.Size([1, 1, 512])\n"
     ]
    },
    {
     "name": "stderr",
     "output_type": "stream",
     "text": [
      "\r",
      " 62%|██████████████████████████████████████████████████████████████████████████████████████████████████████▍                                                              | 236/380 [02:22<01:19,  1.81it/s]"
     ]
    },
    {
     "name": "stdout",
     "output_type": "stream",
     "text": [
      "torch.Size([1, 1, 512])\n"
     ]
    },
    {
     "name": "stderr",
     "output_type": "stream",
     "text": [
      "\r",
      " 62%|██████████████████████████████████████████████████████████████████████████████████████████████████████▉                                                              | 237/380 [02:23<01:27,  1.63it/s]"
     ]
    },
    {
     "name": "stdout",
     "output_type": "stream",
     "text": [
      "torch.Size([1, 1, 512])\n"
     ]
    },
    {
     "name": "stderr",
     "output_type": "stream",
     "text": [
      "\r",
      " 63%|███████████████████████████████████████████████████████████████████████████████████████████████████████▎                                                             | 238/380 [02:24<01:36,  1.47it/s]"
     ]
    },
    {
     "name": "stdout",
     "output_type": "stream",
     "text": [
      "torch.Size([1, 1, 512])\n"
     ]
    },
    {
     "name": "stderr",
     "output_type": "stream",
     "text": [
      "\r",
      " 63%|███████████████████████████████████████████████████████████████████████████████████████████████████████▊                                                             | 239/380 [02:24<01:37,  1.45it/s]"
     ]
    },
    {
     "name": "stdout",
     "output_type": "stream",
     "text": [
      "torch.Size([1, 1, 512])\n"
     ]
    },
    {
     "name": "stderr",
     "output_type": "stream",
     "text": [
      "\r",
      " 63%|████████████████████████████████████████████████████████████████████████████████████████████████████████▏                                                            | 240/380 [02:25<01:23,  1.67it/s]"
     ]
    },
    {
     "name": "stdout",
     "output_type": "stream",
     "text": [
      "torch.Size([1, 1, 512])\n"
     ]
    },
    {
     "name": "stderr",
     "output_type": "stream",
     "text": [
      "\r",
      " 63%|████████████████████████████████████████████████████████████████████████████████████████████████████████▋                                                            | 241/380 [02:25<01:11,  1.95it/s]"
     ]
    },
    {
     "name": "stdout",
     "output_type": "stream",
     "text": [
      "torch.Size([1, 1, 512])\n"
     ]
    },
    {
     "name": "stderr",
     "output_type": "stream",
     "text": [
      "\r",
      " 64%|█████████████████████████████████████████████████████████████████████████████████████████████████████████                                                            | 242/380 [02:26<01:17,  1.77it/s]"
     ]
    },
    {
     "name": "stdout",
     "output_type": "stream",
     "text": [
      "torch.Size([1, 1, 512])\n"
     ]
    },
    {
     "name": "stderr",
     "output_type": "stream",
     "text": [
      "\r",
      " 64%|█████████████████████████████████████████████████████████████████████████████████████████████████████████▌                                                           | 243/380 [02:26<01:09,  1.97it/s]"
     ]
    },
    {
     "name": "stdout",
     "output_type": "stream",
     "text": [
      "torch.Size([1, 1, 512])\n"
     ]
    },
    {
     "name": "stderr",
     "output_type": "stream",
     "text": [
      "\r",
      " 64%|█████████████████████████████████████████████████████████████████████████████████████████████████████████▉                                                           | 244/380 [02:27<01:14,  1.82it/s]"
     ]
    },
    {
     "name": "stdout",
     "output_type": "stream",
     "text": [
      "torch.Size([1, 1, 512])\n"
     ]
    },
    {
     "name": "stderr",
     "output_type": "stream",
     "text": [
      "\r",
      " 64%|██████████████████████████████████████████████████████████████████████████████████████████████████████████▍                                                          | 245/380 [02:28<01:21,  1.65it/s]"
     ]
    },
    {
     "name": "stdout",
     "output_type": "stream",
     "text": [
      "torch.Size([1, 1, 512])\n"
     ]
    },
    {
     "name": "stderr",
     "output_type": "stream",
     "text": [
      "\r",
      " 65%|██████████████████████████████████████████████████████████████████████████████████████████████████████████▊                                                          | 246/380 [02:28<01:21,  1.65it/s]"
     ]
    },
    {
     "name": "stdout",
     "output_type": "stream",
     "text": [
      "torch.Size([1, 1, 512])\n"
     ]
    },
    {
     "name": "stderr",
     "output_type": "stream",
     "text": [
      "\r",
      " 65%|███████████████████████████████████████████████████████████████████████████████████████████████████████████▎                                                         | 247/380 [02:29<01:22,  1.62it/s]"
     ]
    },
    {
     "name": "stdout",
     "output_type": "stream",
     "text": [
      "torch.Size([1, 1, 512])\n"
     ]
    },
    {
     "name": "stderr",
     "output_type": "stream",
     "text": [
      "\r",
      " 65%|███████████████████████████████████████████████████████████████████████████████████████████████████████████▋                                                         | 248/380 [02:29<01:25,  1.54it/s]"
     ]
    },
    {
     "name": "stdout",
     "output_type": "stream",
     "text": [
      "torch.Size([1, 1, 512])\n"
     ]
    },
    {
     "name": "stderr",
     "output_type": "stream",
     "text": [
      "\r",
      " 66%|████████████████████████████████████████████████████████████████████████████████████████████████████████████                                                         | 249/380 [02:30<01:22,  1.58it/s]"
     ]
    },
    {
     "name": "stdout",
     "output_type": "stream",
     "text": [
      "torch.Size([1, 1, 512])\n"
     ]
    },
    {
     "name": "stderr",
     "output_type": "stream",
     "text": [
      "\r",
      " 66%|████████████████████████████████████████████████████████████████████████████████████████████████████████████▌                                                        | 250/380 [02:31<01:27,  1.49it/s]"
     ]
    },
    {
     "name": "stdout",
     "output_type": "stream",
     "text": [
      "torch.Size([1, 1, 512])\n"
     ]
    },
    {
     "name": "stderr",
     "output_type": "stream",
     "text": [
      "\r",
      " 66%|████████████████████████████████████████████████████████████████████████████████████████████████████████████▉                                                        | 251/380 [02:31<01:20,  1.60it/s]"
     ]
    },
    {
     "name": "stdout",
     "output_type": "stream",
     "text": [
      "torch.Size([1, 1, 512])\n"
     ]
    },
    {
     "name": "stderr",
     "output_type": "stream",
     "text": [
      "\r",
      " 66%|█████████████████████████████████████████████████████████████████████████████████████████████████████████████▍                                                       | 252/380 [02:32<01:28,  1.45it/s]"
     ]
    },
    {
     "name": "stdout",
     "output_type": "stream",
     "text": [
      "torch.Size([1, 1, 512])\n"
     ]
    },
    {
     "name": "stderr",
     "output_type": "stream",
     "text": [
      "\r",
      " 67%|█████████████████████████████████████████████████████████████████████████████████████████████████████████████▊                                                       | 253/380 [02:33<01:21,  1.56it/s]"
     ]
    },
    {
     "name": "stdout",
     "output_type": "stream",
     "text": [
      "torch.Size([1, 1, 512])\n"
     ]
    },
    {
     "name": "stderr",
     "output_type": "stream",
     "text": [
      "\r",
      " 67%|██████████████████████████████████████████████████████████████████████████████████████████████████████████████▎                                                      | 254/380 [02:34<01:34,  1.33it/s]"
     ]
    },
    {
     "name": "stdout",
     "output_type": "stream",
     "text": [
      "torch.Size([1, 1, 512])\n"
     ]
    },
    {
     "name": "stderr",
     "output_type": "stream",
     "text": [
      "\r",
      " 67%|██████████████████████████████████████████████████████████████████████████████████████████████████████████████▋                                                      | 255/380 [02:34<01:25,  1.47it/s]"
     ]
    },
    {
     "name": "stdout",
     "output_type": "stream",
     "text": [
      "torch.Size([1, 1, 512])\n"
     ]
    },
    {
     "name": "stderr",
     "output_type": "stream",
     "text": [
      "\r",
      " 67%|███████████████████████████████████████████████████████████████████████████████████████████████████████████████▏                                                     | 256/380 [02:35<01:25,  1.45it/s]"
     ]
    },
    {
     "name": "stdout",
     "output_type": "stream",
     "text": [
      "torch.Size([1, 1, 512])\n"
     ]
    },
    {
     "name": "stderr",
     "output_type": "stream",
     "text": [
      "\r",
      " 68%|███████████████████████████████████████████████████████████████████████████████████████████████████████████████▌                                                     | 257/380 [02:35<01:11,  1.72it/s]"
     ]
    },
    {
     "name": "stdout",
     "output_type": "stream",
     "text": [
      "torch.Size([1, 1, 512])\n"
     ]
    },
    {
     "name": "stderr",
     "output_type": "stream",
     "text": [
      "\r",
      " 68%|████████████████████████████████████████████████████████████████████████████████████████████████████████████████                                                     | 258/380 [02:36<01:22,  1.49it/s]"
     ]
    },
    {
     "name": "stdout",
     "output_type": "stream",
     "text": [
      "torch.Size([1, 1, 512])\n"
     ]
    },
    {
     "name": "stderr",
     "output_type": "stream",
     "text": [
      "\r",
      " 68%|████████████████████████████████████████████████████████████████████████████████████████████████████████████████▍                                                    | 259/380 [02:37<01:09,  1.74it/s]"
     ]
    },
    {
     "name": "stdout",
     "output_type": "stream",
     "text": [
      "torch.Size([1, 1, 512])\n"
     ]
    },
    {
     "name": "stderr",
     "output_type": "stream",
     "text": [
      "\r",
      " 68%|████████████████████████████████████████████████████████████████████████████████████████████████████████████████▉                                                    | 260/380 [02:37<01:01,  1.94it/s]"
     ]
    },
    {
     "name": "stdout",
     "output_type": "stream",
     "text": [
      "torch.Size([1, 1, 512])\n"
     ]
    },
    {
     "name": "stderr",
     "output_type": "stream",
     "text": [
      "\r",
      " 69%|█████████████████████████████████████████████████████████████████████████████████████████████████████████████████▎                                                   | 261/380 [02:38<01:08,  1.73it/s]"
     ]
    },
    {
     "name": "stdout",
     "output_type": "stream",
     "text": [
      "torch.Size([1, 1, 512])\n"
     ]
    },
    {
     "name": "stderr",
     "output_type": "stream",
     "text": [
      "\r",
      " 69%|█████████████████████████████████████████████████████████████████████████████████████████████████████████████████▊                                                   | 262/380 [02:38<01:07,  1.76it/s]"
     ]
    },
    {
     "name": "stdout",
     "output_type": "stream",
     "text": [
      "torch.Size([1, 1, 512])\n"
     ]
    },
    {
     "name": "stderr",
     "output_type": "stream",
     "text": [
      "\r",
      " 69%|██████████████████████████████████████████████████████████████████████████████████████████████████████████████████▏                                                  | 263/380 [02:39<01:05,  1.79it/s]"
     ]
    },
    {
     "name": "stdout",
     "output_type": "stream",
     "text": [
      "torch.Size([1, 1, 512])\n"
     ]
    },
    {
     "name": "stderr",
     "output_type": "stream",
     "text": [
      "\r",
      " 69%|██████████████████████████████████████████████████████████████████████████████████████████████████████████████████▋                                                  | 264/380 [02:39<01:12,  1.59it/s]"
     ]
    },
    {
     "name": "stdout",
     "output_type": "stream",
     "text": [
      "torch.Size([1, 1, 512])\n"
     ]
    },
    {
     "name": "stderr",
     "output_type": "stream",
     "text": [
      "\r",
      " 70%|███████████████████████████████████████████████████████████████████████████████████████████████████████████████████                                                  | 265/380 [02:40<01:10,  1.63it/s]"
     ]
    },
    {
     "name": "stdout",
     "output_type": "stream",
     "text": [
      "torch.Size([1, 1, 512])\n"
     ]
    },
    {
     "name": "stderr",
     "output_type": "stream",
     "text": [
      "\r",
      " 70%|███████████████████████████████████████████████████████████████████████████████████████████████████████████████████▍                                                 | 266/380 [02:41<01:05,  1.75it/s]"
     ]
    },
    {
     "name": "stdout",
     "output_type": "stream",
     "text": [
      "torch.Size([1, 1, 512])\n"
     ]
    },
    {
     "name": "stderr",
     "output_type": "stream",
     "text": [
      "\r",
      " 70%|███████████████████████████████████████████████████████████████████████████████████████████████████████████████████▉                                                 | 267/380 [02:41<01:14,  1.52it/s]"
     ]
    },
    {
     "name": "stdout",
     "output_type": "stream",
     "text": [
      "torch.Size([1, 1, 512])\n"
     ]
    },
    {
     "name": "stderr",
     "output_type": "stream",
     "text": [
      "\r",
      " 71%|████████████████████████████████████████████████████████████████████████████████████████████████████████████████████▎                                                | 268/380 [02:42<01:04,  1.74it/s]"
     ]
    },
    {
     "name": "stdout",
     "output_type": "stream",
     "text": [
      "torch.Size([1, 1, 512])\n"
     ]
    },
    {
     "name": "stderr",
     "output_type": "stream",
     "text": [
      "\r",
      " 71%|████████████████████████████████████████████████████████████████████████████████████████████████████████████████████▊                                                | 269/380 [02:42<01:01,  1.81it/s]"
     ]
    },
    {
     "name": "stdout",
     "output_type": "stream",
     "text": [
      "torch.Size([1, 1, 512])\n"
     ]
    },
    {
     "name": "stderr",
     "output_type": "stream",
     "text": [
      "\r",
      " 71%|█████████████████████████████████████████████████████████████████████████████████████████████████████████████████████▏                                               | 270/380 [02:43<01:11,  1.53it/s]"
     ]
    },
    {
     "name": "stdout",
     "output_type": "stream",
     "text": [
      "torch.Size([1, 1, 512])\n"
     ]
    },
    {
     "name": "stderr",
     "output_type": "stream",
     "text": [
      "\r",
      " 71%|█████████████████████████████████████████████████████████████████████████████████████████████████████████████████████▋                                               | 271/380 [02:44<01:01,  1.76it/s]"
     ]
    },
    {
     "name": "stdout",
     "output_type": "stream",
     "text": [
      "torch.Size([1, 1, 512])\n"
     ]
    },
    {
     "name": "stderr",
     "output_type": "stream",
     "text": [
      "\r",
      " 72%|██████████████████████████████████████████████████████████████████████████████████████████████████████████████████████                                               | 272/380 [02:44<00:56,  1.91it/s]"
     ]
    },
    {
     "name": "stdout",
     "output_type": "stream",
     "text": [
      "torch.Size([1, 1, 512])\n"
     ]
    },
    {
     "name": "stderr",
     "output_type": "stream",
     "text": [
      "\r",
      " 72%|██████████████████████████████████████████████████████████████████████████████████████████████████████████████████████▌                                              | 273/380 [02:44<00:50,  2.14it/s]"
     ]
    },
    {
     "name": "stdout",
     "output_type": "stream",
     "text": [
      "torch.Size([1, 1, 512])\n"
     ]
    },
    {
     "name": "stderr",
     "output_type": "stream",
     "text": [
      "\r",
      " 72%|██████████████████████████████████████████████████████████████████████████████████████████████████████████████████████▉                                              | 274/380 [02:45<00:46,  2.27it/s]"
     ]
    },
    {
     "name": "stdout",
     "output_type": "stream",
     "text": [
      "torch.Size([1, 1, 512])\n"
     ]
    },
    {
     "name": "stderr",
     "output_type": "stream",
     "text": [
      "\r",
      " 72%|███████████████████████████████████████████████████████████████████████████████████████████████████████████████████████▍                                             | 275/380 [02:45<00:43,  2.44it/s]"
     ]
    },
    {
     "name": "stdout",
     "output_type": "stream",
     "text": [
      "torch.Size([1, 1, 512])\n"
     ]
    },
    {
     "name": "stderr",
     "output_type": "stream",
     "text": [
      "\r",
      " 73%|███████████████████████████████████████████████████████████████████████████████████████████████████████████████████████▊                                             | 276/380 [02:46<00:57,  1.82it/s]"
     ]
    },
    {
     "name": "stdout",
     "output_type": "stream",
     "text": [
      "torch.Size([1, 1, 512])\n"
     ]
    },
    {
     "name": "stderr",
     "output_type": "stream",
     "text": [
      "\r",
      " 73%|████████████████████████████████████████████████████████████████████████████████████████████████████████████████████████▎                                            | 277/380 [02:47<01:05,  1.58it/s]"
     ]
    },
    {
     "name": "stdout",
     "output_type": "stream",
     "text": [
      "torch.Size([1, 1, 512])\n"
     ]
    },
    {
     "name": "stderr",
     "output_type": "stream",
     "text": [
      "\r",
      " 73%|████████████████████████████████████████████████████████████████████████████████████████████████████████████████████████▋                                            | 278/380 [02:47<00:59,  1.71it/s]"
     ]
    },
    {
     "name": "stdout",
     "output_type": "stream",
     "text": [
      "torch.Size([1, 1, 512])\n"
     ]
    },
    {
     "name": "stderr",
     "output_type": "stream",
     "text": [
      "\r",
      " 73%|█████████████████████████████████████████████████████████████████████████████████████████████████████████████████████████▏                                           | 279/380 [02:48<00:52,  1.94it/s]"
     ]
    },
    {
     "name": "stdout",
     "output_type": "stream",
     "text": [
      "torch.Size([1, 1, 512])\n"
     ]
    },
    {
     "name": "stderr",
     "output_type": "stream",
     "text": [
      "\r",
      " 74%|█████████████████████████████████████████████████████████████████████████████████████████████████████████████████████████▌                                           | 280/380 [02:48<00:48,  2.05it/s]"
     ]
    },
    {
     "name": "stdout",
     "output_type": "stream",
     "text": [
      "torch.Size([1, 1, 512])\n"
     ]
    },
    {
     "name": "stderr",
     "output_type": "stream",
     "text": [
      "\r",
      " 74%|██████████████████████████████████████████████████████████████████████████████████████████████████████████████████████████                                           | 281/380 [02:49<00:52,  1.90it/s]"
     ]
    },
    {
     "name": "stdout",
     "output_type": "stream",
     "text": [
      "torch.Size([1, 1, 512])\n"
     ]
    },
    {
     "name": "stderr",
     "output_type": "stream",
     "text": [
      "\r",
      " 74%|██████████████████████████████████████████████████████████████████████████████████████████████████████████████████████████▍                                          | 282/380 [02:49<01:01,  1.58it/s]"
     ]
    },
    {
     "name": "stdout",
     "output_type": "stream",
     "text": [
      "torch.Size([1, 1, 512])\n"
     ]
    },
    {
     "name": "stderr",
     "output_type": "stream",
     "text": [
      "\r",
      " 74%|██████████████████████████████████████████████████████████████████████████████████████████████████████████████████████████▉                                          | 283/380 [02:50<00:57,  1.68it/s]"
     ]
    },
    {
     "name": "stdout",
     "output_type": "stream",
     "text": [
      "torch.Size([1, 1, 512])\n"
     ]
    },
    {
     "name": "stderr",
     "output_type": "stream",
     "text": [
      "\r",
      " 75%|███████████████████████████████████████████████████████████████████████████████████████████████████████████████████████████▎                                         | 284/380 [02:51<01:06,  1.45it/s]"
     ]
    },
    {
     "name": "stdout",
     "output_type": "stream",
     "text": [
      "torch.Size([1, 1, 512])\n"
     ]
    },
    {
     "name": "stderr",
     "output_type": "stream",
     "text": [
      "\r",
      " 75%|███████████████████████████████████████████████████████████████████████████████████████████████████████████████████████████▊                                         | 285/380 [02:52<01:05,  1.45it/s]"
     ]
    },
    {
     "name": "stdout",
     "output_type": "stream",
     "text": [
      "torch.Size([1, 1, 512])\n"
     ]
    },
    {
     "name": "stderr",
     "output_type": "stream",
     "text": [
      "\r",
      " 75%|████████████████████████████████████████████████████████████████████████████████████████████████████████████████████████████▏                                        | 286/380 [02:52<00:59,  1.57it/s]"
     ]
    },
    {
     "name": "stdout",
     "output_type": "stream",
     "text": [
      "torch.Size([1, 1, 512])\n"
     ]
    },
    {
     "name": "stderr",
     "output_type": "stream",
     "text": [
      "\r",
      " 76%|████████████████████████████████████████████████████████████████████████████████████████████████████████████████████████████▌                                        | 287/380 [02:53<01:01,  1.50it/s]"
     ]
    },
    {
     "name": "stdout",
     "output_type": "stream",
     "text": [
      "torch.Size([1, 1, 512])\n"
     ]
    },
    {
     "name": "stderr",
     "output_type": "stream",
     "text": [
      "\r",
      " 76%|█████████████████████████████████████████████████████████████████████████████████████████████████████████████████████████████                                        | 288/380 [02:54<01:03,  1.45it/s]"
     ]
    },
    {
     "name": "stdout",
     "output_type": "stream",
     "text": [
      "torch.Size([1, 1, 512])\n"
     ]
    },
    {
     "name": "stderr",
     "output_type": "stream",
     "text": [
      "\r",
      " 76%|█████████████████████████████████████████████████████████████████████████████████████████████████████████████████████████████▍                                       | 289/380 [02:54<01:00,  1.51it/s]"
     ]
    },
    {
     "name": "stdout",
     "output_type": "stream",
     "text": [
      "torch.Size([1, 1, 512])\n"
     ]
    },
    {
     "name": "stderr",
     "output_type": "stream",
     "text": [
      "\r",
      " 76%|█████████████████████████████████████████████████████████████████████████████████████████████████████████████████████████████▉                                       | 290/380 [02:55<00:51,  1.74it/s]"
     ]
    },
    {
     "name": "stdout",
     "output_type": "stream",
     "text": [
      "torch.Size([1, 1, 512])\n"
     ]
    },
    {
     "name": "stderr",
     "output_type": "stream",
     "text": [
      "\r",
      " 77%|██████████████████████████████████████████████████████████████████████████████████████████████████████████████████████████████▎                                      | 291/380 [02:55<00:51,  1.73it/s]"
     ]
    },
    {
     "name": "stdout",
     "output_type": "stream",
     "text": [
      "torch.Size([1, 1, 512])\n"
     ]
    },
    {
     "name": "stderr",
     "output_type": "stream",
     "text": [
      "\r",
      " 77%|██████████████████████████████████████████████████████████████████████████████████████████████████████████████████████████████▊                                      | 292/380 [02:56<00:48,  1.83it/s]"
     ]
    },
    {
     "name": "stdout",
     "output_type": "stream",
     "text": [
      "torch.Size([1, 1, 512])\n"
     ]
    },
    {
     "name": "stderr",
     "output_type": "stream",
     "text": [
      "\r",
      " 77%|███████████████████████████████████████████████████████████████████████████████████████████████████████████████████████████████▏                                     | 293/380 [02:56<00:56,  1.53it/s]"
     ]
    },
    {
     "name": "stdout",
     "output_type": "stream",
     "text": [
      "torch.Size([1, 1, 512])\n"
     ]
    },
    {
     "name": "stderr",
     "output_type": "stream",
     "text": [
      "\r",
      " 77%|███████████████████████████████████████████████████████████████████████████████████████████████████████████████████████████████▋                                     | 294/380 [02:57<00:52,  1.63it/s]"
     ]
    },
    {
     "name": "stdout",
     "output_type": "stream",
     "text": [
      "torch.Size([1, 1, 512])\n"
     ]
    },
    {
     "name": "stderr",
     "output_type": "stream",
     "text": [
      "\r",
      " 78%|████████████████████████████████████████████████████████████████████████████████████████████████████████████████████████████████                                     | 295/380 [02:57<00:47,  1.78it/s]"
     ]
    },
    {
     "name": "stdout",
     "output_type": "stream",
     "text": [
      "torch.Size([1, 1, 512])\n"
     ]
    },
    {
     "name": "stderr",
     "output_type": "stream",
     "text": [
      "\r",
      " 78%|████████████████████████████████████████████████████████████████████████████████████████████████████████████████████████████████▌                                    | 296/380 [02:58<00:41,  2.01it/s]"
     ]
    },
    {
     "name": "stdout",
     "output_type": "stream",
     "text": [
      "torch.Size([1, 1, 512])\n"
     ]
    },
    {
     "name": "stderr",
     "output_type": "stream",
     "text": [
      "\r",
      " 78%|████████████████████████████████████████████████████████████████████████████████████████████████████████████████████████████████▉                                    | 297/380 [02:58<00:42,  1.93it/s]"
     ]
    },
    {
     "name": "stdout",
     "output_type": "stream",
     "text": [
      "torch.Size([1, 1, 512])\n"
     ]
    },
    {
     "name": "stderr",
     "output_type": "stream",
     "text": [
      "\r",
      " 78%|█████████████████████████████████████████████████████████████████████████████████████████████████████████████████████████████████▍                                   | 298/380 [02:59<00:38,  2.13it/s]"
     ]
    },
    {
     "name": "stdout",
     "output_type": "stream",
     "text": [
      "torch.Size([1, 1, 512])\n"
     ]
    },
    {
     "name": "stderr",
     "output_type": "stream",
     "text": [
      "\r",
      " 79%|█████████████████████████████████████████████████████████████████████████████████████████████████████████████████████████████████▊                                   | 299/380 [02:59<00:45,  1.80it/s]"
     ]
    },
    {
     "name": "stdout",
     "output_type": "stream",
     "text": [
      "torch.Size([1, 1, 512])\n"
     ]
    },
    {
     "name": "stderr",
     "output_type": "stream",
     "text": [
      "\r",
      " 79%|██████████████████████████████████████████████████████████████████████████████████████████████████████████████████████████████████▎                                  | 300/380 [03:00<00:44,  1.82it/s]"
     ]
    },
    {
     "name": "stdout",
     "output_type": "stream",
     "text": [
      "torch.Size([1, 1, 512])\n"
     ]
    },
    {
     "name": "stderr",
     "output_type": "stream",
     "text": [
      "\r",
      " 79%|██████████████████████████████████████████████████████████████████████████████████████████████████████████████████████████████████▋                                  | 301/380 [03:00<00:39,  2.00it/s]"
     ]
    },
    {
     "name": "stdout",
     "output_type": "stream",
     "text": [
      "torch.Size([1, 1, 512])\n"
     ]
    },
    {
     "name": "stderr",
     "output_type": "stream",
     "text": [
      "\r",
      " 79%|███████████████████████████████████████████████████████████████████████████████████████████████████████████████████████████████████▏                                 | 302/380 [03:01<00:37,  2.06it/s]"
     ]
    },
    {
     "name": "stdout",
     "output_type": "stream",
     "text": [
      "torch.Size([1, 1, 512])\n"
     ]
    },
    {
     "name": "stderr",
     "output_type": "stream",
     "text": [
      "\r",
      " 80%|███████████████████████████████████████████████████████████████████████████████████████████████████████████████████████████████████▌                                 | 303/380 [03:01<00:40,  1.92it/s]"
     ]
    },
    {
     "name": "stdout",
     "output_type": "stream",
     "text": [
      "torch.Size([1, 1, 512])\n"
     ]
    },
    {
     "name": "stderr",
     "output_type": "stream",
     "text": [
      "\r",
      " 80%|████████████████████████████████████████████████████████████████████████████████████████████████████████████████████████████████████                                 | 304/380 [03:02<00:39,  1.93it/s]"
     ]
    },
    {
     "name": "stdout",
     "output_type": "stream",
     "text": [
      "torch.Size([1, 1, 512])\n"
     ]
    },
    {
     "name": "stderr",
     "output_type": "stream",
     "text": [
      "\r",
      " 80%|████████████████████████████████████████████████████████████████████████████████████████████████████████████████████████████████████▍                                | 305/380 [03:03<00:40,  1.87it/s]"
     ]
    },
    {
     "name": "stdout",
     "output_type": "stream",
     "text": [
      "torch.Size([1, 1, 512])\n"
     ]
    },
    {
     "name": "stderr",
     "output_type": "stream",
     "text": [
      "\r",
      " 81%|████████████████████████████████████████████████████████████████████████████████████████████████████████████████████████████████████▊                                | 306/380 [03:03<00:44,  1.67it/s]"
     ]
    },
    {
     "name": "stdout",
     "output_type": "stream",
     "text": [
      "torch.Size([1, 1, 512])\n"
     ]
    },
    {
     "name": "stderr",
     "output_type": "stream",
     "text": [
      "\r",
      " 81%|█████████████████████████████████████████████████████████████████████████████████████████████████████████████████████████████████████▎                               | 307/380 [03:04<00:47,  1.53it/s]"
     ]
    },
    {
     "name": "stdout",
     "output_type": "stream",
     "text": [
      "torch.Size([1, 1, 512])\n"
     ]
    },
    {
     "name": "stderr",
     "output_type": "stream",
     "text": [
      "\r",
      " 81%|█████████████████████████████████████████████████████████████████████████████████████████████████████████████████████████████████████▋                               | 308/380 [03:05<00:46,  1.55it/s]"
     ]
    },
    {
     "name": "stdout",
     "output_type": "stream",
     "text": [
      "torch.Size([1, 1, 512])\n"
     ]
    },
    {
     "name": "stderr",
     "output_type": "stream",
     "text": [
      "\r",
      " 81%|██████████████████████████████████████████████████████████████████████████████████████████████████████████████████████████████████████▏                              | 309/380 [03:05<00:40,  1.76it/s]"
     ]
    },
    {
     "name": "stdout",
     "output_type": "stream",
     "text": [
      "torch.Size([1, 1, 512])\n"
     ]
    },
    {
     "name": "stderr",
     "output_type": "stream",
     "text": [
      "\r",
      " 82%|██████████████████████████████████████████████████████████████████████████████████████████████████████████████████████████████████████▌                              | 310/380 [03:05<00:35,  1.99it/s]"
     ]
    },
    {
     "name": "stdout",
     "output_type": "stream",
     "text": [
      "torch.Size([1, 1, 512])\n"
     ]
    },
    {
     "name": "stderr",
     "output_type": "stream",
     "text": [
      "\r",
      " 82%|███████████████████████████████████████████████████████████████████████████████████████████████████████████████████████████████████████                              | 311/380 [03:06<00:34,  2.00it/s]"
     ]
    },
    {
     "name": "stdout",
     "output_type": "stream",
     "text": [
      "torch.Size([1, 1, 512])\n"
     ]
    },
    {
     "name": "stderr",
     "output_type": "stream",
     "text": [
      "\r",
      " 82%|███████████████████████████████████████████████████████████████████████████████████████████████████████████████████████████████████████▍                             | 312/380 [03:07<00:36,  1.86it/s]"
     ]
    },
    {
     "name": "stdout",
     "output_type": "stream",
     "text": [
      "torch.Size([1, 1, 512])\n"
     ]
    },
    {
     "name": "stderr",
     "output_type": "stream",
     "text": [
      "\r",
      " 82%|███████████████████████████████████████████████████████████████████████████████████████████████████████████████████████████████████████▉                             | 313/380 [03:07<00:33,  2.03it/s]"
     ]
    },
    {
     "name": "stdout",
     "output_type": "stream",
     "text": [
      "torch.Size([1, 1, 512])\n"
     ]
    },
    {
     "name": "stderr",
     "output_type": "stream",
     "text": [
      "\r",
      " 83%|████████████████████████████████████████████████████████████████████████████████████████████████████████████████████████████████████████▎                            | 314/380 [03:08<00:36,  1.82it/s]"
     ]
    },
    {
     "name": "stdout",
     "output_type": "stream",
     "text": [
      "torch.Size([1, 1, 512])\n"
     ]
    },
    {
     "name": "stderr",
     "output_type": "stream",
     "text": [
      "\r",
      " 83%|████████████████████████████████████████████████████████████████████████████████████████████████████████████████████████████████████████▊                            | 315/380 [03:08<00:32,  2.02it/s]"
     ]
    },
    {
     "name": "stdout",
     "output_type": "stream",
     "text": [
      "torch.Size([1, 1, 512])\n"
     ]
    },
    {
     "name": "stderr",
     "output_type": "stream",
     "text": [
      "\r",
      " 83%|█████████████████████████████████████████████████████████████████████████████████████████████████████████████████████████████████████████▏                           | 316/380 [03:08<00:29,  2.17it/s]"
     ]
    },
    {
     "name": "stdout",
     "output_type": "stream",
     "text": [
      "torch.Size([1, 1, 512])\n"
     ]
    },
    {
     "name": "stderr",
     "output_type": "stream",
     "text": [
      "\r",
      " 83%|█████████████████████████████████████████████████████████████████████████████████████████████████████████████████████████████████████████▋                           | 317/380 [03:09<00:27,  2.29it/s]"
     ]
    },
    {
     "name": "stdout",
     "output_type": "stream",
     "text": [
      "torch.Size([1, 1, 512])\n"
     ]
    },
    {
     "name": "stderr",
     "output_type": "stream",
     "text": [
      "\r",
      " 84%|██████████████████████████████████████████████████████████████████████████████████████████████████████████████████████████████████████████                           | 318/380 [03:09<00:28,  2.17it/s]"
     ]
    },
    {
     "name": "stdout",
     "output_type": "stream",
     "text": [
      "torch.Size([1, 1, 512])\n"
     ]
    },
    {
     "name": "stderr",
     "output_type": "stream",
     "text": [
      "\r",
      " 84%|██████████████████████████████████████████████████████████████████████████████████████████████████████████████████████████████████████████▌                          | 319/380 [03:10<00:32,  1.87it/s]"
     ]
    },
    {
     "name": "stdout",
     "output_type": "stream",
     "text": [
      "torch.Size([1, 1, 512])\n"
     ]
    },
    {
     "name": "stderr",
     "output_type": "stream",
     "text": [
      "\r",
      " 84%|██████████████████████████████████████████████████████████████████████████████████████████████████████████████████████████████████████████▉                          | 320/380 [03:10<00:31,  1.91it/s]"
     ]
    },
    {
     "name": "stdout",
     "output_type": "stream",
     "text": [
      "torch.Size([1, 1, 512])\n"
     ]
    },
    {
     "name": "stderr",
     "output_type": "stream",
     "text": [
      "\r",
      " 84%|███████████████████████████████████████████████████████████████████████████████████████████████████████████████████████████████████████████▍                         | 321/380 [03:11<00:29,  1.98it/s]"
     ]
    },
    {
     "name": "stdout",
     "output_type": "stream",
     "text": [
      "torch.Size([1, 1, 512])\n"
     ]
    },
    {
     "name": "stderr",
     "output_type": "stream",
     "text": [
      "\r",
      " 85%|███████████████████████████████████████████████████████████████████████████████████████████████████████████████████████████████████████████▊                         | 322/380 [03:12<00:34,  1.67it/s]"
     ]
    },
    {
     "name": "stdout",
     "output_type": "stream",
     "text": [
      "torch.Size([1, 1, 512])\n"
     ]
    },
    {
     "name": "stderr",
     "output_type": "stream",
     "text": [
      "\r",
      " 85%|████████████████████████████████████████████████████████████████████████████████████████████████████████████████████████████████████████████▎                        | 323/380 [03:12<00:34,  1.64it/s]"
     ]
    },
    {
     "name": "stdout",
     "output_type": "stream",
     "text": [
      "torch.Size([1, 1, 512])\n"
     ]
    },
    {
     "name": "stderr",
     "output_type": "stream",
     "text": [
      "\r",
      " 85%|████████████████████████████████████████████████████████████████████████████████████████████████████████████████████████████████████████████▋                        | 324/380 [03:13<00:29,  1.91it/s]"
     ]
    },
    {
     "name": "stdout",
     "output_type": "stream",
     "text": [
      "torch.Size([1, 1, 512])\n"
     ]
    },
    {
     "name": "stderr",
     "output_type": "stream",
     "text": [
      "\r",
      " 86%|█████████████████████████████████████████████████████████████████████████████████████████████████████████████████████████████████████████████                        | 325/380 [03:13<00:29,  1.87it/s]"
     ]
    },
    {
     "name": "stdout",
     "output_type": "stream",
     "text": [
      "torch.Size([1, 1, 512])\n"
     ]
    },
    {
     "name": "stderr",
     "output_type": "stream",
     "text": [
      "\r",
      " 86%|█████████████████████████████████████████████████████████████████████████████████████████████████████████████████████████████████████████████▌                       | 326/380 [03:14<00:32,  1.64it/s]"
     ]
    },
    {
     "name": "stdout",
     "output_type": "stream",
     "text": [
      "torch.Size([1, 1, 512])\n"
     ]
    },
    {
     "name": "stderr",
     "output_type": "stream",
     "text": [
      "\r",
      " 86%|█████████████████████████████████████████████████████████████████████████████████████████████████████████████████████████████████████████████▉                       | 327/380 [03:15<00:30,  1.72it/s]"
     ]
    },
    {
     "name": "stdout",
     "output_type": "stream",
     "text": [
      "torch.Size([1, 1, 512])\n"
     ]
    },
    {
     "name": "stderr",
     "output_type": "stream",
     "text": [
      "\r",
      " 86%|██████████████████████████████████████████████████████████████████████████████████████████████████████████████████████████████████████████████▍                      | 328/380 [03:15<00:28,  1.84it/s]"
     ]
    },
    {
     "name": "stdout",
     "output_type": "stream",
     "text": [
      "torch.Size([1, 1, 512])\n"
     ]
    },
    {
     "name": "stderr",
     "output_type": "stream",
     "text": [
      "\r",
      " 87%|██████████████████████████████████████████████████████████████████████████████████████████████████████████████████████████████████████████████▊                      | 329/380 [03:16<00:31,  1.61it/s]"
     ]
    },
    {
     "name": "stdout",
     "output_type": "stream",
     "text": [
      "torch.Size([1, 1, 512])\n"
     ]
    },
    {
     "name": "stderr",
     "output_type": "stream",
     "text": [
      "\r",
      " 87%|███████████████████████████████████████████████████████████████████████████████████████████████████████████████████████████████████████████████▎                     | 330/380 [03:16<00:28,  1.73it/s]"
     ]
    },
    {
     "name": "stdout",
     "output_type": "stream",
     "text": [
      "torch.Size([1, 1, 512])\n"
     ]
    },
    {
     "name": "stderr",
     "output_type": "stream",
     "text": [
      "\r",
      " 87%|███████████████████████████████████████████████████████████████████████████████████████████████████████████████████████████████████████████████▋                     | 331/380 [03:17<00:29,  1.66it/s]"
     ]
    },
    {
     "name": "stdout",
     "output_type": "stream",
     "text": [
      "torch.Size([1, 1, 512])\n"
     ]
    },
    {
     "name": "stderr",
     "output_type": "stream",
     "text": [
      "\r",
      " 87%|████████████████████████████████████████████████████████████████████████████████████████████████████████████████████████████████████████████████▏                    | 332/380 [03:18<00:33,  1.45it/s]"
     ]
    },
    {
     "name": "stdout",
     "output_type": "stream",
     "text": [
      "torch.Size([1, 1, 512])\n"
     ]
    },
    {
     "name": "stderr",
     "output_type": "stream",
     "text": [
      "\r",
      " 88%|████████████████████████████████████████████████████████████████████████████████████████████████████████████████████████████████████████████████▌                    | 333/380 [03:18<00:30,  1.55it/s]"
     ]
    },
    {
     "name": "stdout",
     "output_type": "stream",
     "text": [
      "torch.Size([1, 1, 512])\n"
     ]
    },
    {
     "name": "stderr",
     "output_type": "stream",
     "text": [
      "\r",
      " 88%|█████████████████████████████████████████████████████████████████████████████████████████████████████████████████████████████████████████████████                    | 334/380 [03:19<00:31,  1.47it/s]"
     ]
    },
    {
     "name": "stdout",
     "output_type": "stream",
     "text": [
      "torch.Size([1, 1, 512])\n"
     ]
    },
    {
     "name": "stderr",
     "output_type": "stream",
     "text": [
      "\r",
      " 88%|█████████████████████████████████████████████████████████████████████████████████████████████████████████████████████████████████████████████████▍                   | 335/380 [03:20<00:33,  1.35it/s]"
     ]
    },
    {
     "name": "stdout",
     "output_type": "stream",
     "text": [
      "torch.Size([1, 1, 512])\n"
     ]
    },
    {
     "name": "stderr",
     "output_type": "stream",
     "text": [
      "\r",
      " 88%|█████████████████████████████████████████████████████████████████████████████████████████████████████████████████████████████████████████████████▉                   | 336/380 [03:21<00:36,  1.21it/s]"
     ]
    },
    {
     "name": "stdout",
     "output_type": "stream",
     "text": [
      "torch.Size([1, 1, 512])\n"
     ]
    },
    {
     "name": "stderr",
     "output_type": "stream",
     "text": [
      "\r",
      " 89%|██████████████████████████████████████████████████████████████████████████████████████████████████████████████████████████████████████████████████▎                  | 337/380 [03:21<00:29,  1.45it/s]"
     ]
    },
    {
     "name": "stdout",
     "output_type": "stream",
     "text": [
      "torch.Size([1, 1, 512])\n"
     ]
    },
    {
     "name": "stderr",
     "output_type": "stream",
     "text": [
      "\r",
      " 89%|██████████████████████████████████████████████████████████████████████████████████████████████████████████████████████████████████████████████████▊                  | 338/380 [03:22<00:27,  1.55it/s]"
     ]
    },
    {
     "name": "stdout",
     "output_type": "stream",
     "text": [
      "torch.Size([1, 1, 512])\n"
     ]
    },
    {
     "name": "stderr",
     "output_type": "stream",
     "text": [
      "\r",
      " 89%|███████████████████████████████████████████████████████████████████████████████████████████████████████████████████████████████████████████████████▏                 | 339/380 [03:23<00:28,  1.45it/s]"
     ]
    },
    {
     "name": "stdout",
     "output_type": "stream",
     "text": [
      "torch.Size([1, 1, 512])\n"
     ]
    },
    {
     "name": "stderr",
     "output_type": "stream",
     "text": [
      "\r",
      " 89%|███████████████████████████████████████████████████████████████████████████████████████████████████████████████████████████████████████████████████▋                 | 340/380 [03:23<00:25,  1.56it/s]"
     ]
    },
    {
     "name": "stdout",
     "output_type": "stream",
     "text": [
      "torch.Size([1, 1, 512])\n"
     ]
    },
    {
     "name": "stderr",
     "output_type": "stream",
     "text": [
      "\r",
      " 90%|████████████████████████████████████████████████████████████████████████████████████████████████████████████████████████████████████████████████████                 | 341/380 [03:24<00:25,  1.55it/s]"
     ]
    },
    {
     "name": "stdout",
     "output_type": "stream",
     "text": [
      "torch.Size([1, 1, 512])\n"
     ]
    },
    {
     "name": "stderr",
     "output_type": "stream",
     "text": [
      "\r",
      " 90%|████████████████████████████████████████████████████████████████████████████████████████████████████████████████████████████████████████████████████▌                | 342/380 [03:25<00:23,  1.60it/s]"
     ]
    },
    {
     "name": "stdout",
     "output_type": "stream",
     "text": [
      "torch.Size([1, 1, 512])\n"
     ]
    },
    {
     "name": "stderr",
     "output_type": "stream",
     "text": [
      "\r",
      " 90%|████████████████████████████████████████████████████████████████████████████████████████████████████████████████████████████████████████████████████▉                | 343/380 [03:25<00:23,  1.60it/s]"
     ]
    },
    {
     "name": "stdout",
     "output_type": "stream",
     "text": [
      "torch.Size([1, 1, 512])\n"
     ]
    },
    {
     "name": "stderr",
     "output_type": "stream",
     "text": [
      "\r",
      " 91%|█████████████████████████████████████████████████████████████████████████████████████████████████████████████████████████████████████████████████████▎               | 344/380 [03:26<00:21,  1.70it/s]"
     ]
    },
    {
     "name": "stdout",
     "output_type": "stream",
     "text": [
      "torch.Size([1, 1, 512])\n"
     ]
    },
    {
     "name": "stderr",
     "output_type": "stream",
     "text": [
      "\r",
      " 91%|█████████████████████████████████████████████████████████████████████████████████████████████████████████████████████████████████████████████████████▊               | 345/380 [03:26<00:19,  1.80it/s]"
     ]
    },
    {
     "name": "stdout",
     "output_type": "stream",
     "text": [
      "torch.Size([1, 1, 512])\n"
     ]
    },
    {
     "name": "stderr",
     "output_type": "stream",
     "text": [
      "\r",
      " 91%|██████████████████████████████████████████████████████████████████████████████████████████████████████████████████████████████████████████████████████▏              | 346/380 [03:27<00:22,  1.52it/s]"
     ]
    },
    {
     "name": "stdout",
     "output_type": "stream",
     "text": [
      "torch.Size([1, 1, 512])\n"
     ]
    },
    {
     "name": "stderr",
     "output_type": "stream",
     "text": [
      "\r",
      " 91%|██████████████████████████████████████████████████████████████████████████████████████████████████████████████████████████████████████████████████████▋              | 347/380 [03:27<00:18,  1.75it/s]"
     ]
    },
    {
     "name": "stdout",
     "output_type": "stream",
     "text": [
      "torch.Size([1, 1, 512])\n"
     ]
    },
    {
     "name": "stderr",
     "output_type": "stream",
     "text": [
      "\r",
      " 92%|███████████████████████████████████████████████████████████████████████████████████████████████████████████████████████████████████████████████████████              | 348/380 [03:28<00:18,  1.71it/s]"
     ]
    },
    {
     "name": "stdout",
     "output_type": "stream",
     "text": [
      "torch.Size([1, 1, 512])\n"
     ]
    },
    {
     "name": "stderr",
     "output_type": "stream",
     "text": [
      "\r",
      " 92%|███████████████████████████████████████████████████████████████████████████████████████████████████████████████████████████████████████████████████████▌             | 349/380 [03:28<00:16,  1.91it/s]"
     ]
    },
    {
     "name": "stdout",
     "output_type": "stream",
     "text": [
      "torch.Size([1, 1, 512])\n"
     ]
    },
    {
     "name": "stderr",
     "output_type": "stream",
     "text": [
      "\r",
      " 92%|███████████████████████████████████████████████████████████████████████████████████████████████████████████████████████████████████████████████████████▉             | 350/380 [03:29<00:16,  1.81it/s]"
     ]
    },
    {
     "name": "stdout",
     "output_type": "stream",
     "text": [
      "torch.Size([1, 1, 512])\n"
     ]
    },
    {
     "name": "stderr",
     "output_type": "stream",
     "text": [
      "\r",
      " 92%|████████████████████████████████████████████████████████████████████████████████████████████████████████████████████████████████████████████████████████▍            | 351/380 [03:30<00:17,  1.62it/s]"
     ]
    },
    {
     "name": "stdout",
     "output_type": "stream",
     "text": [
      "torch.Size([1, 1, 512])\n"
     ]
    },
    {
     "name": "stderr",
     "output_type": "stream",
     "text": [
      "\r",
      " 93%|████████████████████████████████████████████████████████████████████████████████████████████████████████████████████████████████████████████████████████▊            | 352/380 [03:31<00:18,  1.52it/s]"
     ]
    },
    {
     "name": "stdout",
     "output_type": "stream",
     "text": [
      "torch.Size([1, 1, 512])\n"
     ]
    },
    {
     "name": "stderr",
     "output_type": "stream",
     "text": [
      "\r",
      " 93%|█████████████████████████████████████████████████████████████████████████████████████████████████████████████████████████████████████████████████████████▎           | 353/380 [03:31<00:16,  1.61it/s]"
     ]
    },
    {
     "name": "stdout",
     "output_type": "stream",
     "text": [
      "torch.Size([1, 1, 512])\n"
     ]
    },
    {
     "name": "stderr",
     "output_type": "stream",
     "text": [
      "\r",
      " 93%|█████████████████████████████████████████████████████████████████████████████████████████████████████████████████████████████████████████████████████████▋           | 354/380 [03:32<00:17,  1.52it/s]"
     ]
    },
    {
     "name": "stdout",
     "output_type": "stream",
     "text": [
      "torch.Size([1, 1, 512])\n"
     ]
    },
    {
     "name": "stderr",
     "output_type": "stream",
     "text": [
      "\r",
      " 93%|██████████████████████████████████████████████████████████████████████████████████████████████████████████████████████████████████████████████████████████▏          | 355/380 [03:32<00:16,  1.56it/s]"
     ]
    },
    {
     "name": "stdout",
     "output_type": "stream",
     "text": [
      "torch.Size([1, 1, 512])\n"
     ]
    },
    {
     "name": "stderr",
     "output_type": "stream",
     "text": [
      "\r",
      " 94%|██████████████████████████████████████████████████████████████████████████████████████████████████████████████████████████████████████████████████████████▌          | 356/380 [03:33<00:16,  1.50it/s]"
     ]
    },
    {
     "name": "stdout",
     "output_type": "stream",
     "text": [
      "torch.Size([1, 1, 512])\n"
     ]
    },
    {
     "name": "stderr",
     "output_type": "stream",
     "text": [
      "\r",
      " 94%|███████████████████████████████████████████████████████████████████████████████████████████████████████████████████████████████████████████████████████████          | 357/380 [03:34<00:16,  1.38it/s]"
     ]
    },
    {
     "name": "stdout",
     "output_type": "stream",
     "text": [
      "torch.Size([1, 1, 512])\n"
     ]
    },
    {
     "name": "stderr",
     "output_type": "stream",
     "text": [
      "\r",
      " 94%|███████████████████████████████████████████████████████████████████████████████████████████████████████████████████████████████████████████████████████████▍         | 358/380 [03:35<00:15,  1.40it/s]"
     ]
    },
    {
     "name": "stdout",
     "output_type": "stream",
     "text": [
      "torch.Size([1, 1, 512])\n"
     ]
    },
    {
     "name": "stderr",
     "output_type": "stream",
     "text": [
      "\r",
      " 94%|███████████████████████████████████████████████████████████████████████████████████████████████████████████████████████████████████████████████████████████▉         | 359/380 [03:35<00:14,  1.48it/s]"
     ]
    },
    {
     "name": "stdout",
     "output_type": "stream",
     "text": [
      "torch.Size([1, 1, 512])\n"
     ]
    },
    {
     "name": "stderr",
     "output_type": "stream",
     "text": [
      "\r",
      " 95%|████████████████████████████████████████████████████████████████████████████████████████████████████████████████████████████████████████████████████████████▎        | 360/380 [03:36<00:11,  1.70it/s]"
     ]
    },
    {
     "name": "stdout",
     "output_type": "stream",
     "text": [
      "torch.Size([1, 1, 512])\n"
     ]
    },
    {
     "name": "stderr",
     "output_type": "stream",
     "text": [
      "\r",
      " 95%|████████████████████████████████████████████████████████████████████████████████████████████████████████████████████████████████████████████████████████████▊        | 361/380 [03:36<00:10,  1.85it/s]"
     ]
    },
    {
     "name": "stdout",
     "output_type": "stream",
     "text": [
      "torch.Size([1, 1, 512])\n"
     ]
    },
    {
     "name": "stderr",
     "output_type": "stream",
     "text": [
      "\r",
      " 95%|█████████████████████████████████████████████████████████████████████████████████████████████████████████████████████████████████████████████████████████████▏       | 362/380 [03:37<00:10,  1.76it/s]"
     ]
    },
    {
     "name": "stdout",
     "output_type": "stream",
     "text": [
      "torch.Size([1, 1, 512])\n"
     ]
    },
    {
     "name": "stderr",
     "output_type": "stream",
     "text": [
      "\r",
      " 96%|█████████████████████████████████████████████████████████████████████████████████████████████████████████████████████████████████████████████████████████████▌       | 363/380 [03:38<00:11,  1.46it/s]"
     ]
    },
    {
     "name": "stdout",
     "output_type": "stream",
     "text": [
      "torch.Size([1, 1, 512])\n"
     ]
    },
    {
     "name": "stderr",
     "output_type": "stream",
     "text": [
      "\r",
      " 96%|██████████████████████████████████████████████████████████████████████████████████████████████████████████████████████████████████████████████████████████████       | 364/380 [03:38<00:09,  1.73it/s]"
     ]
    },
    {
     "name": "stdout",
     "output_type": "stream",
     "text": [
      "torch.Size([1, 1, 512])\n"
     ]
    },
    {
     "name": "stderr",
     "output_type": "stream",
     "text": [
      "\r",
      " 96%|██████████████████████████████████████████████████████████████████████████████████████████████████████████████████████████████████████████████████████████████▍      | 365/380 [03:39<00:09,  1.59it/s]"
     ]
    },
    {
     "name": "stdout",
     "output_type": "stream",
     "text": [
      "torch.Size([1, 1, 512])\n"
     ]
    },
    {
     "name": "stderr",
     "output_type": "stream",
     "text": [
      "\r",
      " 96%|██████████████████████████████████████████████████████████████████████████████████████████████████████████████████████████████████████████████████████████████▉      | 366/380 [03:40<00:09,  1.43it/s]"
     ]
    },
    {
     "name": "stdout",
     "output_type": "stream",
     "text": [
      "torch.Size([1, 1, 512])\n"
     ]
    },
    {
     "name": "stderr",
     "output_type": "stream",
     "text": [
      "\r",
      " 97%|███████████████████████████████████████████████████████████████████████████████████████████████████████████████████████████████████████████████████████████████▎     | 367/380 [03:40<00:08,  1.54it/s]"
     ]
    },
    {
     "name": "stdout",
     "output_type": "stream",
     "text": [
      "torch.Size([1, 1, 512])\n"
     ]
    },
    {
     "name": "stderr",
     "output_type": "stream",
     "text": [
      "\r",
      " 97%|███████████████████████████████████████████████████████████████████████████████████████████████████████████████████████████████████████████████████████████████▊     | 368/380 [03:41<00:08,  1.39it/s]"
     ]
    },
    {
     "name": "stdout",
     "output_type": "stream",
     "text": [
      "torch.Size([1, 1, 512])\n"
     ]
    },
    {
     "name": "stderr",
     "output_type": "stream",
     "text": [
      "\r",
      " 97%|████████████████████████████████████████████████████████████████████████████████████████████████████████████████████████████████████████████████████████████████▏    | 369/380 [03:42<00:08,  1.34it/s]"
     ]
    },
    {
     "name": "stdout",
     "output_type": "stream",
     "text": [
      "torch.Size([1, 1, 512])\n"
     ]
    },
    {
     "name": "stderr",
     "output_type": "stream",
     "text": [
      "\r",
      " 97%|████████████████████████████████████████████████████████████████████████████████████████████████████████████████████████████████████████████████████████████████▋    | 370/380 [03:42<00:06,  1.44it/s]"
     ]
    },
    {
     "name": "stdout",
     "output_type": "stream",
     "text": [
      "torch.Size([1, 1, 512])\n"
     ]
    },
    {
     "name": "stderr",
     "output_type": "stream",
     "text": [
      "\r",
      " 98%|█████████████████████████████████████████████████████████████████████████████████████████████████████████████████████████████████████████████████████████████████    | 371/380 [03:43<00:05,  1.64it/s]"
     ]
    },
    {
     "name": "stdout",
     "output_type": "stream",
     "text": [
      "torch.Size([1, 1, 512])\n"
     ]
    },
    {
     "name": "stderr",
     "output_type": "stream",
     "text": [
      "\r",
      " 98%|█████████████████████████████████████████████████████████████████████████████████████████████████████████████████████████████████████████████████████████████████▌   | 372/380 [03:44<00:05,  1.52it/s]"
     ]
    },
    {
     "name": "stdout",
     "output_type": "stream",
     "text": [
      "torch.Size([1, 1, 512])\n"
     ]
    },
    {
     "name": "stderr",
     "output_type": "stream",
     "text": [
      "\r",
      " 98%|█████████████████████████████████████████████████████████████████████████████████████████████████████████████████████████████████████████████████████████████████▉   | 373/380 [03:44<00:04,  1.54it/s]"
     ]
    },
    {
     "name": "stdout",
     "output_type": "stream",
     "text": [
      "torch.Size([1, 1, 512])\n"
     ]
    },
    {
     "name": "stderr",
     "output_type": "stream",
     "text": [
      "\r",
      " 98%|██████████████████████████████████████████████████████████████████████████████████████████████████████████████████████████████████████████████████████████████████▍  | 374/380 [03:45<00:04,  1.37it/s]"
     ]
    },
    {
     "name": "stdout",
     "output_type": "stream",
     "text": [
      "torch.Size([1, 1, 512])\n"
     ]
    },
    {
     "name": "stderr",
     "output_type": "stream",
     "text": [
      "\r",
      " 99%|██████████████████████████████████████████████████████████████████████████████████████████████████████████████████████████████████████████████████████████████████▊  | 375/380 [03:45<00:02,  1.69it/s]"
     ]
    },
    {
     "name": "stdout",
     "output_type": "stream",
     "text": [
      "torch.Size([1, 1, 512])\n"
     ]
    },
    {
     "name": "stderr",
     "output_type": "stream",
     "text": [
      "\r",
      " 99%|███████████████████████████████████████████████████████████████████████████████████████████████████████████████████████████████████████████████████████████████████▎ | 376/380 [03:46<00:02,  1.91it/s]"
     ]
    },
    {
     "name": "stdout",
     "output_type": "stream",
     "text": [
      "torch.Size([1, 1, 512])\n"
     ]
    },
    {
     "name": "stderr",
     "output_type": "stream",
     "text": [
      "\r",
      " 99%|███████████████████████████████████████████████████████████████████████████████████████████████████████████████████████████████████████████████████████████████████▋ | 377/380 [03:46<00:01,  2.01it/s]"
     ]
    },
    {
     "name": "stdout",
     "output_type": "stream",
     "text": [
      "torch.Size([1, 1, 512])\n"
     ]
    },
    {
     "name": "stderr",
     "output_type": "stream",
     "text": [
      "\r",
      " 99%|████████████████████████████████████████████████████████████████████████████████████████████████████████████████████████████████████████████████████████████████████▏| 378/380 [03:47<00:01,  1.90it/s]"
     ]
    },
    {
     "name": "stdout",
     "output_type": "stream",
     "text": [
      "torch.Size([1, 1, 512])\n"
     ]
    },
    {
     "name": "stderr",
     "output_type": "stream",
     "text": [
      "\r",
      "100%|████████████████████████████████████████████████████████████████████████████████████████████████████████████████████████████████████████████████████████████████████▌| 379/380 [03:47<00:00,  2.11it/s]"
     ]
    },
    {
     "name": "stdout",
     "output_type": "stream",
     "text": [
      "torch.Size([1, 1, 512])\n"
     ]
    },
    {
     "name": "stderr",
     "output_type": "stream",
     "text": [
      "100%|█████████████████████████████████████████████████████████████████████████████████████████████████████████████████████████████████████████████████████████████████████| 380/380 [03:48<00:00,  1.66it/s]\n"
     ]
    }
   ],
   "source": [
    "# https://huggingface.co/microsoft/speecht5_vc\n",
    "filenames = glob.glob('loco_4_extracted_wavs/noisy_speech_16k/*.wav')\n",
    "save_dir = 'loco_4_extracted_wavs/gt_speech_16k_vocal'\n",
    "# if not os.path.exists(save_dir): os.mkdir(save_dir)\n",
    "for voicename in tqdm(filenames):\n",
    "    basename = os.path.basename(voicename).replace('.wav', '')\n",
    "    savename = os.path.join(save_dir, f'{basename}.wav')\n",
    "    try:\n",
    "#         print(basename, '\\n\\t', savename)\n",
    "        # GET FILE SIGNAL\n",
    "        filename = f'loco_4_extracted_wavs/gt_speech_16k/{basename}.wav'\n",
    "        assert os.path.exists(filename)\n",
    "        signal, fs =torchaudio.load(filename)\n",
    "        assert fs == 16000, fs\n",
    "        inputs = processor(audio=signal, sampling_rate=fs, return_tensors=\"pt\")\n",
    "        inputs = {key: val.to(device) for key, val in inputs.items()}\n",
    "        # GET VOICE EMBEDDINGS\n",
    "        signal_voice, fs_voice =torchaudio.load(voicename)\n",
    "        assert fs_voice == 16000, fs_voice\n",
    "        speaker_embeddings = classifier.encode_batch(signal_voice).squeeze(0)\n",
    "        # VOICE CONVERSION\n",
    "        speech = model.generate_speech(inputs[\"input_values\"].squeeze(0), speaker_embeddings, vocoder=vocoder)\n",
    "        sf.write(savename, speech.cpu().numpy(), samplerate=16000)\n",
    "    except Exception as e:\n",
    "        print(e)\n",
    "        print(f'Cannot TTS for {voicename}: {sent}')"
   ]
  },
  {
   "cell_type": "code",
   "execution_count": null,
   "metadata": {},
   "outputs": [],
   "source": [
    "# tts();"
   ]
  },
  {
   "cell_type": "code",
   "execution_count": null,
   "metadata": {},
   "outputs": [],
   "source": [
    "# tts_speaker_voice();"
   ]
  },
  {
   "cell_type": "code",
   "execution_count": 4,
   "metadata": {},
   "outputs": [
    {
     "name": "stderr",
     "output_type": "stream",
     "text": [
      "\r",
      "  0%|                                                                                                                                                                             | 0/405 [00:00<?, ?it/s]"
     ]
    },
    {
     "name": "stdout",
     "output_type": "stream",
     "text": [
      "torch.Size([1, 1, 512])\n"
     ]
    },
    {
     "name": "stderr",
     "output_type": "stream",
     "text": [
      "\r",
      "  0%|▍                                                                                                                                                                    | 1/405 [00:01<09:00,  1.34s/it]"
     ]
    },
    {
     "name": "stdout",
     "output_type": "stream",
     "text": [
      "torch.Size([1, 1, 512])\n"
     ]
    },
    {
     "name": "stderr",
     "output_type": "stream",
     "text": [
      "\r",
      "  0%|▊                                                                                                                                                                    | 2/405 [00:01<05:54,  1.14it/s]"
     ]
    },
    {
     "name": "stdout",
     "output_type": "stream",
     "text": [
      "torch.Size([1, 1, 512])\n"
     ]
    },
    {
     "name": "stderr",
     "output_type": "stream",
     "text": [
      "\r",
      "  1%|█▏                                                                                                                                                                   | 3/405 [00:02<04:03,  1.65it/s]"
     ]
    },
    {
     "name": "stdout",
     "output_type": "stream",
     "text": [
      "torch.Size([1, 1, 512])\n"
     ]
    },
    {
     "name": "stderr",
     "output_type": "stream",
     "text": [
      "\r",
      "  1%|█▋                                                                                                                                                                   | 4/405 [00:02<03:51,  1.73it/s]"
     ]
    },
    {
     "name": "stdout",
     "output_type": "stream",
     "text": [
      "torch.Size([1, 1, 512])\n"
     ]
    },
    {
     "name": "stderr",
     "output_type": "stream",
     "text": [
      "\r",
      "  1%|██                                                                                                                                                                   | 5/405 [00:03<03:54,  1.70it/s]"
     ]
    },
    {
     "name": "stdout",
     "output_type": "stream",
     "text": [
      "torch.Size([1, 1, 512])\n"
     ]
    },
    {
     "name": "stderr",
     "output_type": "stream",
     "text": [
      "\r",
      "  1%|██▍                                                                                                                                                                  | 6/405 [00:03<03:40,  1.81it/s]"
     ]
    },
    {
     "name": "stdout",
     "output_type": "stream",
     "text": [
      "torch.Size([1, 1, 512])\n"
     ]
    },
    {
     "name": "stderr",
     "output_type": "stream",
     "text": [
      "\r",
      "  2%|██▊                                                                                                                                                                  | 7/405 [00:04<03:02,  2.18it/s]"
     ]
    },
    {
     "name": "stdout",
     "output_type": "stream",
     "text": [
      "torch.Size([1, 1, 512])\n"
     ]
    },
    {
     "name": "stderr",
     "output_type": "stream",
     "text": [
      "\r",
      "  2%|███▎                                                                                                                                                                 | 8/405 [00:04<03:11,  2.07it/s]"
     ]
    },
    {
     "name": "stdout",
     "output_type": "stream",
     "text": [
      "torch.Size([1, 1, 512])\n"
     ]
    },
    {
     "name": "stderr",
     "output_type": "stream",
     "text": [
      "\r",
      "  2%|███▋                                                                                                                                                                 | 9/405 [00:05<03:23,  1.95it/s]"
     ]
    },
    {
     "name": "stdout",
     "output_type": "stream",
     "text": [
      "torch.Size([1, 1, 512])\n"
     ]
    },
    {
     "name": "stderr",
     "output_type": "stream",
     "text": [
      "\r",
      "  2%|████                                                                                                                                                                | 10/405 [00:05<03:32,  1.86it/s]"
     ]
    },
    {
     "name": "stdout",
     "output_type": "stream",
     "text": [
      "torch.Size([1, 1, 512])\n"
     ]
    },
    {
     "name": "stderr",
     "output_type": "stream",
     "text": [
      "\r",
      "  3%|████▍                                                                                                                                                               | 11/405 [00:06<03:30,  1.88it/s]"
     ]
    },
    {
     "name": "stdout",
     "output_type": "stream",
     "text": [
      "torch.Size([1, 1, 512])\n"
     ]
    },
    {
     "name": "stderr",
     "output_type": "stream",
     "text": [
      "\r",
      "  3%|████▊                                                                                                                                                               | 12/405 [00:06<03:16,  2.00it/s]"
     ]
    },
    {
     "name": "stdout",
     "output_type": "stream",
     "text": [
      "torch.Size([1, 1, 512])\n"
     ]
    },
    {
     "name": "stderr",
     "output_type": "stream",
     "text": [
      "\r",
      "  3%|█████▎                                                                                                                                                              | 13/405 [00:07<03:20,  1.96it/s]"
     ]
    },
    {
     "name": "stdout",
     "output_type": "stream",
     "text": [
      "torch.Size([1, 1, 512])\n"
     ]
    },
    {
     "name": "stderr",
     "output_type": "stream",
     "text": [
      "\r",
      "  3%|█████▋                                                                                                                                                              | 14/405 [00:07<03:17,  1.98it/s]"
     ]
    },
    {
     "name": "stdout",
     "output_type": "stream",
     "text": [
      "torch.Size([1, 1, 512])\n"
     ]
    },
    {
     "name": "stderr",
     "output_type": "stream",
     "text": [
      "\r",
      "  4%|██████                                                                                                                                                              | 15/405 [00:08<03:18,  1.96it/s]"
     ]
    },
    {
     "name": "stdout",
     "output_type": "stream",
     "text": [
      "torch.Size([1, 1, 512])\n"
     ]
    },
    {
     "name": "stderr",
     "output_type": "stream",
     "text": [
      "\r",
      "  4%|██████▍                                                                                                                                                             | 16/405 [00:08<03:32,  1.83it/s]"
     ]
    },
    {
     "name": "stdout",
     "output_type": "stream",
     "text": [
      "torch.Size([1, 1, 512])\n"
     ]
    },
    {
     "name": "stderr",
     "output_type": "stream",
     "text": [
      "\r",
      "  4%|██████▉                                                                                                                                                             | 17/405 [00:09<03:38,  1.78it/s]"
     ]
    },
    {
     "name": "stdout",
     "output_type": "stream",
     "text": [
      "torch.Size([1, 1, 512])\n"
     ]
    },
    {
     "name": "stderr",
     "output_type": "stream",
     "text": [
      "\r",
      "  4%|███████▎                                                                                                                                                            | 18/405 [00:09<03:29,  1.85it/s]"
     ]
    },
    {
     "name": "stdout",
     "output_type": "stream",
     "text": [
      "torch.Size([1, 1, 512])\n"
     ]
    },
    {
     "name": "stderr",
     "output_type": "stream",
     "text": [
      "\r",
      "  5%|███████▋                                                                                                                                                            | 19/405 [00:10<03:23,  1.89it/s]"
     ]
    },
    {
     "name": "stdout",
     "output_type": "stream",
     "text": [
      "torch.Size([1, 1, 512])\n"
     ]
    },
    {
     "name": "stderr",
     "output_type": "stream",
     "text": [
      "\r",
      "  5%|████████                                                                                                                                                            | 20/405 [00:11<03:26,  1.86it/s]"
     ]
    },
    {
     "name": "stdout",
     "output_type": "stream",
     "text": [
      "torch.Size([1, 1, 512])\n"
     ]
    },
    {
     "name": "stderr",
     "output_type": "stream",
     "text": [
      "\r",
      "  5%|████████▌                                                                                                                                                           | 21/405 [00:11<03:19,  1.92it/s]"
     ]
    },
    {
     "name": "stdout",
     "output_type": "stream",
     "text": [
      "torch.Size([1, 1, 512])\n"
     ]
    },
    {
     "name": "stderr",
     "output_type": "stream",
     "text": [
      "\r",
      "  5%|████████▉                                                                                                                                                           | 22/405 [00:12<03:21,  1.90it/s]"
     ]
    },
    {
     "name": "stdout",
     "output_type": "stream",
     "text": [
      "torch.Size([1, 1, 512])\n"
     ]
    },
    {
     "name": "stderr",
     "output_type": "stream",
     "text": [
      "\r",
      "  6%|█████████▎                                                                                                                                                          | 23/405 [00:12<03:17,  1.93it/s]"
     ]
    },
    {
     "name": "stdout",
     "output_type": "stream",
     "text": [
      "torch.Size([1, 1, 512])\n"
     ]
    },
    {
     "name": "stderr",
     "output_type": "stream",
     "text": [
      "\r",
      "  6%|█████████▋                                                                                                                                                          | 24/405 [00:13<03:15,  1.95it/s]"
     ]
    },
    {
     "name": "stdout",
     "output_type": "stream",
     "text": [
      "torch.Size([1, 1, 512])\n"
     ]
    },
    {
     "name": "stderr",
     "output_type": "stream",
     "text": [
      "\r",
      "  6%|██████████                                                                                                                                                          | 25/405 [00:13<03:05,  2.05it/s]"
     ]
    },
    {
     "name": "stdout",
     "output_type": "stream",
     "text": [
      "torch.Size([1, 1, 512])\n"
     ]
    },
    {
     "name": "stderr",
     "output_type": "stream",
     "text": [
      "\r",
      "  6%|██████████▌                                                                                                                                                         | 26/405 [00:14<03:19,  1.90it/s]"
     ]
    },
    {
     "name": "stdout",
     "output_type": "stream",
     "text": [
      "torch.Size([1, 1, 512])\n"
     ]
    },
    {
     "name": "stderr",
     "output_type": "stream",
     "text": [
      "\r",
      "  7%|██████████▉                                                                                                                                                         | 27/405 [00:14<03:35,  1.75it/s]"
     ]
    },
    {
     "name": "stdout",
     "output_type": "stream",
     "text": [
      "torch.Size([1, 1, 512])\n"
     ]
    },
    {
     "name": "stderr",
     "output_type": "stream",
     "text": [
      "\r",
      "  7%|███████████▎                                                                                                                                                        | 28/405 [00:15<03:08,  2.00it/s]"
     ]
    },
    {
     "name": "stdout",
     "output_type": "stream",
     "text": [
      "torch.Size([1, 1, 512])\n"
     ]
    },
    {
     "name": "stderr",
     "output_type": "stream",
     "text": [
      "\r",
      "  7%|███████████▋                                                                                                                                                        | 29/405 [00:15<03:13,  1.94it/s]"
     ]
    },
    {
     "name": "stdout",
     "output_type": "stream",
     "text": [
      "torch.Size([1, 1, 512])\n"
     ]
    },
    {
     "name": "stderr",
     "output_type": "stream",
     "text": [
      "\r",
      "  7%|████████████▏                                                                                                                                                       | 30/405 [00:16<03:19,  1.88it/s]"
     ]
    },
    {
     "name": "stdout",
     "output_type": "stream",
     "text": [
      "torch.Size([1, 1, 512])\n"
     ]
    },
    {
     "name": "stderr",
     "output_type": "stream",
     "text": [
      "\r",
      "  8%|████████████▌                                                                                                                                                       | 31/405 [00:16<03:13,  1.94it/s]"
     ]
    },
    {
     "name": "stdout",
     "output_type": "stream",
     "text": [
      "torch.Size([1, 1, 512])\n"
     ]
    },
    {
     "name": "stderr",
     "output_type": "stream",
     "text": [
      "\r",
      "  8%|████████████▉                                                                                                                                                       | 32/405 [00:17<03:12,  1.94it/s]"
     ]
    },
    {
     "name": "stdout",
     "output_type": "stream",
     "text": [
      "torch.Size([1, 1, 512])\n"
     ]
    },
    {
     "name": "stderr",
     "output_type": "stream",
     "text": [
      "\r",
      "  8%|█████████████▎                                                                                                                                                      | 33/405 [00:17<03:03,  2.03it/s]"
     ]
    },
    {
     "name": "stdout",
     "output_type": "stream",
     "text": [
      "torch.Size([1, 1, 512])\n"
     ]
    },
    {
     "name": "stderr",
     "output_type": "stream",
     "text": [
      "\r",
      "  8%|█████████████▊                                                                                                                                                      | 34/405 [00:18<03:00,  2.05it/s]"
     ]
    },
    {
     "name": "stdout",
     "output_type": "stream",
     "text": [
      "torch.Size([1, 1, 512])\n"
     ]
    },
    {
     "name": "stderr",
     "output_type": "stream",
     "text": [
      "\r",
      "  9%|██████████████▏                                                                                                                                                     | 35/405 [00:18<03:08,  1.96it/s]"
     ]
    },
    {
     "name": "stdout",
     "output_type": "stream",
     "text": [
      "torch.Size([1, 1, 512])\n"
     ]
    },
    {
     "name": "stderr",
     "output_type": "stream",
     "text": [
      "\r",
      "  9%|██████████████▌                                                                                                                                                     | 36/405 [00:19<03:05,  1.99it/s]"
     ]
    },
    {
     "name": "stdout",
     "output_type": "stream",
     "text": [
      "torch.Size([1, 1, 512])\n"
     ]
    },
    {
     "name": "stderr",
     "output_type": "stream",
     "text": [
      "\r",
      "  9%|██████████████▉                                                                                                                                                     | 37/405 [00:19<02:43,  2.25it/s]"
     ]
    },
    {
     "name": "stdout",
     "output_type": "stream",
     "text": [
      "torch.Size([1, 1, 512])\n"
     ]
    },
    {
     "name": "stderr",
     "output_type": "stream",
     "text": [
      "\r",
      "  9%|███████████████▍                                                                                                                                                    | 38/405 [00:19<02:27,  2.48it/s]"
     ]
    },
    {
     "name": "stdout",
     "output_type": "stream",
     "text": [
      "torch.Size([1, 1, 512])\n"
     ]
    },
    {
     "name": "stderr",
     "output_type": "stream",
     "text": [
      "\r",
      " 10%|███████████████▊                                                                                                                                                    | 39/405 [00:20<02:42,  2.25it/s]"
     ]
    },
    {
     "name": "stdout",
     "output_type": "stream",
     "text": [
      "torch.Size([1, 1, 512])\n"
     ]
    },
    {
     "name": "stderr",
     "output_type": "stream",
     "text": [
      "\r",
      " 10%|████████████████▏                                                                                                                                                   | 40/405 [00:20<02:56,  2.07it/s]"
     ]
    },
    {
     "name": "stdout",
     "output_type": "stream",
     "text": [
      "torch.Size([1, 1, 512])\n"
     ]
    },
    {
     "name": "stderr",
     "output_type": "stream",
     "text": [
      "\r",
      " 10%|████████████████▌                                                                                                                                                   | 41/405 [00:21<03:01,  2.00it/s]"
     ]
    },
    {
     "name": "stdout",
     "output_type": "stream",
     "text": [
      "torch.Size([1, 1, 512])\n"
     ]
    },
    {
     "name": "stderr",
     "output_type": "stream",
     "text": [
      "\r",
      " 10%|█████████████████                                                                                                                                                   | 42/405 [00:22<03:11,  1.89it/s]"
     ]
    },
    {
     "name": "stdout",
     "output_type": "stream",
     "text": [
      "torch.Size([1, 1, 512])\n"
     ]
    },
    {
     "name": "stderr",
     "output_type": "stream",
     "text": [
      "\r",
      " 11%|█████████████████▍                                                                                                                                                  | 43/405 [00:22<03:12,  1.88it/s]"
     ]
    },
    {
     "name": "stdout",
     "output_type": "stream",
     "text": [
      "torch.Size([1, 1, 512])\n"
     ]
    },
    {
     "name": "stderr",
     "output_type": "stream",
     "text": [
      "\r",
      " 11%|█████████████████▊                                                                                                                                                  | 44/405 [00:23<03:10,  1.89it/s]"
     ]
    },
    {
     "name": "stdout",
     "output_type": "stream",
     "text": [
      "torch.Size([1, 1, 512])\n"
     ]
    },
    {
     "name": "stderr",
     "output_type": "stream",
     "text": [
      "\r",
      " 11%|██████████████████▏                                                                                                                                                 | 45/405 [00:23<03:32,  1.70it/s]"
     ]
    },
    {
     "name": "stdout",
     "output_type": "stream",
     "text": [
      "torch.Size([1, 1, 512])\n"
     ]
    },
    {
     "name": "stderr",
     "output_type": "stream",
     "text": [
      "\r",
      " 11%|██████████████████▋                                                                                                                                                 | 46/405 [00:24<03:26,  1.73it/s]"
     ]
    },
    {
     "name": "stdout",
     "output_type": "stream",
     "text": [
      "torch.Size([1, 1, 512])\n"
     ]
    },
    {
     "name": "stderr",
     "output_type": "stream",
     "text": [
      "\r",
      " 12%|███████████████████                                                                                                                                                 | 47/405 [00:24<03:11,  1.87it/s]"
     ]
    },
    {
     "name": "stdout",
     "output_type": "stream",
     "text": [
      "torch.Size([1, 1, 512])\n"
     ]
    },
    {
     "name": "stderr",
     "output_type": "stream",
     "text": [
      "\r",
      " 12%|███████████████████▍                                                                                                                                                | 48/405 [00:25<03:12,  1.86it/s]"
     ]
    },
    {
     "name": "stdout",
     "output_type": "stream",
     "text": [
      "torch.Size([1, 1, 512])\n"
     ]
    },
    {
     "name": "stderr",
     "output_type": "stream",
     "text": [
      "\r",
      " 12%|███████████████████▊                                                                                                                                                | 49/405 [00:25<03:15,  1.82it/s]"
     ]
    },
    {
     "name": "stdout",
     "output_type": "stream",
     "text": [
      "torch.Size([1, 1, 512])\n"
     ]
    },
    {
     "name": "stderr",
     "output_type": "stream",
     "text": [
      "\r",
      " 12%|████████████████████▏                                                                                                                                               | 50/405 [00:26<03:20,  1.77it/s]"
     ]
    },
    {
     "name": "stdout",
     "output_type": "stream",
     "text": [
      "torch.Size([1, 1, 512])\n"
     ]
    },
    {
     "name": "stderr",
     "output_type": "stream",
     "text": [
      "\r",
      " 13%|████████████████████▋                                                                                                                                               | 51/405 [00:27<03:10,  1.86it/s]"
     ]
    },
    {
     "name": "stdout",
     "output_type": "stream",
     "text": [
      "torch.Size([1, 1, 512])\n"
     ]
    },
    {
     "name": "stderr",
     "output_type": "stream",
     "text": [
      "\r",
      " 13%|█████████████████████                                                                                                                                               | 52/405 [00:27<03:09,  1.86it/s]"
     ]
    },
    {
     "name": "stdout",
     "output_type": "stream",
     "text": [
      "torch.Size([1, 1, 512])\n"
     ]
    },
    {
     "name": "stderr",
     "output_type": "stream",
     "text": [
      "\r",
      " 13%|█████████████████████▍                                                                                                                                              | 53/405 [00:28<03:09,  1.86it/s]"
     ]
    },
    {
     "name": "stdout",
     "output_type": "stream",
     "text": [
      "torch.Size([1, 1, 512])\n"
     ]
    },
    {
     "name": "stderr",
     "output_type": "stream",
     "text": [
      "\r",
      " 13%|█████████████████████▊                                                                                                                                              | 54/405 [00:28<03:12,  1.83it/s]"
     ]
    },
    {
     "name": "stdout",
     "output_type": "stream",
     "text": [
      "torch.Size([1, 1, 512])\n"
     ]
    },
    {
     "name": "stderr",
     "output_type": "stream",
     "text": [
      "\r",
      " 14%|██████████████████████▎                                                                                                                                             | 55/405 [00:29<03:08,  1.86it/s]"
     ]
    },
    {
     "name": "stdout",
     "output_type": "stream",
     "text": [
      "torch.Size([1, 1, 512])\n"
     ]
    },
    {
     "name": "stderr",
     "output_type": "stream",
     "text": [
      "\r",
      " 14%|██████████████████████▋                                                                                                                                             | 56/405 [00:29<03:02,  1.92it/s]"
     ]
    },
    {
     "name": "stdout",
     "output_type": "stream",
     "text": [
      "torch.Size([1, 1, 512])\n"
     ]
    },
    {
     "name": "stderr",
     "output_type": "stream",
     "text": [
      "\r",
      " 14%|███████████████████████                                                                                                                                             | 57/405 [00:30<02:57,  1.96it/s]"
     ]
    },
    {
     "name": "stdout",
     "output_type": "stream",
     "text": [
      "torch.Size([1, 1, 512])\n"
     ]
    },
    {
     "name": "stderr",
     "output_type": "stream",
     "text": [
      "\r",
      " 14%|███████████████████████▍                                                                                                                                            | 58/405 [00:30<02:57,  1.96it/s]"
     ]
    },
    {
     "name": "stdout",
     "output_type": "stream",
     "text": [
      "torch.Size([1, 1, 512])\n"
     ]
    },
    {
     "name": "stderr",
     "output_type": "stream",
     "text": [
      "\r",
      " 15%|███████████████████████▉                                                                                                                                            | 59/405 [00:31<03:04,  1.87it/s]"
     ]
    },
    {
     "name": "stdout",
     "output_type": "stream",
     "text": [
      "torch.Size([1, 1, 512])\n"
     ]
    },
    {
     "name": "stderr",
     "output_type": "stream",
     "text": [
      "\r",
      " 15%|████████████████████████▎                                                                                                                                           | 60/405 [00:31<02:38,  2.18it/s]"
     ]
    },
    {
     "name": "stdout",
     "output_type": "stream",
     "text": [
      "torch.Size([1, 1, 512])\n"
     ]
    },
    {
     "name": "stderr",
     "output_type": "stream",
     "text": [
      "\r",
      " 15%|████████████████████████▋                                                                                                                                           | 61/405 [00:32<02:42,  2.12it/s]"
     ]
    },
    {
     "name": "stdout",
     "output_type": "stream",
     "text": [
      "torch.Size([1, 1, 512])\n"
     ]
    },
    {
     "name": "stderr",
     "output_type": "stream",
     "text": [
      "\r",
      " 15%|█████████████████████████                                                                                                                                           | 62/405 [00:32<02:56,  1.94it/s]"
     ]
    },
    {
     "name": "stdout",
     "output_type": "stream",
     "text": [
      "torch.Size([1, 1, 512])\n"
     ]
    },
    {
     "name": "stderr",
     "output_type": "stream",
     "text": [
      "\r",
      " 16%|█████████████████████████▌                                                                                                                                          | 63/405 [00:33<03:00,  1.89it/s]"
     ]
    },
    {
     "name": "stdout",
     "output_type": "stream",
     "text": [
      "torch.Size([1, 1, 512])\n"
     ]
    },
    {
     "name": "stderr",
     "output_type": "stream",
     "text": [
      "\r",
      " 16%|█████████████████████████▉                                                                                                                                          | 64/405 [00:33<03:00,  1.89it/s]"
     ]
    },
    {
     "name": "stdout",
     "output_type": "stream",
     "text": [
      "torch.Size([1, 1, 512])\n"
     ]
    },
    {
     "name": "stderr",
     "output_type": "stream",
     "text": [
      "\r",
      " 16%|██████████████████████████▎                                                                                                                                         | 65/405 [00:34<02:51,  1.98it/s]"
     ]
    },
    {
     "name": "stdout",
     "output_type": "stream",
     "text": [
      "torch.Size([1, 1, 512])\n"
     ]
    },
    {
     "name": "stderr",
     "output_type": "stream",
     "text": [
      "\r",
      " 16%|██████████████████████████▋                                                                                                                                         | 66/405 [00:34<02:52,  1.96it/s]"
     ]
    },
    {
     "name": "stdout",
     "output_type": "stream",
     "text": [
      "torch.Size([1, 1, 512])\n"
     ]
    },
    {
     "name": "stderr",
     "output_type": "stream",
     "text": [
      "\r",
      " 17%|███████████████████████████▏                                                                                                                                        | 67/405 [00:35<02:41,  2.09it/s]"
     ]
    },
    {
     "name": "stdout",
     "output_type": "stream",
     "text": [
      "torch.Size([1, 1, 512])\n"
     ]
    },
    {
     "name": "stderr",
     "output_type": "stream",
     "text": [
      "\r",
      " 17%|███████████████████████████▌                                                                                                                                        | 68/405 [00:35<02:42,  2.07it/s]"
     ]
    },
    {
     "name": "stdout",
     "output_type": "stream",
     "text": [
      "torch.Size([1, 1, 512])\n"
     ]
    },
    {
     "name": "stderr",
     "output_type": "stream",
     "text": [
      "\r",
      " 17%|███████████████████████████▉                                                                                                                                        | 69/405 [00:36<02:33,  2.19it/s]"
     ]
    },
    {
     "name": "stdout",
     "output_type": "stream",
     "text": [
      "torch.Size([1, 1, 512])\n"
     ]
    },
    {
     "name": "stderr",
     "output_type": "stream",
     "text": [
      "\r",
      " 17%|████████████████████████████▎                                                                                                                                       | 70/405 [00:36<02:12,  2.53it/s]"
     ]
    },
    {
     "name": "stdout",
     "output_type": "stream",
     "text": [
      "torch.Size([1, 1, 512])\n"
     ]
    },
    {
     "name": "stderr",
     "output_type": "stream",
     "text": [
      "\r",
      " 18%|████████████████████████████▊                                                                                                                                       | 71/405 [00:36<02:22,  2.35it/s]"
     ]
    },
    {
     "name": "stdout",
     "output_type": "stream",
     "text": [
      "torch.Size([1, 1, 512])\n"
     ]
    },
    {
     "name": "stderr",
     "output_type": "stream",
     "text": [
      "\r",
      " 18%|█████████████████████████████▏                                                                                                                                      | 72/405 [00:37<02:30,  2.21it/s]"
     ]
    },
    {
     "name": "stdout",
     "output_type": "stream",
     "text": [
      "torch.Size([1, 1, 512])\n"
     ]
    },
    {
     "name": "stderr",
     "output_type": "stream",
     "text": [
      " 18%|█████████████████████████████▉                                                                                                                                      | 74/405 [00:37<02:04,  2.65it/s]"
     ]
    },
    {
     "name": "stdout",
     "output_type": "stream",
     "text": [
      "torch.Size([1, 1, 512])\n",
      "torch.Size([1, 1, 512])\n"
     ]
    },
    {
     "name": "stderr",
     "output_type": "stream",
     "text": [
      "\r",
      " 19%|██████████████████████████████▎                                                                                                                                     | 75/405 [00:38<02:10,  2.52it/s]"
     ]
    },
    {
     "name": "stdout",
     "output_type": "stream",
     "text": [
      "torch.Size([1, 1, 512])\n"
     ]
    },
    {
     "name": "stderr",
     "output_type": "stream",
     "text": [
      "\r",
      " 19%|██████████████████████████████▊                                                                                                                                     | 76/405 [00:38<02:01,  2.70it/s]"
     ]
    },
    {
     "name": "stdout",
     "output_type": "stream",
     "text": [
      "torch.Size([1, 1, 512])\n"
     ]
    },
    {
     "name": "stderr",
     "output_type": "stream",
     "text": [
      "\r",
      " 19%|███████████████████████████████▏                                                                                                                                    | 77/405 [00:39<02:11,  2.50it/s]"
     ]
    },
    {
     "name": "stdout",
     "output_type": "stream",
     "text": [
      "torch.Size([1, 1, 512])\n"
     ]
    },
    {
     "name": "stderr",
     "output_type": "stream",
     "text": [
      "\r",
      " 19%|███████████████████████████████▌                                                                                                                                    | 78/405 [00:39<02:23,  2.27it/s]"
     ]
    },
    {
     "name": "stdout",
     "output_type": "stream",
     "text": [
      "torch.Size([1, 1, 512])\n"
     ]
    },
    {
     "name": "stderr",
     "output_type": "stream",
     "text": [
      "\r",
      " 20%|███████████████████████████████▉                                                                                                                                    | 79/405 [00:40<02:32,  2.14it/s]"
     ]
    },
    {
     "name": "stdout",
     "output_type": "stream",
     "text": [
      "torch.Size([1, 1, 512])\n"
     ]
    },
    {
     "name": "stderr",
     "output_type": "stream",
     "text": [
      "\r",
      " 20%|████████████████████████████████▍                                                                                                                                   | 80/405 [00:40<02:33,  2.12it/s]"
     ]
    },
    {
     "name": "stdout",
     "output_type": "stream",
     "text": [
      "torch.Size([1, 1, 512])\n"
     ]
    },
    {
     "name": "stderr",
     "output_type": "stream",
     "text": [
      "\r",
      " 20%|████████████████████████████████▊                                                                                                                                   | 81/405 [00:41<02:42,  1.99it/s]"
     ]
    },
    {
     "name": "stdout",
     "output_type": "stream",
     "text": [
      "torch.Size([1, 1, 512])\n"
     ]
    },
    {
     "name": "stderr",
     "output_type": "stream",
     "text": [
      "\r",
      " 20%|█████████████████████████████████▏                                                                                                                                  | 82/405 [00:41<02:34,  2.09it/s]"
     ]
    },
    {
     "name": "stdout",
     "output_type": "stream",
     "text": [
      "torch.Size([1, 1, 512])\n"
     ]
    },
    {
     "name": "stderr",
     "output_type": "stream",
     "text": [
      "\r",
      " 20%|█████████████████████████████████▌                                                                                                                                  | 83/405 [00:42<02:37,  2.04it/s]"
     ]
    },
    {
     "name": "stdout",
     "output_type": "stream",
     "text": [
      "torch.Size([1, 1, 512])\n"
     ]
    },
    {
     "name": "stderr",
     "output_type": "stream",
     "text": [
      "\r",
      " 21%|██████████████████████████████████                                                                                                                                  | 84/405 [00:42<02:40,  2.00it/s]"
     ]
    },
    {
     "name": "stdout",
     "output_type": "stream",
     "text": [
      "torch.Size([1, 1, 512])\n"
     ]
    },
    {
     "name": "stderr",
     "output_type": "stream",
     "text": [
      "\r",
      " 21%|██████████████████████████████████▍                                                                                                                                 | 85/405 [00:43<02:21,  2.26it/s]"
     ]
    },
    {
     "name": "stdout",
     "output_type": "stream",
     "text": [
      "torch.Size([1, 1, 512])\n"
     ]
    },
    {
     "name": "stderr",
     "output_type": "stream",
     "text": [
      "\r",
      " 21%|██████████████████████████████████▊                                                                                                                                 | 86/405 [00:43<02:33,  2.08it/s]"
     ]
    },
    {
     "name": "stdout",
     "output_type": "stream",
     "text": [
      "torch.Size([1, 1, 512])\n"
     ]
    },
    {
     "name": "stderr",
     "output_type": "stream",
     "text": [
      "\r",
      " 21%|███████████████████████████████████▏                                                                                                                                | 87/405 [00:43<02:11,  2.42it/s]"
     ]
    },
    {
     "name": "stdout",
     "output_type": "stream",
     "text": [
      "torch.Size([1, 1, 512])\n"
     ]
    },
    {
     "name": "stderr",
     "output_type": "stream",
     "text": [
      "\r",
      " 22%|███████████████████████████████████▋                                                                                                                                | 88/405 [00:44<02:23,  2.21it/s]"
     ]
    },
    {
     "name": "stdout",
     "output_type": "stream",
     "text": [
      "torch.Size([1, 1, 512])\n"
     ]
    },
    {
     "name": "stderr",
     "output_type": "stream",
     "text": [
      "\r",
      " 22%|████████████████████████████████████                                                                                                                                | 89/405 [00:44<02:23,  2.20it/s]"
     ]
    },
    {
     "name": "stdout",
     "output_type": "stream",
     "text": [
      "torch.Size([1, 1, 512])\n"
     ]
    },
    {
     "name": "stderr",
     "output_type": "stream",
     "text": [
      "\r",
      " 22%|████████████████████████████████████▍                                                                                                                               | 90/405 [00:45<02:45,  1.90it/s]"
     ]
    },
    {
     "name": "stdout",
     "output_type": "stream",
     "text": [
      "torch.Size([1, 1, 512])\n"
     ]
    },
    {
     "name": "stderr",
     "output_type": "stream",
     "text": [
      "\r",
      " 22%|████████████████████████████████████▊                                                                                                                               | 91/405 [00:46<02:41,  1.95it/s]"
     ]
    },
    {
     "name": "stdout",
     "output_type": "stream",
     "text": [
      "torch.Size([1, 1, 512])\n"
     ]
    },
    {
     "name": "stderr",
     "output_type": "stream",
     "text": [
      "\r",
      " 23%|█████████████████████████████████████▎                                                                                                                              | 92/405 [00:46<02:36,  2.00it/s]"
     ]
    },
    {
     "name": "stdout",
     "output_type": "stream",
     "text": [
      "torch.Size([1, 1, 512])\n"
     ]
    },
    {
     "name": "stderr",
     "output_type": "stream",
     "text": [
      "\r",
      " 23%|█████████████████████████████████████▋                                                                                                                              | 93/405 [00:47<02:38,  1.97it/s]"
     ]
    },
    {
     "name": "stdout",
     "output_type": "stream",
     "text": [
      "torch.Size([1, 1, 512])\n"
     ]
    },
    {
     "name": "stderr",
     "output_type": "stream",
     "text": [
      "\r",
      " 23%|██████████████████████████████████████                                                                                                                              | 94/405 [00:47<02:35,  2.00it/s]"
     ]
    },
    {
     "name": "stdout",
     "output_type": "stream",
     "text": [
      "torch.Size([1, 1, 512])\n"
     ]
    },
    {
     "name": "stderr",
     "output_type": "stream",
     "text": [
      "\r",
      " 23%|██████████████████████████████████████▍                                                                                                                             | 95/405 [00:48<02:41,  1.92it/s]"
     ]
    },
    {
     "name": "stdout",
     "output_type": "stream",
     "text": [
      "torch.Size([1, 1, 512])\n"
     ]
    },
    {
     "name": "stderr",
     "output_type": "stream",
     "text": [
      "\r",
      " 24%|██████████████████████████████████████▊                                                                                                                             | 96/405 [00:48<02:38,  1.95it/s]"
     ]
    },
    {
     "name": "stdout",
     "output_type": "stream",
     "text": [
      "torch.Size([1, 1, 512])\n"
     ]
    },
    {
     "name": "stderr",
     "output_type": "stream",
     "text": [
      "\r",
      " 24%|███████████████████████████████████████▎                                                                                                                            | 97/405 [00:49<02:35,  1.98it/s]"
     ]
    },
    {
     "name": "stdout",
     "output_type": "stream",
     "text": [
      "torch.Size([1, 1, 512])\n"
     ]
    },
    {
     "name": "stderr",
     "output_type": "stream",
     "text": [
      "\r",
      " 24%|███████████████████████████████████████▋                                                                                                                            | 98/405 [00:49<02:29,  2.05it/s]"
     ]
    },
    {
     "name": "stdout",
     "output_type": "stream",
     "text": [
      "torch.Size([1, 1, 512])\n"
     ]
    },
    {
     "name": "stderr",
     "output_type": "stream",
     "text": [
      "\r",
      " 24%|████████████████████████████████████████                                                                                                                            | 99/405 [00:50<02:41,  1.89it/s]"
     ]
    },
    {
     "name": "stdout",
     "output_type": "stream",
     "text": [
      "torch.Size([1, 1, 512])\n"
     ]
    },
    {
     "name": "stderr",
     "output_type": "stream",
     "text": [
      "\r",
      " 25%|████████████████████████████████████████▏                                                                                                                          | 100/405 [00:50<02:40,  1.90it/s]"
     ]
    },
    {
     "name": "stdout",
     "output_type": "stream",
     "text": [
      "torch.Size([1, 1, 512])\n"
     ]
    },
    {
     "name": "stderr",
     "output_type": "stream",
     "text": [
      "\r",
      " 25%|████████████████████████████████████████▋                                                                                                                          | 101/405 [00:51<02:33,  1.98it/s]"
     ]
    },
    {
     "name": "stdout",
     "output_type": "stream",
     "text": [
      "torch.Size([1, 1, 512])\n"
     ]
    },
    {
     "name": "stderr",
     "output_type": "stream",
     "text": [
      "\r",
      " 25%|█████████████████████████████████████████                                                                                                                          | 102/405 [00:51<02:31,  1.99it/s]"
     ]
    },
    {
     "name": "stdout",
     "output_type": "stream",
     "text": [
      "torch.Size([1, 1, 512])\n"
     ]
    },
    {
     "name": "stderr",
     "output_type": "stream",
     "text": [
      "\r",
      " 25%|█████████████████████████████████████████▍                                                                                                                         | 103/405 [00:51<02:10,  2.32it/s]"
     ]
    },
    {
     "name": "stdout",
     "output_type": "stream",
     "text": [
      "torch.Size([1, 1, 512])\n"
     ]
    },
    {
     "name": "stderr",
     "output_type": "stream",
     "text": [
      "\r",
      " 26%|█████████████████████████████████████████▊                                                                                                                         | 104/405 [00:52<02:13,  2.25it/s]"
     ]
    },
    {
     "name": "stdout",
     "output_type": "stream",
     "text": [
      "torch.Size([1, 1, 512])\n"
     ]
    },
    {
     "name": "stderr",
     "output_type": "stream",
     "text": [
      "\r",
      " 26%|██████████████████████████████████████████▎                                                                                                                        | 105/405 [00:52<02:19,  2.15it/s]"
     ]
    },
    {
     "name": "stdout",
     "output_type": "stream",
     "text": [
      "torch.Size([1, 1, 512])\n"
     ]
    },
    {
     "name": "stderr",
     "output_type": "stream",
     "text": [
      "\r",
      " 26%|██████████████████████████████████████████▋                                                                                                                        | 106/405 [00:53<02:21,  2.12it/s]"
     ]
    },
    {
     "name": "stdout",
     "output_type": "stream",
     "text": [
      "torch.Size([1, 1, 512])\n"
     ]
    },
    {
     "name": "stderr",
     "output_type": "stream",
     "text": [
      "\r",
      " 26%|███████████████████████████████████████████                                                                                                                        | 107/405 [00:53<02:21,  2.10it/s]"
     ]
    },
    {
     "name": "stdout",
     "output_type": "stream",
     "text": [
      "torch.Size([1, 1, 512])\n"
     ]
    },
    {
     "name": "stderr",
     "output_type": "stream",
     "text": [
      "\r",
      " 27%|███████████████████████████████████████████▍                                                                                                                       | 108/405 [00:54<02:27,  2.02it/s]"
     ]
    },
    {
     "name": "stdout",
     "output_type": "stream",
     "text": [
      "torch.Size([1, 1, 512])\n"
     ]
    },
    {
     "name": "stderr",
     "output_type": "stream",
     "text": [
      "\r",
      " 27%|███████████████████████████████████████████▊                                                                                                                       | 109/405 [00:54<02:31,  1.95it/s]"
     ]
    },
    {
     "name": "stdout",
     "output_type": "stream",
     "text": [
      "torch.Size([1, 1, 512])\n"
     ]
    },
    {
     "name": "stderr",
     "output_type": "stream",
     "text": [
      "\r",
      " 27%|████████████████████████████████████████████▎                                                                                                                      | 110/405 [00:55<02:36,  1.88it/s]"
     ]
    },
    {
     "name": "stdout",
     "output_type": "stream",
     "text": [
      "torch.Size([1, 1, 512])\n"
     ]
    },
    {
     "name": "stderr",
     "output_type": "stream",
     "text": [
      "\r",
      " 27%|████████████████████████████████████████████▋                                                                                                                      | 111/405 [00:56<02:34,  1.90it/s]"
     ]
    },
    {
     "name": "stdout",
     "output_type": "stream",
     "text": [
      "torch.Size([1, 1, 512])\n"
     ]
    },
    {
     "name": "stderr",
     "output_type": "stream",
     "text": [
      "\r",
      " 28%|█████████████████████████████████████████████                                                                                                                      | 112/405 [00:56<02:38,  1.84it/s]"
     ]
    },
    {
     "name": "stdout",
     "output_type": "stream",
     "text": [
      "torch.Size([1, 1, 512])\n"
     ]
    },
    {
     "name": "stderr",
     "output_type": "stream",
     "text": [
      "\r",
      " 28%|█████████████████████████████████████████████▍                                                                                                                     | 113/405 [00:57<02:34,  1.89it/s]"
     ]
    },
    {
     "name": "stdout",
     "output_type": "stream",
     "text": [
      "torch.Size([1, 1, 512])\n"
     ]
    },
    {
     "name": "stderr",
     "output_type": "stream",
     "text": [
      "\r",
      " 28%|█████████████████████████████████████████████▉                                                                                                                     | 114/405 [00:57<02:36,  1.86it/s]"
     ]
    },
    {
     "name": "stdout",
     "output_type": "stream",
     "text": [
      "torch.Size([1, 1, 512])\n"
     ]
    },
    {
     "name": "stderr",
     "output_type": "stream",
     "text": [
      "\r",
      " 28%|██████████████████████████████████████████████▎                                                                                                                    | 115/405 [00:58<02:23,  2.02it/s]"
     ]
    },
    {
     "name": "stdout",
     "output_type": "stream",
     "text": [
      "torch.Size([1, 1, 512])\n"
     ]
    },
    {
     "name": "stderr",
     "output_type": "stream",
     "text": [
      "\r",
      " 29%|██████████████████████████████████████████████▋                                                                                                                    | 116/405 [00:58<02:29,  1.93it/s]"
     ]
    },
    {
     "name": "stdout",
     "output_type": "stream",
     "text": [
      "torch.Size([1, 1, 512])\n"
     ]
    },
    {
     "name": "stderr",
     "output_type": "stream",
     "text": [
      "\r",
      " 29%|███████████████████████████████████████████████                                                                                                                    | 117/405 [00:59<02:28,  1.94it/s]"
     ]
    },
    {
     "name": "stdout",
     "output_type": "stream",
     "text": [
      "torch.Size([1, 1, 512])\n"
     ]
    },
    {
     "name": "stderr",
     "output_type": "stream",
     "text": [
      "\r",
      " 29%|███████████████████████████████████████████████▍                                                                                                                   | 118/405 [00:59<02:10,  2.19it/s]"
     ]
    },
    {
     "name": "stdout",
     "output_type": "stream",
     "text": [
      "torch.Size([1, 1, 512])\n"
     ]
    },
    {
     "name": "stderr",
     "output_type": "stream",
     "text": [
      "\r",
      " 29%|███████████████████████████████████████████████▉                                                                                                                   | 119/405 [00:59<02:15,  2.11it/s]"
     ]
    },
    {
     "name": "stdout",
     "output_type": "stream",
     "text": [
      "torch.Size([1, 1, 512])\n"
     ]
    },
    {
     "name": "stderr",
     "output_type": "stream",
     "text": [
      "\r",
      " 30%|████████████████████████████████████████████████▎                                                                                                                  | 120/405 [01:00<02:15,  2.10it/s]"
     ]
    },
    {
     "name": "stdout",
     "output_type": "stream",
     "text": [
      "torch.Size([1, 1, 512])\n"
     ]
    },
    {
     "name": "stderr",
     "output_type": "stream",
     "text": [
      "\r",
      " 30%|████████████████████████████████████████████████▋                                                                                                                  | 121/405 [01:01<02:21,  2.01it/s]"
     ]
    },
    {
     "name": "stdout",
     "output_type": "stream",
     "text": [
      "torch.Size([1, 1, 512])\n"
     ]
    },
    {
     "name": "stderr",
     "output_type": "stream",
     "text": [
      "\r",
      " 30%|█████████████████████████████████████████████████                                                                                                                  | 122/405 [01:01<02:23,  1.97it/s]"
     ]
    },
    {
     "name": "stdout",
     "output_type": "stream",
     "text": [
      "torch.Size([1, 1, 512])\n"
     ]
    },
    {
     "name": "stderr",
     "output_type": "stream",
     "text": [
      "\r",
      " 30%|█████████████████████████████████████████████████▌                                                                                                                 | 123/405 [01:02<02:21,  1.99it/s]"
     ]
    },
    {
     "name": "stdout",
     "output_type": "stream",
     "text": [
      "torch.Size([1, 1, 512])\n"
     ]
    },
    {
     "name": "stderr",
     "output_type": "stream",
     "text": [
      "\r",
      " 31%|█████████████████████████████████████████████████▉                                                                                                                 | 124/405 [01:02<02:23,  1.96it/s]"
     ]
    },
    {
     "name": "stdout",
     "output_type": "stream",
     "text": [
      "torch.Size([1, 1, 512])\n"
     ]
    },
    {
     "name": "stderr",
     "output_type": "stream",
     "text": [
      "\r",
      " 31%|██████████████████████████████████████████████████▎                                                                                                                | 125/405 [01:03<02:30,  1.86it/s]"
     ]
    },
    {
     "name": "stdout",
     "output_type": "stream",
     "text": [
      "torch.Size([1, 1, 512])\n"
     ]
    },
    {
     "name": "stderr",
     "output_type": "stream",
     "text": [
      "\r",
      " 31%|██████████████████████████████████████████████████▋                                                                                                                | 126/405 [01:03<02:36,  1.78it/s]"
     ]
    },
    {
     "name": "stdout",
     "output_type": "stream",
     "text": [
      "torch.Size([1, 1, 512])\n"
     ]
    },
    {
     "name": "stderr",
     "output_type": "stream",
     "text": [
      "\r",
      " 31%|███████████████████████████████████████████████████                                                                                                                | 127/405 [01:04<02:10,  2.13it/s]"
     ]
    },
    {
     "name": "stdout",
     "output_type": "stream",
     "text": [
      "torch.Size([1, 1, 512])\n"
     ]
    },
    {
     "name": "stderr",
     "output_type": "stream",
     "text": [
      "\r",
      " 32%|███████████████████████████████████████████████████▌                                                                                                               | 128/405 [01:04<02:31,  1.82it/s]"
     ]
    },
    {
     "name": "stdout",
     "output_type": "stream",
     "text": [
      "torch.Size([1, 1, 512])\n"
     ]
    },
    {
     "name": "stderr",
     "output_type": "stream",
     "text": [
      "\r",
      " 32%|███████████████████████████████████████████████████▉                                                                                                               | 129/405 [01:05<02:26,  1.88it/s]"
     ]
    },
    {
     "name": "stdout",
     "output_type": "stream",
     "text": [
      "torch.Size([1, 1, 512])\n"
     ]
    },
    {
     "name": "stderr",
     "output_type": "stream",
     "text": [
      "\r",
      " 32%|████████████████████████████████████████████████████▎                                                                                                              | 130/405 [01:05<02:26,  1.87it/s]"
     ]
    },
    {
     "name": "stdout",
     "output_type": "stream",
     "text": [
      "torch.Size([1, 1, 512])\n"
     ]
    },
    {
     "name": "stderr",
     "output_type": "stream",
     "text": [
      "\r",
      " 32%|████████████████████████████████████████████████████▋                                                                                                              | 131/405 [01:06<02:26,  1.87it/s]"
     ]
    },
    {
     "name": "stdout",
     "output_type": "stream",
     "text": [
      "torch.Size([1, 1, 512])\n"
     ]
    },
    {
     "name": "stderr",
     "output_type": "stream",
     "text": [
      "\r",
      " 33%|█████████████████████████████████████████████████████▏                                                                                                             | 132/405 [01:06<02:11,  2.07it/s]"
     ]
    },
    {
     "name": "stdout",
     "output_type": "stream",
     "text": [
      "torch.Size([1, 1, 512])\n"
     ]
    },
    {
     "name": "stderr",
     "output_type": "stream",
     "text": [
      "\r",
      " 33%|█████████████████████████████████████████████████████▌                                                                                                             | 133/405 [01:07<02:13,  2.04it/s]"
     ]
    },
    {
     "name": "stdout",
     "output_type": "stream",
     "text": [
      "torch.Size([1, 1, 512])\n"
     ]
    },
    {
     "name": "stderr",
     "output_type": "stream",
     "text": [
      "\r",
      " 33%|█████████████████████████████████████████████████████▉                                                                                                             | 134/405 [01:07<02:16,  1.99it/s]"
     ]
    },
    {
     "name": "stdout",
     "output_type": "stream",
     "text": [
      "torch.Size([1, 1, 512])\n"
     ]
    },
    {
     "name": "stderr",
     "output_type": "stream",
     "text": [
      "\r",
      " 33%|██████████████████████████████████████████████████████▎                                                                                                            | 135/405 [01:08<02:20,  1.92it/s]"
     ]
    },
    {
     "name": "stdout",
     "output_type": "stream",
     "text": [
      "torch.Size([1, 1, 512])\n"
     ]
    },
    {
     "name": "stderr",
     "output_type": "stream",
     "text": [
      "\r",
      " 34%|██████████████████████████████████████████████████████▋                                                                                                            | 136/405 [01:08<02:14,  2.01it/s]"
     ]
    },
    {
     "name": "stdout",
     "output_type": "stream",
     "text": [
      "torch.Size([1, 1, 512])\n"
     ]
    },
    {
     "name": "stderr",
     "output_type": "stream",
     "text": [
      "\r",
      " 34%|███████████████████████████████████████████████████████▏                                                                                                           | 137/405 [01:09<02:12,  2.03it/s]"
     ]
    },
    {
     "name": "stdout",
     "output_type": "stream",
     "text": [
      "torch.Size([1, 1, 512])\n"
     ]
    },
    {
     "name": "stderr",
     "output_type": "stream",
     "text": [
      "\r",
      " 34%|███████████████████████████████████████████████████████▌                                                                                                           | 138/405 [01:09<02:26,  1.82it/s]"
     ]
    },
    {
     "name": "stdout",
     "output_type": "stream",
     "text": [
      "torch.Size([1, 1, 512])\n"
     ]
    },
    {
     "name": "stderr",
     "output_type": "stream",
     "text": [
      "\r",
      " 34%|███████████████████████████████████████████████████████▉                                                                                                           | 139/405 [01:10<02:20,  1.90it/s]"
     ]
    },
    {
     "name": "stdout",
     "output_type": "stream",
     "text": [
      "torch.Size([1, 1, 512])\n"
     ]
    },
    {
     "name": "stderr",
     "output_type": "stream",
     "text": [
      "\r",
      " 35%|████████████████████████████████████████████████████████▎                                                                                                          | 140/405 [01:10<02:18,  1.91it/s]"
     ]
    },
    {
     "name": "stdout",
     "output_type": "stream",
     "text": [
      "torch.Size([1, 1, 512])\n"
     ]
    },
    {
     "name": "stderr",
     "output_type": "stream",
     "text": [
      "\r",
      " 35%|████████████████████████████████████████████████████████▋                                                                                                          | 141/405 [01:11<02:23,  1.83it/s]"
     ]
    },
    {
     "name": "stdout",
     "output_type": "stream",
     "text": [
      "torch.Size([1, 1, 512])\n"
     ]
    },
    {
     "name": "stderr",
     "output_type": "stream",
     "text": [
      "\r",
      " 35%|█████████████████████████████████████████████████████████▏                                                                                                         | 142/405 [01:11<02:04,  2.12it/s]"
     ]
    },
    {
     "name": "stdout",
     "output_type": "stream",
     "text": [
      "torch.Size([1, 1, 512])\n"
     ]
    },
    {
     "name": "stderr",
     "output_type": "stream",
     "text": [
      "\r",
      " 35%|█████████████████████████████████████████████████████████▌                                                                                                         | 143/405 [01:12<02:05,  2.08it/s]"
     ]
    },
    {
     "name": "stdout",
     "output_type": "stream",
     "text": [
      "torch.Size([1, 1, 512])\n"
     ]
    },
    {
     "name": "stderr",
     "output_type": "stream",
     "text": [
      "\r",
      " 36%|█████████████████████████████████████████████████████████▉                                                                                                         | 144/405 [01:12<02:06,  2.06it/s]"
     ]
    },
    {
     "name": "stdout",
     "output_type": "stream",
     "text": [
      "torch.Size([1, 1, 512])\n"
     ]
    },
    {
     "name": "stderr",
     "output_type": "stream",
     "text": [
      "\r",
      " 36%|██████████████████████████████████████████████████████████▎                                                                                                        | 145/405 [01:13<02:08,  2.02it/s]"
     ]
    },
    {
     "name": "stdout",
     "output_type": "stream",
     "text": [
      "torch.Size([1, 1, 512])\n"
     ]
    },
    {
     "name": "stderr",
     "output_type": "stream",
     "text": [
      "\r",
      " 36%|██████████████████████████████████████████████████████████▊                                                                                                        | 146/405 [01:13<02:10,  1.98it/s]"
     ]
    },
    {
     "name": "stdout",
     "output_type": "stream",
     "text": [
      "torch.Size([1, 1, 512])\n"
     ]
    },
    {
     "name": "stderr",
     "output_type": "stream",
     "text": [
      "\r",
      " 36%|███████████████████████████████████████████████████████████▏                                                                                                       | 147/405 [01:14<02:18,  1.86it/s]"
     ]
    },
    {
     "name": "stdout",
     "output_type": "stream",
     "text": [
      "torch.Size([1, 1, 512])\n"
     ]
    },
    {
     "name": "stderr",
     "output_type": "stream",
     "text": [
      "\r",
      " 37%|███████████████████████████████████████████████████████████▌                                                                                                       | 148/405 [01:15<02:32,  1.69it/s]"
     ]
    },
    {
     "name": "stdout",
     "output_type": "stream",
     "text": [
      "torch.Size([1, 1, 512])\n"
     ]
    },
    {
     "name": "stderr",
     "output_type": "stream",
     "text": [
      "\r",
      " 37%|███████████████████████████████████████████████████████████▉                                                                                                       | 149/405 [01:15<02:28,  1.72it/s]"
     ]
    },
    {
     "name": "stdout",
     "output_type": "stream",
     "text": [
      "torch.Size([1, 1, 512])\n"
     ]
    },
    {
     "name": "stderr",
     "output_type": "stream",
     "text": [
      "\r",
      " 37%|████████████████████████████████████████████████████████████▎                                                                                                      | 150/405 [01:16<02:21,  1.80it/s]"
     ]
    },
    {
     "name": "stdout",
     "output_type": "stream",
     "text": [
      "torch.Size([1, 1, 512])\n"
     ]
    },
    {
     "name": "stderr",
     "output_type": "stream",
     "text": [
      "\r",
      " 37%|████████████████████████████████████████████████████████████▊                                                                                                      | 151/405 [01:16<02:19,  1.82it/s]"
     ]
    },
    {
     "name": "stdout",
     "output_type": "stream",
     "text": [
      "torch.Size([1, 1, 512])\n"
     ]
    },
    {
     "name": "stderr",
     "output_type": "stream",
     "text": [
      "\r",
      " 38%|█████████████████████████████████████████████████████████████▏                                                                                                     | 152/405 [01:17<02:09,  1.95it/s]"
     ]
    },
    {
     "name": "stdout",
     "output_type": "stream",
     "text": [
      "torch.Size([1, 1, 512])\n"
     ]
    },
    {
     "name": "stderr",
     "output_type": "stream",
     "text": [
      "\r",
      " 38%|█████████████████████████████████████████████████████████████▌                                                                                                     | 153/405 [01:17<02:10,  1.93it/s]"
     ]
    },
    {
     "name": "stdout",
     "output_type": "stream",
     "text": [
      "torch.Size([1, 1, 512])\n"
     ]
    },
    {
     "name": "stderr",
     "output_type": "stream",
     "text": [
      "\r",
      " 38%|█████████████████████████████████████████████████████████████▉                                                                                                     | 154/405 [01:18<02:02,  2.04it/s]"
     ]
    },
    {
     "name": "stdout",
     "output_type": "stream",
     "text": [
      "torch.Size([1, 1, 512])\n"
     ]
    },
    {
     "name": "stderr",
     "output_type": "stream",
     "text": [
      "\r",
      " 38%|██████████████████████████████████████████████████████████████▍                                                                                                    | 155/405 [01:18<02:13,  1.88it/s]"
     ]
    },
    {
     "name": "stdout",
     "output_type": "stream",
     "text": [
      "torch.Size([1, 1, 512])\n"
     ]
    },
    {
     "name": "stderr",
     "output_type": "stream",
     "text": [
      "\r",
      " 39%|██████████████████████████████████████████████████████████████▊                                                                                                    | 156/405 [01:19<01:53,  2.20it/s]"
     ]
    },
    {
     "name": "stdout",
     "output_type": "stream",
     "text": [
      "torch.Size([1, 1, 512])\n"
     ]
    },
    {
     "name": "stderr",
     "output_type": "stream",
     "text": [
      "\r",
      " 39%|███████████████████████████████████████████████████████████████▏                                                                                                   | 157/405 [01:19<01:55,  2.15it/s]"
     ]
    },
    {
     "name": "stdout",
     "output_type": "stream",
     "text": [
      "torch.Size([1, 1, 512])\n"
     ]
    },
    {
     "name": "stderr",
     "output_type": "stream",
     "text": [
      "\r",
      " 39%|███████████████████████████████████████████████████████████████▌                                                                                                   | 158/405 [01:20<01:55,  2.15it/s]"
     ]
    },
    {
     "name": "stdout",
     "output_type": "stream",
     "text": [
      "torch.Size([1, 1, 512])\n"
     ]
    },
    {
     "name": "stderr",
     "output_type": "stream",
     "text": [
      "\r",
      " 39%|███████████████████████████████████████████████████████████████▉                                                                                                   | 159/405 [01:20<01:56,  2.11it/s]"
     ]
    },
    {
     "name": "stdout",
     "output_type": "stream",
     "text": [
      "torch.Size([1, 1, 512])\n"
     ]
    },
    {
     "name": "stderr",
     "output_type": "stream",
     "text": [
      "\r",
      " 40%|████████████████████████████████████████████████████████████████▍                                                                                                  | 160/405 [01:20<01:53,  2.16it/s]"
     ]
    },
    {
     "name": "stdout",
     "output_type": "stream",
     "text": [
      "torch.Size([1, 1, 512])\n"
     ]
    },
    {
     "name": "stderr",
     "output_type": "stream",
     "text": [
      "\r",
      " 40%|████████████████████████████████████████████████████████████████▊                                                                                                  | 161/405 [01:21<01:56,  2.10it/s]"
     ]
    },
    {
     "name": "stdout",
     "output_type": "stream",
     "text": [
      "torch.Size([1, 1, 512])\n"
     ]
    },
    {
     "name": "stderr",
     "output_type": "stream",
     "text": [
      "\r",
      " 40%|█████████████████████████████████████████████████████████████████▏                                                                                                 | 162/405 [01:21<01:59,  2.03it/s]"
     ]
    },
    {
     "name": "stdout",
     "output_type": "stream",
     "text": [
      "torch.Size([1, 1, 512])\n"
     ]
    },
    {
     "name": "stderr",
     "output_type": "stream",
     "text": [
      "\r",
      " 40%|█████████████████████████████████████████████████████████████████▌                                                                                                 | 163/405 [01:22<01:56,  2.09it/s]"
     ]
    },
    {
     "name": "stdout",
     "output_type": "stream",
     "text": [
      "torch.Size([1, 1, 512])\n"
     ]
    },
    {
     "name": "stderr",
     "output_type": "stream",
     "text": [
      "\r",
      " 40%|██████████████████████████████████████████████████████████████████                                                                                                 | 164/405 [01:23<02:06,  1.90it/s]"
     ]
    },
    {
     "name": "stdout",
     "output_type": "stream",
     "text": [
      "torch.Size([1, 1, 512])\n"
     ]
    },
    {
     "name": "stderr",
     "output_type": "stream",
     "text": [
      "\r",
      " 41%|██████████████████████████████████████████████████████████████████▍                                                                                                | 165/405 [01:23<02:06,  1.90it/s]"
     ]
    },
    {
     "name": "stdout",
     "output_type": "stream",
     "text": [
      "torch.Size([1, 1, 512])\n"
     ]
    },
    {
     "name": "stderr",
     "output_type": "stream",
     "text": [
      "\r",
      " 41%|██████████████████████████████████████████████████████████████████▊                                                                                                | 166/405 [01:24<02:03,  1.94it/s]"
     ]
    },
    {
     "name": "stdout",
     "output_type": "stream",
     "text": [
      "torch.Size([1, 1, 512])\n"
     ]
    },
    {
     "name": "stderr",
     "output_type": "stream",
     "text": [
      "\r",
      " 41%|███████████████████████████████████████████████████████████████████▏                                                                                               | 167/405 [01:24<01:59,  2.00it/s]"
     ]
    },
    {
     "name": "stdout",
     "output_type": "stream",
     "text": [
      "torch.Size([1, 1, 512])\n"
     ]
    },
    {
     "name": "stderr",
     "output_type": "stream",
     "text": [
      "\r",
      " 41%|███████████████████████████████████████████████████████████████████▌                                                                                               | 168/405 [01:25<01:59,  1.98it/s]"
     ]
    },
    {
     "name": "stdout",
     "output_type": "stream",
     "text": [
      "torch.Size([1, 1, 512])\n"
     ]
    },
    {
     "name": "stderr",
     "output_type": "stream",
     "text": [
      "\r",
      " 42%|████████████████████████████████████████████████████████████████████                                                                                               | 169/405 [01:25<01:57,  2.02it/s]"
     ]
    },
    {
     "name": "stdout",
     "output_type": "stream",
     "text": [
      "torch.Size([1, 1, 512])\n"
     ]
    },
    {
     "name": "stderr",
     "output_type": "stream",
     "text": [
      "\r",
      " 42%|████████████████████████████████████████████████████████████████████▍                                                                                              | 170/405 [01:26<01:54,  2.05it/s]"
     ]
    },
    {
     "name": "stdout",
     "output_type": "stream",
     "text": [
      "torch.Size([1, 1, 512])\n"
     ]
    },
    {
     "name": "stderr",
     "output_type": "stream",
     "text": [
      "\r",
      " 42%|████████████████████████████████████████████████████████████████████▊                                                                                              | 171/405 [01:26<01:56,  2.01it/s]"
     ]
    },
    {
     "name": "stdout",
     "output_type": "stream",
     "text": [
      "torch.Size([1, 1, 512])\n"
     ]
    },
    {
     "name": "stderr",
     "output_type": "stream",
     "text": [
      "\r",
      " 42%|█████████████████████████████████████████████████████████████████████▏                                                                                             | 172/405 [01:27<02:03,  1.89it/s]"
     ]
    },
    {
     "name": "stdout",
     "output_type": "stream",
     "text": [
      "torch.Size([1, 1, 512])\n"
     ]
    },
    {
     "name": "stderr",
     "output_type": "stream",
     "text": [
      "\r",
      " 43%|█████████████████████████████████████████████████████████████████████▋                                                                                             | 173/405 [01:27<02:04,  1.86it/s]"
     ]
    },
    {
     "name": "stdout",
     "output_type": "stream",
     "text": [
      "torch.Size([1, 1, 512])\n"
     ]
    },
    {
     "name": "stderr",
     "output_type": "stream",
     "text": [
      "\r",
      " 43%|██████████████████████████████████████████████████████████████████████                                                                                             | 174/405 [01:28<02:00,  1.91it/s]"
     ]
    },
    {
     "name": "stdout",
     "output_type": "stream",
     "text": [
      "torch.Size([1, 1, 512])\n"
     ]
    },
    {
     "name": "stderr",
     "output_type": "stream",
     "text": [
      "\r",
      " 43%|██████████████████████████████████████████████████████████████████████▍                                                                                            | 175/405 [01:28<01:55,  2.00it/s]"
     ]
    },
    {
     "name": "stdout",
     "output_type": "stream",
     "text": [
      "torch.Size([1, 1, 512])\n"
     ]
    },
    {
     "name": "stderr",
     "output_type": "stream",
     "text": [
      "\r",
      " 43%|██████████████████████████████████████████████████████████████████████▊                                                                                            | 176/405 [01:29<01:56,  1.97it/s]"
     ]
    },
    {
     "name": "stdout",
     "output_type": "stream",
     "text": [
      "torch.Size([1, 1, 512])\n"
     ]
    },
    {
     "name": "stderr",
     "output_type": "stream",
     "text": [
      "\r",
      " 44%|███████████████████████████████████████████████████████████████████████▏                                                                                           | 177/405 [01:29<02:00,  1.89it/s]"
     ]
    },
    {
     "name": "stdout",
     "output_type": "stream",
     "text": [
      "torch.Size([1, 1, 512])\n"
     ]
    },
    {
     "name": "stderr",
     "output_type": "stream",
     "text": [
      "\r",
      " 44%|███████████████████████████████████████████████████████████████████████▋                                                                                           | 178/405 [01:30<01:59,  1.90it/s]"
     ]
    },
    {
     "name": "stdout",
     "output_type": "stream",
     "text": [
      "torch.Size([1, 1, 512])\n"
     ]
    },
    {
     "name": "stderr",
     "output_type": "stream",
     "text": [
      "\r",
      " 44%|████████████████████████████████████████████████████████████████████████                                                                                           | 179/405 [01:30<02:00,  1.88it/s]"
     ]
    },
    {
     "name": "stdout",
     "output_type": "stream",
     "text": [
      "torch.Size([1, 1, 512])\n"
     ]
    },
    {
     "name": "stderr",
     "output_type": "stream",
     "text": [
      "\r",
      " 44%|████████████████████████████████████████████████████████████████████████▍                                                                                          | 180/405 [01:31<01:52,  1.99it/s]"
     ]
    },
    {
     "name": "stdout",
     "output_type": "stream",
     "text": [
      "torch.Size([1, 1, 512])\n"
     ]
    },
    {
     "name": "stderr",
     "output_type": "stream",
     "text": [
      "\r",
      " 45%|████████████████████████████████████████████████████████████████████████▊                                                                                          | 181/405 [01:31<01:56,  1.93it/s]"
     ]
    },
    {
     "name": "stdout",
     "output_type": "stream",
     "text": [
      "torch.Size([1, 1, 512])\n"
     ]
    },
    {
     "name": "stderr",
     "output_type": "stream",
     "text": [
      "\r",
      " 45%|█████████████████████████████████████████████████████████████████████████▏                                                                                         | 182/405 [01:32<01:58,  1.87it/s]"
     ]
    },
    {
     "name": "stdout",
     "output_type": "stream",
     "text": [
      "torch.Size([1, 1, 512])\n"
     ]
    },
    {
     "name": "stderr",
     "output_type": "stream",
     "text": [
      "\r",
      " 45%|█████████████████████████████████████████████████████████████████████████▋                                                                                         | 183/405 [01:32<02:05,  1.77it/s]"
     ]
    },
    {
     "name": "stdout",
     "output_type": "stream",
     "text": [
      "torch.Size([1, 1, 512])\n"
     ]
    },
    {
     "name": "stderr",
     "output_type": "stream",
     "text": [
      "\r",
      " 45%|██████████████████████████████████████████████████████████████████████████                                                                                         | 184/405 [01:33<02:01,  1.82it/s]"
     ]
    },
    {
     "name": "stdout",
     "output_type": "stream",
     "text": [
      "torch.Size([1, 1, 512])\n"
     ]
    },
    {
     "name": "stderr",
     "output_type": "stream",
     "text": [
      "\r",
      " 46%|██████████████████████████████████████████████████████████████████████████▍                                                                                        | 185/405 [01:34<01:58,  1.86it/s]"
     ]
    },
    {
     "name": "stdout",
     "output_type": "stream",
     "text": [
      "torch.Size([1, 1, 512])\n"
     ]
    },
    {
     "name": "stderr",
     "output_type": "stream",
     "text": [
      "\r",
      " 46%|██████████████████████████████████████████████████████████████████████████▊                                                                                        | 186/405 [01:34<01:51,  1.96it/s]"
     ]
    },
    {
     "name": "stdout",
     "output_type": "stream",
     "text": [
      "torch.Size([1, 1, 512])\n"
     ]
    },
    {
     "name": "stderr",
     "output_type": "stream",
     "text": [
      "\r",
      " 46%|███████████████████████████████████████████████████████████████████████████▎                                                                                       | 187/405 [01:35<01:54,  1.91it/s]"
     ]
    },
    {
     "name": "stdout",
     "output_type": "stream",
     "text": [
      "torch.Size([1, 1, 512])\n"
     ]
    },
    {
     "name": "stderr",
     "output_type": "stream",
     "text": [
      "\r",
      " 46%|███████████████████████████████████████████████████████████████████████████▋                                                                                       | 188/405 [01:35<01:54,  1.90it/s]"
     ]
    },
    {
     "name": "stdout",
     "output_type": "stream",
     "text": [
      "torch.Size([1, 1, 512])\n"
     ]
    },
    {
     "name": "stderr",
     "output_type": "stream",
     "text": [
      "\r",
      " 47%|████████████████████████████████████████████████████████████████████████████                                                                                       | 189/405 [01:36<02:01,  1.78it/s]"
     ]
    },
    {
     "name": "stdout",
     "output_type": "stream",
     "text": [
      "torch.Size([1, 1, 512])\n"
     ]
    },
    {
     "name": "stderr",
     "output_type": "stream",
     "text": [
      "\r",
      " 47%|████████████████████████████████████████████████████████████████████████████▍                                                                                      | 190/405 [01:36<02:00,  1.78it/s]"
     ]
    },
    {
     "name": "stdout",
     "output_type": "stream",
     "text": [
      "torch.Size([1, 1, 512])\n"
     ]
    },
    {
     "name": "stderr",
     "output_type": "stream",
     "text": [
      "\r",
      " 47%|████████████████████████████████████████████████████████████████████████████▊                                                                                      | 191/405 [01:37<01:43,  2.07it/s]"
     ]
    },
    {
     "name": "stdout",
     "output_type": "stream",
     "text": [
      "torch.Size([1, 1, 512])\n"
     ]
    },
    {
     "name": "stderr",
     "output_type": "stream",
     "text": [
      "\r",
      " 47%|█████████████████████████████████████████████████████████████████████████████▎                                                                                     | 192/405 [01:37<01:29,  2.39it/s]"
     ]
    },
    {
     "name": "stdout",
     "output_type": "stream",
     "text": [
      "torch.Size([1, 1, 512])\n"
     ]
    },
    {
     "name": "stderr",
     "output_type": "stream",
     "text": [
      "\r",
      " 48%|█████████████████████████████████████████████████████████████████████████████▋                                                                                     | 193/405 [01:37<01:35,  2.22it/s]"
     ]
    },
    {
     "name": "stdout",
     "output_type": "stream",
     "text": [
      "torch.Size([1, 1, 512])\n"
     ]
    },
    {
     "name": "stderr",
     "output_type": "stream",
     "text": [
      "\r",
      " 48%|██████████████████████████████████████████████████████████████████████████████                                                                                     | 194/405 [01:38<01:35,  2.20it/s]"
     ]
    },
    {
     "name": "stdout",
     "output_type": "stream",
     "text": [
      "torch.Size([1, 1, 512])\n"
     ]
    },
    {
     "name": "stderr",
     "output_type": "stream",
     "text": [
      "\r",
      " 48%|██████████████████████████████████████████████████████████████████████████████▍                                                                                    | 195/405 [01:38<01:37,  2.15it/s]"
     ]
    },
    {
     "name": "stdout",
     "output_type": "stream",
     "text": [
      "torch.Size([1, 1, 512])\n"
     ]
    },
    {
     "name": "stderr",
     "output_type": "stream",
     "text": [
      "\r",
      " 48%|██████████████████████████████████████████████████████████████████████████████▉                                                                                    | 196/405 [01:39<01:26,  2.42it/s]"
     ]
    },
    {
     "name": "stdout",
     "output_type": "stream",
     "text": [
      "torch.Size([1, 1, 512])\n"
     ]
    },
    {
     "name": "stderr",
     "output_type": "stream",
     "text": [
      "\r",
      " 49%|███████████████████████████████████████████████████████████████████████████████▎                                                                                   | 197/405 [01:39<01:26,  2.40it/s]"
     ]
    },
    {
     "name": "stdout",
     "output_type": "stream",
     "text": [
      "torch.Size([1, 1, 512])\n"
     ]
    },
    {
     "name": "stderr",
     "output_type": "stream",
     "text": [
      "\r",
      " 49%|███████████████████████████████████████████████████████████████████████████████▋                                                                                   | 198/405 [01:40<01:33,  2.21it/s]"
     ]
    },
    {
     "name": "stdout",
     "output_type": "stream",
     "text": [
      "torch.Size([1, 1, 512])\n"
     ]
    },
    {
     "name": "stderr",
     "output_type": "stream",
     "text": [
      "\r",
      " 49%|████████████████████████████████████████████████████████████████████████████████                                                                                   | 199/405 [01:40<01:36,  2.14it/s]"
     ]
    },
    {
     "name": "stdout",
     "output_type": "stream",
     "text": [
      "torch.Size([1, 1, 512])\n"
     ]
    },
    {
     "name": "stderr",
     "output_type": "stream",
     "text": [
      "\r",
      " 49%|████████████████████████████████████████████████████████████████████████████████▍                                                                                  | 200/405 [01:40<01:34,  2.18it/s]"
     ]
    },
    {
     "name": "stdout",
     "output_type": "stream",
     "text": [
      "torch.Size([1, 1, 512])\n"
     ]
    },
    {
     "name": "stderr",
     "output_type": "stream",
     "text": [
      "\r",
      " 50%|████████████████████████████████████████████████████████████████████████████████▉                                                                                  | 201/405 [01:41<01:35,  2.14it/s]"
     ]
    },
    {
     "name": "stdout",
     "output_type": "stream",
     "text": [
      "torch.Size([1, 1, 512])\n"
     ]
    },
    {
     "name": "stderr",
     "output_type": "stream",
     "text": [
      "\r",
      " 50%|█████████████████████████████████████████████████████████████████████████████████▎                                                                                 | 202/405 [01:42<01:45,  1.92it/s]"
     ]
    },
    {
     "name": "stdout",
     "output_type": "stream",
     "text": [
      "torch.Size([1, 1, 512])\n"
     ]
    },
    {
     "name": "stderr",
     "output_type": "stream",
     "text": [
      "\r",
      " 50%|█████████████████████████████████████████████████████████████████████████████████▋                                                                                 | 203/405 [01:42<01:48,  1.86it/s]"
     ]
    },
    {
     "name": "stdout",
     "output_type": "stream",
     "text": [
      "torch.Size([1, 1, 512])\n"
     ]
    },
    {
     "name": "stderr",
     "output_type": "stream",
     "text": [
      "\r",
      " 50%|██████████████████████████████████████████████████████████████████████████████████                                                                                 | 204/405 [01:43<01:43,  1.93it/s]"
     ]
    },
    {
     "name": "stdout",
     "output_type": "stream",
     "text": [
      "torch.Size([1, 1, 512])\n"
     ]
    },
    {
     "name": "stderr",
     "output_type": "stream",
     "text": [
      "\r",
      " 51%|██████████████████████████████████████████████████████████████████████████████████▌                                                                                | 205/405 [01:43<01:37,  2.05it/s]"
     ]
    },
    {
     "name": "stdout",
     "output_type": "stream",
     "text": [
      "torch.Size([1, 1, 512])\n"
     ]
    },
    {
     "name": "stderr",
     "output_type": "stream",
     "text": [
      "\r",
      " 51%|██████████████████████████████████████████████████████████████████████████████████▉                                                                                | 206/405 [01:44<01:38,  2.02it/s]"
     ]
    },
    {
     "name": "stdout",
     "output_type": "stream",
     "text": [
      "torch.Size([1, 1, 512])\n"
     ]
    },
    {
     "name": "stderr",
     "output_type": "stream",
     "text": [
      "\r",
      " 51%|███████████████████████████████████████████████████████████████████████████████████▎                                                                               | 207/405 [01:44<01:38,  2.00it/s]"
     ]
    },
    {
     "name": "stdout",
     "output_type": "stream",
     "text": [
      "torch.Size([1, 1, 512])\n"
     ]
    },
    {
     "name": "stderr",
     "output_type": "stream",
     "text": [
      "\r",
      " 51%|███████████████████████████████████████████████████████████████████████████████████▋                                                                               | 208/405 [01:45<01:42,  1.93it/s]"
     ]
    },
    {
     "name": "stdout",
     "output_type": "stream",
     "text": [
      "torch.Size([1, 1, 512])\n"
     ]
    },
    {
     "name": "stderr",
     "output_type": "stream",
     "text": [
      "\r",
      " 52%|████████████████████████████████████████████████████████████████████████████████████                                                                               | 209/405 [01:45<01:39,  1.96it/s]"
     ]
    },
    {
     "name": "stdout",
     "output_type": "stream",
     "text": [
      "torch.Size([1, 1, 512])\n"
     ]
    },
    {
     "name": "stderr",
     "output_type": "stream",
     "text": [
      "\r",
      " 52%|████████████████████████████████████████████████████████████████████████████████████▌                                                                              | 210/405 [01:46<01:41,  1.93it/s]"
     ]
    },
    {
     "name": "stdout",
     "output_type": "stream",
     "text": [
      "torch.Size([1, 1, 512])\n"
     ]
    },
    {
     "name": "stderr",
     "output_type": "stream",
     "text": [
      "\r",
      " 52%|████████████████████████████████████████████████████████████████████████████████████▉                                                                              | 211/405 [01:46<01:42,  1.90it/s]"
     ]
    },
    {
     "name": "stdout",
     "output_type": "stream",
     "text": [
      "torch.Size([1, 1, 512])\n"
     ]
    },
    {
     "name": "stderr",
     "output_type": "stream",
     "text": [
      "\r",
      " 52%|█████████████████████████████████████████████████████████████████████████████████████▎                                                                             | 212/405 [01:47<01:27,  2.20it/s]"
     ]
    },
    {
     "name": "stdout",
     "output_type": "stream",
     "text": [
      "torch.Size([1, 1, 512])\n"
     ]
    },
    {
     "name": "stderr",
     "output_type": "stream",
     "text": [
      "\r",
      " 53%|█████████████████████████████████████████████████████████████████████████████████████▋                                                                             | 213/405 [01:47<01:32,  2.08it/s]"
     ]
    },
    {
     "name": "stdout",
     "output_type": "stream",
     "text": [
      "torch.Size([1, 1, 512])\n"
     ]
    },
    {
     "name": "stderr",
     "output_type": "stream",
     "text": [
      "\r",
      " 53%|██████████████████████████████████████████████████████████████████████████████████████▏                                                                            | 214/405 [01:48<01:28,  2.15it/s]"
     ]
    },
    {
     "name": "stdout",
     "output_type": "stream",
     "text": [
      "torch.Size([1, 1, 512])\n"
     ]
    },
    {
     "name": "stderr",
     "output_type": "stream",
     "text": [
      "\r",
      " 53%|██████████████████████████████████████████████████████████████████████████████████████▌                                                                            | 215/405 [01:48<01:33,  2.04it/s]"
     ]
    },
    {
     "name": "stdout",
     "output_type": "stream",
     "text": [
      "torch.Size([1, 1, 512])\n"
     ]
    },
    {
     "name": "stderr",
     "output_type": "stream",
     "text": [
      "\r",
      " 53%|██████████████████████████████████████████████████████████████████████████████████████▉                                                                            | 216/405 [01:49<01:32,  2.05it/s]"
     ]
    },
    {
     "name": "stdout",
     "output_type": "stream",
     "text": [
      "torch.Size([1, 1, 512])\n"
     ]
    },
    {
     "name": "stderr",
     "output_type": "stream",
     "text": [
      "\r",
      " 54%|███████████████████████████████████████████████████████████████████████████████████████▎                                                                           | 217/405 [01:49<01:19,  2.37it/s]"
     ]
    },
    {
     "name": "stdout",
     "output_type": "stream",
     "text": [
      "torch.Size([1, 1, 512])\n"
     ]
    },
    {
     "name": "stderr",
     "output_type": "stream",
     "text": [
      "\r",
      " 54%|███████████████████████████████████████████████████████████████████████████████████████▋                                                                           | 218/405 [01:49<01:24,  2.21it/s]"
     ]
    },
    {
     "name": "stdout",
     "output_type": "stream",
     "text": [
      "torch.Size([1, 1, 512])\n"
     ]
    },
    {
     "name": "stderr",
     "output_type": "stream",
     "text": [
      "\r",
      " 54%|████████████████████████████████████████████████████████████████████████████████████████▏                                                                          | 219/405 [01:50<01:29,  2.09it/s]"
     ]
    },
    {
     "name": "stdout",
     "output_type": "stream",
     "text": [
      "torch.Size([1, 1, 512])\n"
     ]
    },
    {
     "name": "stderr",
     "output_type": "stream",
     "text": [
      "\r",
      " 54%|████████████████████████████████████████████████████████████████████████████████████████▌                                                                          | 220/405 [01:50<01:29,  2.07it/s]"
     ]
    },
    {
     "name": "stdout",
     "output_type": "stream",
     "text": [
      "torch.Size([1, 1, 512])\n"
     ]
    },
    {
     "name": "stderr",
     "output_type": "stream",
     "text": [
      "\r",
      " 55%|████████████████████████████████████████████████████████████████████████████████████████▉                                                                          | 221/405 [01:51<01:28,  2.08it/s]"
     ]
    },
    {
     "name": "stdout",
     "output_type": "stream",
     "text": [
      "torch.Size([1, 1, 512])\n"
     ]
    },
    {
     "name": "stderr",
     "output_type": "stream",
     "text": [
      "\r",
      " 55%|█████████████████████████████████████████████████████████████████████████████████████████▎                                                                         | 222/405 [01:51<01:34,  1.94it/s]"
     ]
    },
    {
     "name": "stdout",
     "output_type": "stream",
     "text": [
      "torch.Size([1, 1, 512])\n"
     ]
    },
    {
     "name": "stderr",
     "output_type": "stream",
     "text": [
      "\r",
      " 55%|█████████████████████████████████████████████████████████████████████████████████████████▊                                                                         | 223/405 [01:52<01:44,  1.74it/s]"
     ]
    },
    {
     "name": "stdout",
     "output_type": "stream",
     "text": [
      "torch.Size([1, 1, 512])\n"
     ]
    },
    {
     "name": "stderr",
     "output_type": "stream",
     "text": [
      "\r",
      " 55%|██████████████████████████████████████████████████████████████████████████████████████████▏                                                                        | 224/405 [01:53<01:42,  1.76it/s]"
     ]
    },
    {
     "name": "stdout",
     "output_type": "stream",
     "text": [
      "torch.Size([1, 1, 512])\n"
     ]
    },
    {
     "name": "stderr",
     "output_type": "stream",
     "text": [
      "\r",
      " 56%|██████████████████████████████████████████████████████████████████████████████████████████▌                                                                        | 225/405 [01:53<01:37,  1.85it/s]"
     ]
    },
    {
     "name": "stdout",
     "output_type": "stream",
     "text": [
      "torch.Size([1, 1, 512])\n"
     ]
    },
    {
     "name": "stderr",
     "output_type": "stream",
     "text": [
      "\r",
      " 56%|██████████████████████████████████████████████████████████████████████████████████████████▉                                                                        | 226/405 [01:54<01:36,  1.85it/s]"
     ]
    },
    {
     "name": "stdout",
     "output_type": "stream",
     "text": [
      "torch.Size([1, 1, 512])\n"
     ]
    },
    {
     "name": "stderr",
     "output_type": "stream",
     "text": [
      "\r",
      " 56%|███████████████████████████████████████████████████████████████████████████████████████████▎                                                                       | 227/405 [01:54<01:34,  1.88it/s]"
     ]
    },
    {
     "name": "stdout",
     "output_type": "stream",
     "text": [
      "torch.Size([1, 1, 512])\n"
     ]
    },
    {
     "name": "stderr",
     "output_type": "stream",
     "text": [
      "\r",
      " 56%|███████████████████████████████████████████████████████████████████████████████████████████▊                                                                       | 228/405 [01:55<01:31,  1.93it/s]"
     ]
    },
    {
     "name": "stdout",
     "output_type": "stream",
     "text": [
      "torch.Size([1, 1, 512])\n"
     ]
    },
    {
     "name": "stderr",
     "output_type": "stream",
     "text": [
      "\r",
      " 57%|████████████████████████████████████████████████████████████████████████████████████████████▏                                                                      | 229/405 [01:55<01:33,  1.89it/s]"
     ]
    },
    {
     "name": "stdout",
     "output_type": "stream",
     "text": [
      "torch.Size([1, 1, 512])\n"
     ]
    },
    {
     "name": "stderr",
     "output_type": "stream",
     "text": [
      "\r",
      " 57%|████████████████████████████████████████████████████████████████████████████████████████████▌                                                                      | 230/405 [01:56<01:41,  1.73it/s]"
     ]
    },
    {
     "name": "stdout",
     "output_type": "stream",
     "text": [
      "torch.Size([1, 1, 512])\n"
     ]
    },
    {
     "name": "stderr",
     "output_type": "stream",
     "text": [
      "\r",
      " 57%|████████████████████████████████████████████████████████████████████████████████████████████▉                                                                      | 231/405 [01:56<01:35,  1.82it/s]"
     ]
    },
    {
     "name": "stdout",
     "output_type": "stream",
     "text": [
      "torch.Size([1, 1, 512])\n"
     ]
    },
    {
     "name": "stderr",
     "output_type": "stream",
     "text": [
      "\r",
      " 57%|█████████████████████████████████████████████████████████████████████████████████████████████▎                                                                     | 232/405 [01:57<01:30,  1.92it/s]"
     ]
    },
    {
     "name": "stdout",
     "output_type": "stream",
     "text": [
      "torch.Size([1, 1, 512])\n"
     ]
    },
    {
     "name": "stderr",
     "output_type": "stream",
     "text": [
      "\r",
      " 58%|█████████████████████████████████████████████████████████████████████████████████████████████▊                                                                     | 233/405 [01:57<01:15,  2.28it/s]"
     ]
    },
    {
     "name": "stdout",
     "output_type": "stream",
     "text": [
      "torch.Size([1, 1, 512])\n"
     ]
    },
    {
     "name": "stderr",
     "output_type": "stream",
     "text": [
      "\r",
      " 58%|██████████████████████████████████████████████████████████████████████████████████████████████▏                                                                    | 234/405 [01:58<01:17,  2.20it/s]"
     ]
    },
    {
     "name": "stdout",
     "output_type": "stream",
     "text": [
      "torch.Size([1, 1, 512])\n"
     ]
    },
    {
     "name": "stderr",
     "output_type": "stream",
     "text": [
      "\r",
      " 58%|██████████████████████████████████████████████████████████████████████████████████████████████▌                                                                    | 235/405 [01:58<01:17,  2.19it/s]"
     ]
    },
    {
     "name": "stdout",
     "output_type": "stream",
     "text": [
      "torch.Size([1, 1, 512])\n"
     ]
    },
    {
     "name": "stderr",
     "output_type": "stream",
     "text": [
      "\r",
      " 58%|██████████████████████████████████████████████████████████████████████████████████████████████▉                                                                    | 236/405 [01:59<01:26,  1.96it/s]"
     ]
    },
    {
     "name": "stdout",
     "output_type": "stream",
     "text": [
      "torch.Size([1, 1, 512])\n"
     ]
    },
    {
     "name": "stderr",
     "output_type": "stream",
     "text": [
      "\r",
      " 59%|███████████████████████████████████████████████████████████████████████████████████████████████▍                                                                   | 237/405 [01:59<01:24,  1.99it/s]"
     ]
    },
    {
     "name": "stdout",
     "output_type": "stream",
     "text": [
      "torch.Size([1, 1, 512])\n"
     ]
    },
    {
     "name": "stderr",
     "output_type": "stream",
     "text": [
      "\r",
      " 59%|███████████████████████████████████████████████████████████████████████████████████████████████▊                                                                   | 238/405 [02:00<01:16,  2.18it/s]"
     ]
    },
    {
     "name": "stdout",
     "output_type": "stream",
     "text": [
      "torch.Size([1, 1, 512])\n"
     ]
    },
    {
     "name": "stderr",
     "output_type": "stream",
     "text": [
      "\r",
      " 59%|████████████████████████████████████████████████████████████████████████████████████████████████▏                                                                  | 239/405 [02:00<01:19,  2.10it/s]"
     ]
    },
    {
     "name": "stdout",
     "output_type": "stream",
     "text": [
      "torch.Size([1, 1, 512])\n"
     ]
    },
    {
     "name": "stderr",
     "output_type": "stream",
     "text": [
      "\r",
      " 59%|████████████████████████████████████████████████████████████████████████████████████████████████▌                                                                  | 240/405 [02:01<01:22,  2.00it/s]"
     ]
    },
    {
     "name": "stdout",
     "output_type": "stream",
     "text": [
      "torch.Size([1, 1, 512])\n"
     ]
    },
    {
     "name": "stderr",
     "output_type": "stream",
     "text": [
      "\r",
      " 60%|████████████████████████████████████████████████████████████████████████████████████████████████▉                                                                  | 241/405 [02:01<01:23,  1.97it/s]"
     ]
    },
    {
     "name": "stdout",
     "output_type": "stream",
     "text": [
      "torch.Size([1, 1, 512])\n"
     ]
    },
    {
     "name": "stderr",
     "output_type": "stream",
     "text": [
      "\r",
      " 60%|█████████████████████████████████████████████████████████████████████████████████████████████████▍                                                                 | 242/405 [02:02<01:30,  1.80it/s]"
     ]
    },
    {
     "name": "stdout",
     "output_type": "stream",
     "text": [
      "torch.Size([1, 1, 512])\n"
     ]
    },
    {
     "name": "stderr",
     "output_type": "stream",
     "text": [
      "\r",
      " 60%|█████████████████████████████████████████████████████████████████████████████████████████████████▊                                                                 | 243/405 [02:02<01:29,  1.81it/s]"
     ]
    },
    {
     "name": "stdout",
     "output_type": "stream",
     "text": [
      "torch.Size([1, 1, 512])\n"
     ]
    },
    {
     "name": "stderr",
     "output_type": "stream",
     "text": [
      "\r",
      " 60%|██████████████████████████████████████████████████████████████████████████████████████████████████▏                                                                | 244/405 [02:03<01:19,  2.02it/s]"
     ]
    },
    {
     "name": "stdout",
     "output_type": "stream",
     "text": [
      "torch.Size([1, 1, 512])\n"
     ]
    },
    {
     "name": "stderr",
     "output_type": "stream",
     "text": [
      "\r",
      " 60%|██████████████████████████████████████████████████████████████████████████████████████████████████▌                                                                | 245/405 [02:03<01:22,  1.95it/s]"
     ]
    },
    {
     "name": "stdout",
     "output_type": "stream",
     "text": [
      "torch.Size([1, 1, 512])\n"
     ]
    },
    {
     "name": "stderr",
     "output_type": "stream",
     "text": [
      "\r",
      " 61%|███████████████████████████████████████████████████████████████████████████████████████████████████                                                                | 246/405 [02:04<01:24,  1.87it/s]"
     ]
    },
    {
     "name": "stdout",
     "output_type": "stream",
     "text": [
      "torch.Size([1, 1, 512])\n"
     ]
    },
    {
     "name": "stderr",
     "output_type": "stream",
     "text": [
      "\r",
      " 61%|███████████████████████████████████████████████████████████████████████████████████████████████████▍                                                               | 247/405 [02:04<01:20,  1.95it/s]"
     ]
    },
    {
     "name": "stdout",
     "output_type": "stream",
     "text": [
      "torch.Size([1, 1, 512])\n"
     ]
    },
    {
     "name": "stderr",
     "output_type": "stream",
     "text": [
      "\r",
      " 61%|███████████████████████████████████████████████████████████████████████████████████████████████████▊                                                               | 248/405 [02:05<01:22,  1.91it/s]"
     ]
    },
    {
     "name": "stdout",
     "output_type": "stream",
     "text": [
      "torch.Size([1, 1, 512])\n"
     ]
    },
    {
     "name": "stderr",
     "output_type": "stream",
     "text": [
      "\r",
      " 61%|████████████████████████████████████████████████████████████████████████████████████████████████████▏                                                              | 249/405 [02:05<01:24,  1.85it/s]"
     ]
    },
    {
     "name": "stdout",
     "output_type": "stream",
     "text": [
      "torch.Size([1, 1, 512])\n"
     ]
    },
    {
     "name": "stderr",
     "output_type": "stream",
     "text": [
      "\r",
      " 62%|████████████████████████████████████████████████████████████████████████████████████████████████████▌                                                              | 250/405 [02:06<01:31,  1.70it/s]"
     ]
    },
    {
     "name": "stdout",
     "output_type": "stream",
     "text": [
      "torch.Size([1, 1, 512])\n"
     ]
    },
    {
     "name": "stderr",
     "output_type": "stream",
     "text": [
      "\r",
      " 62%|█████████████████████████████████████████████████████████████████████████████████████████████████████                                                              | 251/405 [02:07<01:24,  1.82it/s]"
     ]
    },
    {
     "name": "stdout",
     "output_type": "stream",
     "text": [
      "torch.Size([1, 1, 512])\n"
     ]
    },
    {
     "name": "stderr",
     "output_type": "stream",
     "text": [
      "\r",
      " 62%|█████████████████████████████████████████████████████████████████████████████████████████████████████▍                                                             | 252/405 [02:07<01:21,  1.88it/s]"
     ]
    },
    {
     "name": "stdout",
     "output_type": "stream",
     "text": [
      "torch.Size([1, 1, 512])\n"
     ]
    },
    {
     "name": "stderr",
     "output_type": "stream",
     "text": [
      "\r",
      " 62%|█████████████████████████████████████████████████████████████████████████████████████████████████████▊                                                             | 253/405 [02:08<01:19,  1.91it/s]"
     ]
    },
    {
     "name": "stdout",
     "output_type": "stream",
     "text": [
      "torch.Size([1, 1, 512])\n"
     ]
    },
    {
     "name": "stderr",
     "output_type": "stream",
     "text": [
      "\r",
      " 63%|██████████████████████████████████████████████████████████████████████████████████████████████████████▏                                                            | 254/405 [02:08<01:16,  1.97it/s]"
     ]
    },
    {
     "name": "stdout",
     "output_type": "stream",
     "text": [
      "torch.Size([1, 1, 512])\n"
     ]
    },
    {
     "name": "stderr",
     "output_type": "stream",
     "text": [
      "\r",
      " 63%|██████████████████████████████████████████████████████████████████████████████████████████████████████▋                                                            | 255/405 [02:09<01:18,  1.91it/s]"
     ]
    },
    {
     "name": "stdout",
     "output_type": "stream",
     "text": [
      "torch.Size([1, 1, 512])\n"
     ]
    },
    {
     "name": "stderr",
     "output_type": "stream",
     "text": [
      "\r",
      " 63%|███████████████████████████████████████████████████████████████████████████████████████████████████████                                                            | 256/405 [02:09<01:18,  1.90it/s]"
     ]
    },
    {
     "name": "stdout",
     "output_type": "stream",
     "text": [
      "torch.Size([1, 1, 512])\n"
     ]
    },
    {
     "name": "stderr",
     "output_type": "stream",
     "text": [
      "\r",
      " 63%|███████████████████████████████████████████████████████████████████████████████████████████████████████▍                                                           | 257/405 [02:10<01:20,  1.85it/s]"
     ]
    },
    {
     "name": "stdout",
     "output_type": "stream",
     "text": [
      "torch.Size([1, 1, 512])\n"
     ]
    },
    {
     "name": "stderr",
     "output_type": "stream",
     "text": [
      "\r",
      " 64%|███████████████████████████████████████████████████████████████████████████████████████████████████████▊                                                           | 258/405 [02:10<01:17,  1.89it/s]"
     ]
    },
    {
     "name": "stdout",
     "output_type": "stream",
     "text": [
      "torch.Size([1, 1, 512])\n"
     ]
    },
    {
     "name": "stderr",
     "output_type": "stream",
     "text": [
      "\r",
      " 64%|████████████████████████████████████████████████████████████████████████████████████████████████████████▏                                                          | 259/405 [02:11<01:09,  2.10it/s]"
     ]
    },
    {
     "name": "stdout",
     "output_type": "stream",
     "text": [
      "torch.Size([1, 1, 512])\n"
     ]
    },
    {
     "name": "stderr",
     "output_type": "stream",
     "text": [
      "\r",
      " 64%|████████████████████████████████████████████████████████████████████████████████████████████████████████▋                                                          | 260/405 [02:11<01:09,  2.10it/s]"
     ]
    },
    {
     "name": "stdout",
     "output_type": "stream",
     "text": [
      "torch.Size([1, 1, 512])\n"
     ]
    },
    {
     "name": "stderr",
     "output_type": "stream",
     "text": [
      "\r",
      " 64%|█████████████████████████████████████████████████████████████████████████████████████████████████████████                                                          | 261/405 [02:11<01:02,  2.30it/s]"
     ]
    },
    {
     "name": "stdout",
     "output_type": "stream",
     "text": [
      "torch.Size([1, 1, 512])\n"
     ]
    },
    {
     "name": "stderr",
     "output_type": "stream",
     "text": [
      "\r",
      " 65%|█████████████████████████████████████████████████████████████████████████████████████████████████████████▍                                                         | 262/405 [02:12<01:05,  2.17it/s]"
     ]
    },
    {
     "name": "stdout",
     "output_type": "stream",
     "text": [
      "torch.Size([1, 1, 512])\n"
     ]
    },
    {
     "name": "stderr",
     "output_type": "stream",
     "text": [
      "\r",
      " 65%|█████████████████████████████████████████████████████████████████████████████████████████████████████████▊                                                         | 263/405 [02:12<01:07,  2.09it/s]"
     ]
    },
    {
     "name": "stdout",
     "output_type": "stream",
     "text": [
      "torch.Size([1, 1, 512])\n"
     ]
    },
    {
     "name": "stderr",
     "output_type": "stream",
     "text": [
      "\r",
      " 65%|██████████████████████████████████████████████████████████████████████████████████████████████████████████▎                                                        | 264/405 [02:13<01:10,  2.00it/s]"
     ]
    },
    {
     "name": "stdout",
     "output_type": "stream",
     "text": [
      "torch.Size([1, 1, 512])\n"
     ]
    },
    {
     "name": "stderr",
     "output_type": "stream",
     "text": [
      "\r",
      " 65%|██████████████████████████████████████████████████████████████████████████████████████████████████████████▋                                                        | 265/405 [02:14<01:09,  2.01it/s]"
     ]
    },
    {
     "name": "stdout",
     "output_type": "stream",
     "text": [
      "torch.Size([1, 1, 512])\n"
     ]
    },
    {
     "name": "stderr",
     "output_type": "stream",
     "text": [
      "\r",
      " 66%|███████████████████████████████████████████████████████████████████████████████████████████████████████████                                                        | 266/405 [02:14<01:10,  1.98it/s]"
     ]
    },
    {
     "name": "stdout",
     "output_type": "stream",
     "text": [
      "torch.Size([1, 1, 512])\n"
     ]
    },
    {
     "name": "stderr",
     "output_type": "stream",
     "text": [
      "\r",
      " 66%|███████████████████████████████████████████████████████████████████████████████████████████████████████████▍                                                       | 267/405 [02:15<01:10,  1.96it/s]"
     ]
    },
    {
     "name": "stdout",
     "output_type": "stream",
     "text": [
      "torch.Size([1, 1, 512])\n"
     ]
    },
    {
     "name": "stderr",
     "output_type": "stream",
     "text": [
      "\r",
      " 66%|███████████████████████████████████████████████████████████████████████████████████████████████████████████▊                                                       | 268/405 [02:15<01:09,  1.98it/s]"
     ]
    },
    {
     "name": "stdout",
     "output_type": "stream",
     "text": [
      "torch.Size([1, 1, 512])\n"
     ]
    },
    {
     "name": "stderr",
     "output_type": "stream",
     "text": [
      "\r",
      " 66%|████████████████████████████████████████████████████████████████████████████████████████████████████████████▎                                                      | 269/405 [02:16<01:08,  1.99it/s]"
     ]
    },
    {
     "name": "stdout",
     "output_type": "stream",
     "text": [
      "torch.Size([1, 1, 512])\n"
     ]
    },
    {
     "name": "stderr",
     "output_type": "stream",
     "text": [
      "\r",
      " 67%|████████████████████████████████████████████████████████████████████████████████████████████████████████████▋                                                      | 270/405 [02:16<01:11,  1.90it/s]"
     ]
    },
    {
     "name": "stdout",
     "output_type": "stream",
     "text": [
      "torch.Size([1, 1, 512])\n"
     ]
    },
    {
     "name": "stderr",
     "output_type": "stream",
     "text": [
      "\r",
      " 67%|█████████████████████████████████████████████████████████████████████████████████████████████████████████████                                                      | 271/405 [02:17<01:07,  1.98it/s]"
     ]
    },
    {
     "name": "stdout",
     "output_type": "stream",
     "text": [
      "torch.Size([1, 1, 512])\n"
     ]
    },
    {
     "name": "stderr",
     "output_type": "stream",
     "text": [
      "\r",
      " 67%|█████████████████████████████████████████████████████████████████████████████████████████████████████████████▍                                                     | 272/405 [02:17<01:10,  1.88it/s]"
     ]
    },
    {
     "name": "stdout",
     "output_type": "stream",
     "text": [
      "torch.Size([1, 1, 512])\n"
     ]
    },
    {
     "name": "stderr",
     "output_type": "stream",
     "text": [
      "\r",
      " 67%|█████████████████████████████████████████████████████████████████████████████████████████████████████████████▊                                                     | 273/405 [02:18<01:12,  1.82it/s]"
     ]
    },
    {
     "name": "stdout",
     "output_type": "stream",
     "text": [
      "torch.Size([1, 1, 512])\n"
     ]
    },
    {
     "name": "stderr",
     "output_type": "stream",
     "text": [
      "\r",
      " 68%|██████████████████████████████████████████████████████████████████████████████████████████████████████████████▎                                                    | 274/405 [02:18<01:09,  1.87it/s]"
     ]
    },
    {
     "name": "stdout",
     "output_type": "stream",
     "text": [
      "torch.Size([1, 1, 512])\n"
     ]
    },
    {
     "name": "stderr",
     "output_type": "stream",
     "text": [
      "\r",
      " 68%|██████████████████████████████████████████████████████████████████████████████████████████████████████████████▋                                                    | 275/405 [02:19<01:07,  1.94it/s]"
     ]
    },
    {
     "name": "stdout",
     "output_type": "stream",
     "text": [
      "torch.Size([1, 1, 512])\n"
     ]
    },
    {
     "name": "stderr",
     "output_type": "stream",
     "text": [
      "\r",
      " 68%|███████████████████████████████████████████████████████████████████████████████████████████████████████████████                                                    | 276/405 [02:19<01:04,  2.01it/s]"
     ]
    },
    {
     "name": "stdout",
     "output_type": "stream",
     "text": [
      "torch.Size([1, 1, 512])\n"
     ]
    },
    {
     "name": "stderr",
     "output_type": "stream",
     "text": [
      "\r",
      " 68%|███████████████████████████████████████████████████████████████████████████████████████████████████████████████▍                                                   | 277/405 [02:20<01:01,  2.09it/s]"
     ]
    },
    {
     "name": "stdout",
     "output_type": "stream",
     "text": [
      "torch.Size([1, 1, 512])\n"
     ]
    },
    {
     "name": "stderr",
     "output_type": "stream",
     "text": [
      "\r",
      " 69%|███████████████████████████████████████████████████████████████████████████████████████████████████████████████▉                                                   | 278/405 [02:20<01:05,  1.93it/s]"
     ]
    },
    {
     "name": "stdout",
     "output_type": "stream",
     "text": [
      "torch.Size([1, 1, 512])\n"
     ]
    },
    {
     "name": "stderr",
     "output_type": "stream",
     "text": [
      "\r",
      " 69%|████████████████████████████████████████████████████████████████████████████████████████████████████████████████▎                                                  | 279/405 [02:21<01:04,  1.95it/s]"
     ]
    },
    {
     "name": "stdout",
     "output_type": "stream",
     "text": [
      "torch.Size([1, 1, 512])\n"
     ]
    },
    {
     "name": "stderr",
     "output_type": "stream",
     "text": [
      "\r",
      " 69%|████████████████████████████████████████████████████████████████████████████████████████████████████████████████▋                                                  | 280/405 [02:21<01:02,  1.99it/s]"
     ]
    },
    {
     "name": "stdout",
     "output_type": "stream",
     "text": [
      "torch.Size([1, 1, 512])\n"
     ]
    },
    {
     "name": "stderr",
     "output_type": "stream",
     "text": [
      "\r",
      " 69%|█████████████████████████████████████████████████████████████████████████████████████████████████████████████████                                                  | 281/405 [02:22<01:00,  2.03it/s]"
     ]
    },
    {
     "name": "stdout",
     "output_type": "stream",
     "text": [
      "torch.Size([1, 1, 512])\n"
     ]
    },
    {
     "name": "stderr",
     "output_type": "stream",
     "text": [
      "\r",
      " 70%|█████████████████████████████████████████████████████████████████████████████████████████████████████████████████▍                                                 | 282/405 [02:22<01:02,  1.96it/s]"
     ]
    },
    {
     "name": "stdout",
     "output_type": "stream",
     "text": [
      "torch.Size([1, 1, 512])\n"
     ]
    },
    {
     "name": "stderr",
     "output_type": "stream",
     "text": [
      "\r",
      " 70%|█████████████████████████████████████████████████████████████████████████████████████████████████████████████████▉                                                 | 283/405 [02:23<00:58,  2.09it/s]"
     ]
    },
    {
     "name": "stdout",
     "output_type": "stream",
     "text": [
      "torch.Size([1, 1, 512])\n"
     ]
    },
    {
     "name": "stderr",
     "output_type": "stream",
     "text": [
      "\r",
      " 70%|██████████████████████████████████████████████████████████████████████████████████████████████████████████████████▎                                                | 284/405 [02:23<00:49,  2.44it/s]"
     ]
    },
    {
     "name": "stdout",
     "output_type": "stream",
     "text": [
      "torch.Size([1, 1, 512])\n"
     ]
    },
    {
     "name": "stderr",
     "output_type": "stream",
     "text": [
      "\r",
      " 70%|██████████████████████████████████████████████████████████████████████████████████████████████████████████████████▋                                                | 285/405 [02:23<00:42,  2.80it/s]"
     ]
    },
    {
     "name": "stdout",
     "output_type": "stream",
     "text": [
      "torch.Size([1, 1, 512])\n"
     ]
    },
    {
     "name": "stderr",
     "output_type": "stream",
     "text": [
      "\r",
      " 71%|███████████████████████████████████████████████████████████████████████████████████████████████████████████████████                                                | 286/405 [02:23<00:40,  2.91it/s]"
     ]
    },
    {
     "name": "stdout",
     "output_type": "stream",
     "text": [
      "torch.Size([1, 1, 512])\n"
     ]
    },
    {
     "name": "stderr",
     "output_type": "stream",
     "text": [
      "\r",
      " 71%|███████████████████████████████████████████████████████████████████████████████████████████████████████████████████▌                                               | 287/405 [02:24<00:46,  2.52it/s]"
     ]
    },
    {
     "name": "stdout",
     "output_type": "stream",
     "text": [
      "torch.Size([1, 1, 512])\n"
     ]
    },
    {
     "name": "stderr",
     "output_type": "stream",
     "text": [
      "\r",
      " 71%|███████████████████████████████████████████████████████████████████████████████████████████████████████████████████▉                                               | 288/405 [02:25<00:51,  2.26it/s]"
     ]
    },
    {
     "name": "stdout",
     "output_type": "stream",
     "text": [
      "torch.Size([1, 1, 512])\n"
     ]
    },
    {
     "name": "stderr",
     "output_type": "stream",
     "text": [
      "\r",
      " 71%|████████████████████████████████████████████████████████████████████████████████████████████████████████████████████▎                                              | 289/405 [02:25<00:51,  2.24it/s]"
     ]
    },
    {
     "name": "stdout",
     "output_type": "stream",
     "text": [
      "torch.Size([1, 1, 512])\n"
     ]
    },
    {
     "name": "stderr",
     "output_type": "stream",
     "text": [
      "\r",
      " 72%|████████████████████████████████████████████████████████████████████████████████████████████████████████████████████▋                                              | 290/405 [02:26<00:54,  2.10it/s]"
     ]
    },
    {
     "name": "stdout",
     "output_type": "stream",
     "text": [
      "torch.Size([1, 1, 512])\n"
     ]
    },
    {
     "name": "stderr",
     "output_type": "stream",
     "text": [
      "\r",
      " 72%|█████████████████████████████████████████████████████████████████████████████████████████████████████████████████████                                              | 291/405 [02:26<00:54,  2.08it/s]"
     ]
    },
    {
     "name": "stdout",
     "output_type": "stream",
     "text": [
      "torch.Size([1, 1, 512])\n"
     ]
    },
    {
     "name": "stderr",
     "output_type": "stream",
     "text": [
      "\r",
      " 72%|█████████████████████████████████████████████████████████████████████████████████████████████████████████████████████▌                                             | 292/405 [02:26<00:49,  2.29it/s]"
     ]
    },
    {
     "name": "stdout",
     "output_type": "stream",
     "text": [
      "torch.Size([1, 1, 512])\n"
     ]
    },
    {
     "name": "stderr",
     "output_type": "stream",
     "text": [
      "\r",
      " 72%|█████████████████████████████████████████████████████████████████████████████████████████████████████████████████████▉                                             | 293/405 [02:27<00:49,  2.28it/s]"
     ]
    },
    {
     "name": "stdout",
     "output_type": "stream",
     "text": [
      "torch.Size([1, 1, 512])\n"
     ]
    },
    {
     "name": "stderr",
     "output_type": "stream",
     "text": [
      "\r",
      " 73%|██████████████████████████████████████████████████████████████████████████████████████████████████████████████████████▎                                            | 294/405 [02:27<00:51,  2.14it/s]"
     ]
    },
    {
     "name": "stdout",
     "output_type": "stream",
     "text": [
      "torch.Size([1, 1, 512])\n"
     ]
    },
    {
     "name": "stderr",
     "output_type": "stream",
     "text": [
      "\r",
      " 73%|██████████████████████████████████████████████████████████████████████████████████████████████████████████████████████▋                                            | 295/405 [02:28<00:51,  2.12it/s]"
     ]
    },
    {
     "name": "stdout",
     "output_type": "stream",
     "text": [
      "torch.Size([1, 1, 512])\n"
     ]
    },
    {
     "name": "stderr",
     "output_type": "stream",
     "text": [
      "\r",
      " 73%|███████████████████████████████████████████████████████████████████████████████████████████████████████████████████████▏                                           | 296/405 [02:28<00:50,  2.18it/s]"
     ]
    },
    {
     "name": "stdout",
     "output_type": "stream",
     "text": [
      "torch.Size([1, 1, 512])\n"
     ]
    },
    {
     "name": "stderr",
     "output_type": "stream",
     "text": [
      "\r",
      " 73%|███████████████████████████████████████████████████████████████████████████████████████████████████████████████████████▌                                           | 297/405 [02:29<00:49,  2.18it/s]"
     ]
    },
    {
     "name": "stdout",
     "output_type": "stream",
     "text": [
      "torch.Size([1, 1, 512])\n"
     ]
    },
    {
     "name": "stderr",
     "output_type": "stream",
     "text": [
      "\r",
      " 74%|███████████████████████████████████████████████████████████████████████████████████████████████████████████████████████▉                                           | 298/405 [02:29<00:48,  2.20it/s]"
     ]
    },
    {
     "name": "stdout",
     "output_type": "stream",
     "text": [
      "torch.Size([1, 1, 512])\n"
     ]
    },
    {
     "name": "stderr",
     "output_type": "stream",
     "text": [
      "\r",
      " 74%|████████████████████████████████████████████████████████████████████████████████████████████████████████████████████████▎                                          | 299/405 [02:30<00:50,  2.11it/s]"
     ]
    },
    {
     "name": "stdout",
     "output_type": "stream",
     "text": [
      "torch.Size([1, 1, 512])\n"
     ]
    },
    {
     "name": "stderr",
     "output_type": "stream",
     "text": [
      "\r",
      " 74%|████████████████████████████████████████████████████████████████████████████████████████████████████████████████████████▋                                          | 300/405 [02:30<00:51,  2.04it/s]"
     ]
    },
    {
     "name": "stdout",
     "output_type": "stream",
     "text": [
      "torch.Size([1, 1, 512])\n"
     ]
    },
    {
     "name": "stderr",
     "output_type": "stream",
     "text": [
      "\r",
      " 74%|█████████████████████████████████████████████████████████████████████████████████████████████████████████████████████████▏                                         | 301/405 [02:31<00:49,  2.10it/s]"
     ]
    },
    {
     "name": "stdout",
     "output_type": "stream",
     "text": [
      "torch.Size([1, 1, 512])\n"
     ]
    },
    {
     "name": "stderr",
     "output_type": "stream",
     "text": [
      "\r",
      " 75%|█████████████████████████████████████████████████████████████████████████████████████████████████████████████████████████▌                                         | 302/405 [02:31<00:51,  2.00it/s]"
     ]
    },
    {
     "name": "stdout",
     "output_type": "stream",
     "text": [
      "torch.Size([1, 1, 512])\n"
     ]
    },
    {
     "name": "stderr",
     "output_type": "stream",
     "text": [
      "\r",
      " 75%|█████████████████████████████████████████████████████████████████████████████████████████████████████████████████████████▉                                         | 303/405 [02:32<00:50,  2.03it/s]"
     ]
    },
    {
     "name": "stdout",
     "output_type": "stream",
     "text": [
      "torch.Size([1, 1, 512])\n"
     ]
    },
    {
     "name": "stderr",
     "output_type": "stream",
     "text": [
      "\r",
      " 75%|██████████████████████████████████████████████████████████████████████████████████████████████████████████████████████████▎                                        | 304/405 [02:32<00:52,  1.94it/s]"
     ]
    },
    {
     "name": "stdout",
     "output_type": "stream",
     "text": [
      "torch.Size([1, 1, 512])\n"
     ]
    },
    {
     "name": "stderr",
     "output_type": "stream",
     "text": [
      "\r",
      " 75%|██████████████████████████████████████████████████████████████████████████████████████████████████████████████████████████▊                                        | 305/405 [02:33<00:49,  2.02it/s]"
     ]
    },
    {
     "name": "stdout",
     "output_type": "stream",
     "text": [
      "torch.Size([1, 1, 512])\n"
     ]
    },
    {
     "name": "stderr",
     "output_type": "stream",
     "text": [
      "\r",
      " 76%|███████████████████████████████████████████████████████████████████████████████████████████████████████████████████████████▏                                       | 306/405 [02:33<00:48,  2.03it/s]"
     ]
    },
    {
     "name": "stdout",
     "output_type": "stream",
     "text": [
      "torch.Size([1, 1, 512])\n"
     ]
    },
    {
     "name": "stderr",
     "output_type": "stream",
     "text": [
      "\r",
      " 76%|███████████████████████████████████████████████████████████████████████████████████████████████████████████████████████████▌                                       | 307/405 [02:34<00:46,  2.12it/s]"
     ]
    },
    {
     "name": "stdout",
     "output_type": "stream",
     "text": [
      "torch.Size([1, 1, 512])\n"
     ]
    },
    {
     "name": "stderr",
     "output_type": "stream",
     "text": [
      "\r",
      " 76%|███████████████████████████████████████████████████████████████████████████████████████████████████████████████████████████▉                                       | 308/405 [02:34<00:42,  2.30it/s]"
     ]
    },
    {
     "name": "stdout",
     "output_type": "stream",
     "text": [
      "torch.Size([1, 1, 512])\n"
     ]
    },
    {
     "name": "stderr",
     "output_type": "stream",
     "text": [
      "\r",
      " 76%|████████████████████████████████████████████████████████████████████████████████████████████████████████████████████████████▎                                      | 309/405 [02:34<00:37,  2.55it/s]"
     ]
    },
    {
     "name": "stdout",
     "output_type": "stream",
     "text": [
      "torch.Size([1, 1, 512])\n"
     ]
    },
    {
     "name": "stderr",
     "output_type": "stream",
     "text": [
      "\r",
      " 77%|████████████████████████████████████████████████████████████████████████████████████████████████████████████████████████████▊                                      | 310/405 [02:35<00:40,  2.36it/s]"
     ]
    },
    {
     "name": "stdout",
     "output_type": "stream",
     "text": [
      "torch.Size([1, 1, 512])\n"
     ]
    },
    {
     "name": "stderr",
     "output_type": "stream",
     "text": [
      "\r",
      " 77%|█████████████████████████████████████████████████████████████████████████████████████████████████████████████████████████████▏                                     | 311/405 [02:35<00:42,  2.20it/s]"
     ]
    },
    {
     "name": "stdout",
     "output_type": "stream",
     "text": [
      "torch.Size([1, 1, 512])\n"
     ]
    },
    {
     "name": "stderr",
     "output_type": "stream",
     "text": [
      "\r",
      " 77%|█████████████████████████████████████████████████████████████████████████████████████████████████████████████████████████████▌                                     | 312/405 [02:36<00:38,  2.45it/s]"
     ]
    },
    {
     "name": "stdout",
     "output_type": "stream",
     "text": [
      "torch.Size([1, 1, 512])\n"
     ]
    },
    {
     "name": "stderr",
     "output_type": "stream",
     "text": [
      "\r",
      " 77%|█████████████████████████████████████████████████████████████████████████████████████████████████████████████████████████████▉                                     | 313/405 [02:36<00:42,  2.16it/s]"
     ]
    },
    {
     "name": "stdout",
     "output_type": "stream",
     "text": [
      "torch.Size([1, 1, 512])\n"
     ]
    },
    {
     "name": "stderr",
     "output_type": "stream",
     "text": [
      "\r",
      " 78%|██████████████████████████████████████████████████████████████████████████████████████████████████████████████████████████████▍                                    | 314/405 [02:37<00:45,  1.99it/s]"
     ]
    },
    {
     "name": "stdout",
     "output_type": "stream",
     "text": [
      "torch.Size([1, 1, 512])\n"
     ]
    },
    {
     "name": "stderr",
     "output_type": "stream",
     "text": [
      "\r",
      " 78%|██████████████████████████████████████████████████████████████████████████████████████████████████████████████████████████████▊                                    | 315/405 [02:37<00:46,  1.92it/s]"
     ]
    },
    {
     "name": "stdout",
     "output_type": "stream",
     "text": [
      "torch.Size([1, 1, 512])\n"
     ]
    },
    {
     "name": "stderr",
     "output_type": "stream",
     "text": [
      "\r",
      " 78%|███████████████████████████████████████████████████████████████████████████████████████████████████████████████████████████████▏                                   | 316/405 [02:38<00:45,  1.96it/s]"
     ]
    },
    {
     "name": "stdout",
     "output_type": "stream",
     "text": [
      "torch.Size([1, 1, 512])\n"
     ]
    },
    {
     "name": "stderr",
     "output_type": "stream",
     "text": [
      "\r",
      " 78%|███████████████████████████████████████████████████████████████████████████████████████████████████████████████████████████████▌                                   | 317/405 [02:38<00:46,  1.90it/s]"
     ]
    },
    {
     "name": "stdout",
     "output_type": "stream",
     "text": [
      "torch.Size([1, 1, 512])\n"
     ]
    },
    {
     "name": "stderr",
     "output_type": "stream",
     "text": [
      "\r",
      " 79%|███████████████████████████████████████████████████████████████████████████████████████████████████████████████████████████████▉                                   | 318/405 [02:39<00:47,  1.85it/s]"
     ]
    },
    {
     "name": "stdout",
     "output_type": "stream",
     "text": [
      "torch.Size([1, 1, 512])\n"
     ]
    },
    {
     "name": "stderr",
     "output_type": "stream",
     "text": [
      "\r",
      " 79%|████████████████████████████████████████████████████████████████████████████████████████████████████████████████████████████████▍                                  | 319/405 [02:39<00:45,  1.90it/s]"
     ]
    },
    {
     "name": "stdout",
     "output_type": "stream",
     "text": [
      "torch.Size([1, 1, 512])\n"
     ]
    },
    {
     "name": "stderr",
     "output_type": "stream",
     "text": [
      "\r",
      " 79%|████████████████████████████████████████████████████████████████████████████████████████████████████████████████████████████████▊                                  | 320/405 [02:40<00:42,  2.00it/s]"
     ]
    },
    {
     "name": "stdout",
     "output_type": "stream",
     "text": [
      "torch.Size([1, 1, 512])\n"
     ]
    },
    {
     "name": "stderr",
     "output_type": "stream",
     "text": [
      "\r",
      " 79%|█████████████████████████████████████████████████████████████████████████████████████████████████████████████████████████████████▏                                 | 321/405 [02:40<00:40,  2.07it/s]"
     ]
    },
    {
     "name": "stdout",
     "output_type": "stream",
     "text": [
      "torch.Size([1, 1, 512])\n"
     ]
    },
    {
     "name": "stderr",
     "output_type": "stream",
     "text": [
      "\r",
      " 80%|█████████████████████████████████████████████████████████████████████████████████████████████████████████████████████████████████▌                                 | 322/405 [02:41<00:39,  2.08it/s]"
     ]
    },
    {
     "name": "stdout",
     "output_type": "stream",
     "text": [
      "torch.Size([1, 1, 512])\n"
     ]
    },
    {
     "name": "stderr",
     "output_type": "stream",
     "text": [
      "\r",
      " 80%|█████████████████████████████████████████████████████████████████████████████████████████████████████████████████████████████████▉                                 | 323/405 [02:41<00:40,  2.01it/s]"
     ]
    },
    {
     "name": "stdout",
     "output_type": "stream",
     "text": [
      "torch.Size([1, 1, 512])\n"
     ]
    },
    {
     "name": "stderr",
     "output_type": "stream",
     "text": [
      "\r",
      " 80%|██████████████████████████████████████████████████████████████████████████████████████████████████████████████████████████████████▍                                | 324/405 [02:42<00:42,  1.93it/s]"
     ]
    },
    {
     "name": "stdout",
     "output_type": "stream",
     "text": [
      "torch.Size([1, 1, 512])\n"
     ]
    },
    {
     "name": "stderr",
     "output_type": "stream",
     "text": [
      "\r",
      " 80%|██████████████████████████████████████████████████████████████████████████████████████████████████████████████████████████████████▊                                | 325/405 [02:42<00:40,  2.00it/s]"
     ]
    },
    {
     "name": "stdout",
     "output_type": "stream",
     "text": [
      "torch.Size([1, 1, 512])\n"
     ]
    },
    {
     "name": "stderr",
     "output_type": "stream",
     "text": [
      "\r",
      " 80%|███████████████████████████████████████████████████████████████████████████████████████████████████████████████████████████████████▏                               | 326/405 [02:43<00:39,  1.98it/s]"
     ]
    },
    {
     "name": "stdout",
     "output_type": "stream",
     "text": [
      "torch.Size([1, 1, 512])\n"
     ]
    },
    {
     "name": "stderr",
     "output_type": "stream",
     "text": [
      "\r",
      " 81%|███████████████████████████████████████████████████████████████████████████████████████████████████████████████████████████████████▌                               | 327/405 [02:43<00:40,  1.93it/s]"
     ]
    },
    {
     "name": "stdout",
     "output_type": "stream",
     "text": [
      "torch.Size([1, 1, 512])\n"
     ]
    },
    {
     "name": "stderr",
     "output_type": "stream",
     "text": [
      "\r",
      " 81%|████████████████████████████████████████████████████████████████████████████████████████████████████████████████████████████████████                               | 328/405 [02:44<00:43,  1.77it/s]"
     ]
    },
    {
     "name": "stdout",
     "output_type": "stream",
     "text": [
      "torch.Size([1, 1, 512])\n"
     ]
    },
    {
     "name": "stderr",
     "output_type": "stream",
     "text": [
      "\r",
      " 81%|████████████████████████████████████████████████████████████████████████████████████████████████████████████████████████████████████▍                              | 329/405 [02:45<00:40,  1.88it/s]"
     ]
    },
    {
     "name": "stdout",
     "output_type": "stream",
     "text": [
      "torch.Size([1, 1, 512])\n"
     ]
    },
    {
     "name": "stderr",
     "output_type": "stream",
     "text": [
      "\r",
      " 81%|████████████████████████████████████████████████████████████████████████████████████████████████████████████████████████████████████▊                              | 330/405 [02:45<00:42,  1.79it/s]"
     ]
    },
    {
     "name": "stdout",
     "output_type": "stream",
     "text": [
      "torch.Size([1, 1, 512])\n"
     ]
    },
    {
     "name": "stderr",
     "output_type": "stream",
     "text": [
      "\r",
      " 82%|█████████████████████████████████████████████████████████████████████████████████████████████████████████████████████████████████████▏                             | 331/405 [02:46<00:40,  1.81it/s]"
     ]
    },
    {
     "name": "stdout",
     "output_type": "stream",
     "text": [
      "torch.Size([1, 1, 512])\n"
     ]
    },
    {
     "name": "stderr",
     "output_type": "stream",
     "text": [
      "\r",
      " 82%|█████████████████████████████████████████████████████████████████████████████████████████████████████████████████████████████████████▌                             | 332/405 [02:46<00:40,  1.79it/s]"
     ]
    },
    {
     "name": "stdout",
     "output_type": "stream",
     "text": [
      "torch.Size([1, 1, 512])\n"
     ]
    },
    {
     "name": "stderr",
     "output_type": "stream",
     "text": [
      "\r",
      " 82%|██████████████████████████████████████████████████████████████████████████████████████████████████████████████████████████████████████                             | 333/405 [02:47<00:38,  1.87it/s]"
     ]
    },
    {
     "name": "stdout",
     "output_type": "stream",
     "text": [
      "torch.Size([1, 1, 512])\n"
     ]
    },
    {
     "name": "stderr",
     "output_type": "stream",
     "text": [
      "\r",
      " 82%|██████████████████████████████████████████████████████████████████████████████████████████████████████████████████████████████████████▍                            | 334/405 [02:47<00:36,  1.96it/s]"
     ]
    },
    {
     "name": "stdout",
     "output_type": "stream",
     "text": [
      "torch.Size([1, 1, 512])\n"
     ]
    },
    {
     "name": "stderr",
     "output_type": "stream",
     "text": [
      "\r",
      " 83%|██████████████████████████████████████████████████████████████████████████████████████████████████████████████████████████████████████▊                            | 335/405 [02:48<00:33,  2.08it/s]"
     ]
    },
    {
     "name": "stdout",
     "output_type": "stream",
     "text": [
      "torch.Size([1, 1, 512])\n"
     ]
    },
    {
     "name": "stderr",
     "output_type": "stream",
     "text": [
      "\r",
      " 83%|███████████████████████████████████████████████████████████████████████████████████████████████████████████████████████████████████████▏                           | 336/405 [02:48<00:36,  1.91it/s]"
     ]
    },
    {
     "name": "stdout",
     "output_type": "stream",
     "text": [
      "torch.Size([1, 1, 512])\n"
     ]
    },
    {
     "name": "stderr",
     "output_type": "stream",
     "text": [
      "\r",
      " 83%|███████████████████████████████████████████████████████████████████████████████████████████████████████████████████████████████████████▋                           | 337/405 [02:49<00:35,  1.94it/s]"
     ]
    },
    {
     "name": "stdout",
     "output_type": "stream",
     "text": [
      "torch.Size([1, 1, 512])\n"
     ]
    },
    {
     "name": "stderr",
     "output_type": "stream",
     "text": [
      "\r",
      " 83%|████████████████████████████████████████████████████████████████████████████████████████████████████████████████████████████████████████                           | 338/405 [02:49<00:36,  1.83it/s]"
     ]
    },
    {
     "name": "stdout",
     "output_type": "stream",
     "text": [
      "torch.Size([1, 1, 512])\n"
     ]
    },
    {
     "name": "stderr",
     "output_type": "stream",
     "text": [
      "\r",
      " 84%|████████████████████████████████████████████████████████████████████████████████████████████████████████████████████████████████████████▍                          | 339/405 [02:50<00:35,  1.84it/s]"
     ]
    },
    {
     "name": "stdout",
     "output_type": "stream",
     "text": [
      "torch.Size([1, 1, 512])\n"
     ]
    },
    {
     "name": "stderr",
     "output_type": "stream",
     "text": [
      "\r",
      " 84%|████████████████████████████████████████████████████████████████████████████████████████████████████████████████████████████████████████▊                          | 340/405 [02:50<00:36,  1.80it/s]"
     ]
    },
    {
     "name": "stdout",
     "output_type": "stream",
     "text": [
      "torch.Size([1, 1, 512])\n"
     ]
    },
    {
     "name": "stderr",
     "output_type": "stream",
     "text": [
      "\r",
      " 84%|█████████████████████████████████████████████████████████████████████████████████████████████████████████████████████████████████████████▏                         | 341/405 [02:51<00:32,  1.96it/s]"
     ]
    },
    {
     "name": "stdout",
     "output_type": "stream",
     "text": [
      "torch.Size([1, 1, 512])\n"
     ]
    },
    {
     "name": "stderr",
     "output_type": "stream",
     "text": [
      "\r",
      " 84%|█████████████████████████████████████████████████████████████████████████████████████████████████████████████████████████████████████████▋                         | 342/405 [02:51<00:31,  2.00it/s]"
     ]
    },
    {
     "name": "stdout",
     "output_type": "stream",
     "text": [
      "torch.Size([1, 1, 512])\n"
     ]
    },
    {
     "name": "stderr",
     "output_type": "stream",
     "text": [
      "\r",
      " 85%|██████████████████████████████████████████████████████████████████████████████████████████████████████████████████████████████████████████                         | 343/405 [02:52<00:33,  1.85it/s]"
     ]
    },
    {
     "name": "stdout",
     "output_type": "stream",
     "text": [
      "torch.Size([1, 1, 512])\n"
     ]
    },
    {
     "name": "stderr",
     "output_type": "stream",
     "text": [
      "\r",
      " 85%|██████████████████████████████████████████████████████████████████████████████████████████████████████████████████████████████████████████▍                        | 344/405 [02:52<00:31,  1.93it/s]"
     ]
    },
    {
     "name": "stdout",
     "output_type": "stream",
     "text": [
      "torch.Size([1, 1, 512])\n"
     ]
    },
    {
     "name": "stderr",
     "output_type": "stream",
     "text": [
      "\r",
      " 85%|██████████████████████████████████████████████████████████████████████████████████████████████████████████████████████████████████████████▊                        | 345/405 [02:53<00:32,  1.85it/s]"
     ]
    },
    {
     "name": "stdout",
     "output_type": "stream",
     "text": [
      "torch.Size([1, 1, 512])\n"
     ]
    },
    {
     "name": "stderr",
     "output_type": "stream",
     "text": [
      "\r",
      " 85%|███████████████████████████████████████████████████████████████████████████████████████████████████████████████████████████████████████████▎                       | 346/405 [02:54<00:31,  1.85it/s]"
     ]
    },
    {
     "name": "stdout",
     "output_type": "stream",
     "text": [
      "torch.Size([1, 1, 512])\n"
     ]
    },
    {
     "name": "stderr",
     "output_type": "stream",
     "text": [
      "\r",
      " 86%|███████████████████████████████████████████████████████████████████████████████████████████████████████████████████████████████████████████▋                       | 347/405 [02:54<00:29,  1.96it/s]"
     ]
    },
    {
     "name": "stdout",
     "output_type": "stream",
     "text": [
      "torch.Size([1, 1, 512])\n"
     ]
    },
    {
     "name": "stderr",
     "output_type": "stream",
     "text": [
      "\r",
      " 86%|████████████████████████████████████████████████████████████████████████████████████████████████████████████████████████████████████████████                       | 348/405 [02:55<00:29,  1.96it/s]"
     ]
    },
    {
     "name": "stdout",
     "output_type": "stream",
     "text": [
      "torch.Size([1, 1, 512])\n"
     ]
    },
    {
     "name": "stderr",
     "output_type": "stream",
     "text": [
      "\r",
      " 86%|████████████████████████████████████████████████████████████████████████████████████████████████████████████████████████████████████████████▍                      | 349/405 [02:55<00:27,  2.07it/s]"
     ]
    },
    {
     "name": "stdout",
     "output_type": "stream",
     "text": [
      "torch.Size([1, 1, 512])\n"
     ]
    },
    {
     "name": "stderr",
     "output_type": "stream",
     "text": [
      "\r",
      " 86%|████████████████████████████████████████████████████████████████████████████████████████████████████████████████████████████████████████████▊                      | 350/405 [02:55<00:26,  2.06it/s]"
     ]
    },
    {
     "name": "stdout",
     "output_type": "stream",
     "text": [
      "torch.Size([1, 1, 512])\n"
     ]
    },
    {
     "name": "stderr",
     "output_type": "stream",
     "text": [
      "\r",
      " 87%|█████████████████████████████████████████████████████████████████████████████████████████████████████████████████████████████████████████████▎                     | 351/405 [02:56<00:27,  1.99it/s]"
     ]
    },
    {
     "name": "stdout",
     "output_type": "stream",
     "text": [
      "torch.Size([1, 1, 512])\n"
     ]
    },
    {
     "name": "stderr",
     "output_type": "stream",
     "text": [
      "\r",
      " 87%|█████████████████████████████████████████████████████████████████████████████████████████████████████████████████████████████████████████████▋                     | 352/405 [02:57<00:28,  1.88it/s]"
     ]
    },
    {
     "name": "stdout",
     "output_type": "stream",
     "text": [
      "torch.Size([1, 1, 512])\n"
     ]
    },
    {
     "name": "stderr",
     "output_type": "stream",
     "text": [
      "\r",
      " 87%|██████████████████████████████████████████████████████████████████████████████████████████████████████████████████████████████████████████████                     | 353/405 [02:57<00:27,  1.92it/s]"
     ]
    },
    {
     "name": "stdout",
     "output_type": "stream",
     "text": [
      "torch.Size([1, 1, 512])\n"
     ]
    },
    {
     "name": "stderr",
     "output_type": "stream",
     "text": [
      "\r",
      " 87%|██████████████████████████████████████████████████████████████████████████████████████████████████████████████████████████████████████████████▍                    | 354/405 [02:58<00:27,  1.82it/s]"
     ]
    },
    {
     "name": "stdout",
     "output_type": "stream",
     "text": [
      "torch.Size([1, 1, 512])\n"
     ]
    },
    {
     "name": "stderr",
     "output_type": "stream",
     "text": [
      "\r",
      " 88%|██████████████████████████████████████████████████████████████████████████████████████████████████████████████████████████████████████████████▉                    | 355/405 [02:58<00:27,  1.83it/s]"
     ]
    },
    {
     "name": "stdout",
     "output_type": "stream",
     "text": [
      "torch.Size([1, 1, 512])\n"
     ]
    },
    {
     "name": "stderr",
     "output_type": "stream",
     "text": [
      "\r",
      " 88%|███████████████████████████████████████████████████████████████████████████████████████████████████████████████████████████████████████████████▎                   | 356/405 [02:59<00:27,  1.79it/s]"
     ]
    },
    {
     "name": "stdout",
     "output_type": "stream",
     "text": [
      "torch.Size([1, 1, 512])\n"
     ]
    },
    {
     "name": "stderr",
     "output_type": "stream",
     "text": [
      "\r",
      " 88%|███████████████████████████████████████████████████████████████████████████████████████████████████████████████████████████████████████████████▋                   | 357/405 [02:59<00:24,  1.92it/s]"
     ]
    },
    {
     "name": "stdout",
     "output_type": "stream",
     "text": [
      "torch.Size([1, 1, 512])\n"
     ]
    },
    {
     "name": "stderr",
     "output_type": "stream",
     "text": [
      "\r",
      " 88%|████████████████████████████████████████████████████████████████████████████████████████████████████████████████████████████████████████████████                   | 358/405 [03:00<00:24,  1.91it/s]"
     ]
    },
    {
     "name": "stdout",
     "output_type": "stream",
     "text": [
      "torch.Size([1, 1, 512])\n"
     ]
    },
    {
     "name": "stderr",
     "output_type": "stream",
     "text": [
      "\r",
      " 89%|████████████████████████████████████████████████████████████████████████████████████████████████████████████████████████████████████████████████▍                  | 359/405 [03:00<00:23,  1.96it/s]"
     ]
    },
    {
     "name": "stdout",
     "output_type": "stream",
     "text": [
      "torch.Size([1, 1, 512])\n"
     ]
    },
    {
     "name": "stderr",
     "output_type": "stream",
     "text": [
      "\r",
      " 89%|████████████████████████████████████████████████████████████████████████████████████████████████████████████████████████████████████████████████▉                  | 360/405 [03:01<00:23,  1.89it/s]"
     ]
    },
    {
     "name": "stdout",
     "output_type": "stream",
     "text": [
      "torch.Size([1, 1, 512])\n"
     ]
    },
    {
     "name": "stderr",
     "output_type": "stream",
     "text": [
      "\r",
      " 89%|█████████████████████████████████████████████████████████████████████████████████████████████████████████████████████████████████████████████████▎                 | 361/405 [03:01<00:23,  1.89it/s]"
     ]
    },
    {
     "name": "stdout",
     "output_type": "stream",
     "text": [
      "torch.Size([1, 1, 512])\n"
     ]
    },
    {
     "name": "stderr",
     "output_type": "stream",
     "text": [
      "\r",
      " 89%|█████████████████████████████████████████████████████████████████████████████████████████████████████████████████████████████████████████████████▋                 | 362/405 [03:02<00:19,  2.16it/s]"
     ]
    },
    {
     "name": "stdout",
     "output_type": "stream",
     "text": [
      "torch.Size([1, 1, 512])\n"
     ]
    },
    {
     "name": "stderr",
     "output_type": "stream",
     "text": [
      "\r",
      " 90%|██████████████████████████████████████████████████████████████████████████████████████████████████████████████████████████████████████████████████                 | 363/405 [03:02<00:20,  2.09it/s]"
     ]
    },
    {
     "name": "stdout",
     "output_type": "stream",
     "text": [
      "torch.Size([1, 1, 512])\n"
     ]
    },
    {
     "name": "stderr",
     "output_type": "stream",
     "text": [
      "\r",
      " 90%|██████████████████████████████████████████████████████████████████████████████████████████████████████████████████████████████████████████████████▍                | 364/405 [03:03<00:18,  2.16it/s]"
     ]
    },
    {
     "name": "stdout",
     "output_type": "stream",
     "text": [
      "torch.Size([1, 1, 512])\n"
     ]
    },
    {
     "name": "stderr",
     "output_type": "stream",
     "text": [
      "\r",
      " 90%|██████████████████████████████████████████████████████████████████████████████████████████████████████████████████████████████████████████████████▉                | 365/405 [03:03<00:17,  2.33it/s]"
     ]
    },
    {
     "name": "stdout",
     "output_type": "stream",
     "text": [
      "torch.Size([1, 1, 512])\n"
     ]
    },
    {
     "name": "stderr",
     "output_type": "stream",
     "text": [
      "\r",
      " 90%|███████████████████████████████████████████████████████████████████████████████████████████████████████████████████████████████████████████████████▎               | 366/405 [03:03<00:17,  2.23it/s]"
     ]
    },
    {
     "name": "stdout",
     "output_type": "stream",
     "text": [
      "torch.Size([1, 1, 512])\n"
     ]
    },
    {
     "name": "stderr",
     "output_type": "stream",
     "text": [
      "\r",
      " 91%|███████████████████████████████████████████████████████████████████████████████████████████████████████████████████████████████████████████████████▋               | 367/405 [03:04<00:19,  1.98it/s]"
     ]
    },
    {
     "name": "stdout",
     "output_type": "stream",
     "text": [
      "torch.Size([1, 1, 512])\n"
     ]
    },
    {
     "name": "stderr",
     "output_type": "stream",
     "text": [
      "\r",
      " 91%|████████████████████████████████████████████████████████████████████████████████████████████████████████████████████████████████████████████████████               | 368/405 [03:05<00:18,  1.97it/s]"
     ]
    },
    {
     "name": "stdout",
     "output_type": "stream",
     "text": [
      "torch.Size([1, 1, 512])\n"
     ]
    },
    {
     "name": "stderr",
     "output_type": "stream",
     "text": [
      "\r",
      " 91%|████████████████████████████████████████████████████████████████████████████████████████████████████████████████████████████████████████████████████▌              | 369/405 [03:05<00:19,  1.87it/s]"
     ]
    },
    {
     "name": "stdout",
     "output_type": "stream",
     "text": [
      "torch.Size([1, 1, 512])\n"
     ]
    },
    {
     "name": "stderr",
     "output_type": "stream",
     "text": [
      "\r",
      " 91%|████████████████████████████████████████████████████████████████████████████████████████████████████████████████████████████████████████████████████▉              | 370/405 [03:06<00:17,  1.97it/s]"
     ]
    },
    {
     "name": "stdout",
     "output_type": "stream",
     "text": [
      "torch.Size([1, 1, 512])\n"
     ]
    },
    {
     "name": "stderr",
     "output_type": "stream",
     "text": [
      "\r",
      " 92%|█████████████████████████████████████████████████████████████████████████████████████████████████████████████████████████████████████████████████████▎             | 371/405 [03:06<00:17,  1.94it/s]"
     ]
    },
    {
     "name": "stdout",
     "output_type": "stream",
     "text": [
      "torch.Size([1, 1, 512])\n"
     ]
    },
    {
     "name": "stderr",
     "output_type": "stream",
     "text": [
      "\r",
      " 92%|█████████████████████████████████████████████████████████████████████████████████████████████████████████████████████████████████████████████████████▋             | 372/405 [03:07<00:16,  2.00it/s]"
     ]
    },
    {
     "name": "stdout",
     "output_type": "stream",
     "text": [
      "torch.Size([1, 1, 512])\n"
     ]
    },
    {
     "name": "stderr",
     "output_type": "stream",
     "text": [
      "\r",
      " 92%|██████████████████████████████████████████████████████████████████████████████████████████████████████████████████████████████████████████████████████             | 373/405 [03:07<00:16,  1.92it/s]"
     ]
    },
    {
     "name": "stdout",
     "output_type": "stream",
     "text": [
      "torch.Size([1, 1, 512])\n"
     ]
    },
    {
     "name": "stderr",
     "output_type": "stream",
     "text": [
      "\r",
      " 92%|██████████████████████████████████████████████████████████████████████████████████████████████████████████████████████████████████████████████████████▌            | 374/405 [03:08<00:16,  1.87it/s]"
     ]
    },
    {
     "name": "stdout",
     "output_type": "stream",
     "text": [
      "torch.Size([1, 1, 512])\n"
     ]
    },
    {
     "name": "stderr",
     "output_type": "stream",
     "text": [
      "\r",
      " 93%|██████████████████████████████████████████████████████████████████████████████████████████████████████████████████████████████████████████████████████▉            | 375/405 [03:08<00:16,  1.86it/s]"
     ]
    },
    {
     "name": "stdout",
     "output_type": "stream",
     "text": [
      "torch.Size([1, 1, 512])\n"
     ]
    },
    {
     "name": "stderr",
     "output_type": "stream",
     "text": [
      "\r",
      " 93%|███████████████████████████████████████████████████████████████████████████████████████████████████████████████████████████████████████████████████████▎           | 376/405 [03:09<00:15,  1.83it/s]"
     ]
    },
    {
     "name": "stdout",
     "output_type": "stream",
     "text": [
      "torch.Size([1, 1, 512])\n"
     ]
    },
    {
     "name": "stderr",
     "output_type": "stream",
     "text": [
      "\r",
      " 93%|███████████████████████████████████████████████████████████████████████████████████████████████████████████████████████████████████████████████████████▋           | 377/405 [03:09<00:14,  1.94it/s]"
     ]
    },
    {
     "name": "stdout",
     "output_type": "stream",
     "text": [
      "torch.Size([1, 1, 512])\n"
     ]
    },
    {
     "name": "stderr",
     "output_type": "stream",
     "text": [
      "\r",
      " 93%|████████████████████████████████████████████████████████████████████████████████████████████████████████████████████████████████████████████████████████▏          | 378/405 [03:10<00:14,  1.89it/s]"
     ]
    },
    {
     "name": "stdout",
     "output_type": "stream",
     "text": [
      "torch.Size([1, 1, 512])\n"
     ]
    },
    {
     "name": "stderr",
     "output_type": "stream",
     "text": [
      "\r",
      " 94%|████████████████████████████████████████████████████████████████████████████████████████████████████████████████████████████████████████████████████████▌          | 379/405 [03:10<00:14,  1.84it/s]"
     ]
    },
    {
     "name": "stdout",
     "output_type": "stream",
     "text": [
      "torch.Size([1, 1, 512])\n"
     ]
    },
    {
     "name": "stderr",
     "output_type": "stream",
     "text": [
      "\r",
      " 94%|████████████████████████████████████████████████████████████████████████████████████████████████████████████████████████████████████████████████████████▉          | 380/405 [03:11<00:13,  1.91it/s]"
     ]
    },
    {
     "name": "stdout",
     "output_type": "stream",
     "text": [
      "torch.Size([1, 1, 512])\n"
     ]
    },
    {
     "name": "stderr",
     "output_type": "stream",
     "text": [
      "\r",
      " 94%|█████████████████████████████████████████████████████████████████████████████████████████████████████████████████████████████████████████████████████████▎         | 381/405 [03:11<00:12,  1.94it/s]"
     ]
    },
    {
     "name": "stdout",
     "output_type": "stream",
     "text": [
      "torch.Size([1, 1, 512])\n"
     ]
    },
    {
     "name": "stderr",
     "output_type": "stream",
     "text": [
      "\r",
      " 94%|█████████████████████████████████████████████████████████████████████████████████████████████████████████████████████████████████████████████████████████▋         | 382/405 [03:12<00:11,  2.09it/s]"
     ]
    },
    {
     "name": "stdout",
     "output_type": "stream",
     "text": [
      "torch.Size([1, 1, 512])\n"
     ]
    },
    {
     "name": "stderr",
     "output_type": "stream",
     "text": [
      "\r",
      " 95%|██████████████████████████████████████████████████████████████████████████████████████████████████████████████████████████████████████████████████████████▏        | 383/405 [03:12<00:10,  2.14it/s]"
     ]
    },
    {
     "name": "stdout",
     "output_type": "stream",
     "text": [
      "torch.Size([1, 1, 512])\n"
     ]
    },
    {
     "name": "stderr",
     "output_type": "stream",
     "text": [
      "\r",
      " 95%|██████████████████████████████████████████████████████████████████████████████████████████████████████████████████████████████████████████████████████████▌        | 384/405 [03:13<00:10,  2.03it/s]"
     ]
    },
    {
     "name": "stdout",
     "output_type": "stream",
     "text": [
      "torch.Size([1, 1, 512])\n"
     ]
    },
    {
     "name": "stderr",
     "output_type": "stream",
     "text": [
      "\r",
      " 95%|██████████████████████████████████████████████████████████████████████████████████████████████████████████████████████████████████████████████████████████▉        | 385/405 [03:13<00:10,  1.91it/s]"
     ]
    },
    {
     "name": "stdout",
     "output_type": "stream",
     "text": [
      "torch.Size([1, 1, 512])\n"
     ]
    },
    {
     "name": "stderr",
     "output_type": "stream",
     "text": [
      "\r",
      " 95%|███████████████████████████████████████████████████████████████████████████████████████████████████████████████████████████████████████████████████████████▎       | 386/405 [03:14<00:10,  1.83it/s]"
     ]
    },
    {
     "name": "stdout",
     "output_type": "stream",
     "text": [
      "torch.Size([1, 1, 512])\n"
     ]
    },
    {
     "name": "stderr",
     "output_type": "stream",
     "text": [
      "\r",
      " 96%|███████████████████████████████████████████████████████████████████████████████████████████████████████████████████████████████████████████████████████████▊       | 387/405 [03:15<00:09,  1.82it/s]"
     ]
    },
    {
     "name": "stdout",
     "output_type": "stream",
     "text": [
      "torch.Size([1, 1, 512])\n"
     ]
    },
    {
     "name": "stderr",
     "output_type": "stream",
     "text": [
      "\r",
      " 96%|████████████████████████████████████████████████████████████████████████████████████████████████████████████████████████████████████████████████████████████▏      | 388/405 [03:15<00:09,  1.86it/s]"
     ]
    },
    {
     "name": "stdout",
     "output_type": "stream",
     "text": [
      "torch.Size([1, 1, 512])\n"
     ]
    },
    {
     "name": "stderr",
     "output_type": "stream",
     "text": [
      "\r",
      " 96%|████████████████████████████████████████████████████████████████████████████████████████████████████████████████████████████████████████████████████████████▌      | 389/405 [03:16<00:08,  1.87it/s]"
     ]
    },
    {
     "name": "stdout",
     "output_type": "stream",
     "text": [
      "torch.Size([1, 1, 512])\n"
     ]
    },
    {
     "name": "stderr",
     "output_type": "stream",
     "text": [
      "\r",
      " 96%|████████████████████████████████████████████████████████████████████████████████████████████████████████████████████████████████████████████████████████████▉      | 390/405 [03:16<00:07,  1.98it/s]"
     ]
    },
    {
     "name": "stdout",
     "output_type": "stream",
     "text": [
      "torch.Size([1, 1, 512])\n"
     ]
    },
    {
     "name": "stderr",
     "output_type": "stream",
     "text": [
      "\r",
      " 97%|█████████████████████████████████████████████████████████████████████████████████████████████████████████████████████████████████████████████████████████████▎     | 391/405 [03:17<00:07,  1.96it/s]"
     ]
    },
    {
     "name": "stdout",
     "output_type": "stream",
     "text": [
      "torch.Size([1, 1, 512])\n"
     ]
    },
    {
     "name": "stderr",
     "output_type": "stream",
     "text": [
      "\r",
      " 97%|█████████████████████████████████████████████████████████████████████████████████████████████████████████████████████████████████████████████████████████████▊     | 392/405 [03:17<00:06,  1.98it/s]"
     ]
    },
    {
     "name": "stdout",
     "output_type": "stream",
     "text": [
      "torch.Size([1, 1, 512])\n"
     ]
    },
    {
     "name": "stderr",
     "output_type": "stream",
     "text": [
      "\r",
      " 97%|██████████████████████████████████████████████████████████████████████████████████████████████████████████████████████████████████████████████████████████████▏    | 393/405 [03:18<00:06,  1.93it/s]"
     ]
    },
    {
     "name": "stdout",
     "output_type": "stream",
     "text": [
      "torch.Size([1, 1, 512])\n"
     ]
    },
    {
     "name": "stderr",
     "output_type": "stream",
     "text": [
      "\r",
      " 97%|██████████████████████████████████████████████████████████████████████████████████████████████████████████████████████████████████████████████████████████████▌    | 394/405 [03:18<00:05,  1.95it/s]"
     ]
    },
    {
     "name": "stdout",
     "output_type": "stream",
     "text": [
      "torch.Size([1, 1, 512])\n"
     ]
    },
    {
     "name": "stderr",
     "output_type": "stream",
     "text": [
      "\r",
      " 98%|██████████████████████████████████████████████████████████████████████████████████████████████████████████████████████████████████████████████████████████████▉    | 395/405 [03:19<00:04,  2.02it/s]"
     ]
    },
    {
     "name": "stdout",
     "output_type": "stream",
     "text": [
      "torch.Size([1, 1, 512])\n"
     ]
    },
    {
     "name": "stderr",
     "output_type": "stream",
     "text": [
      "\r",
      " 98%|███████████████████████████████████████████████████████████████████████████████████████████████████████████████████████████████████████████████████████████████▍   | 396/405 [03:19<00:04,  1.95it/s]"
     ]
    },
    {
     "name": "stdout",
     "output_type": "stream",
     "text": [
      "torch.Size([1, 1, 512])\n"
     ]
    },
    {
     "name": "stderr",
     "output_type": "stream",
     "text": [
      "\r",
      " 98%|███████████████████████████████████████████████████████████████████████████████████████████████████████████████████████████████████████████████████████████████▊   | 397/405 [03:19<00:03,  2.24it/s]"
     ]
    },
    {
     "name": "stdout",
     "output_type": "stream",
     "text": [
      "torch.Size([1, 1, 512])\n"
     ]
    },
    {
     "name": "stderr",
     "output_type": "stream",
     "text": [
      "\r",
      " 98%|████████████████████████████████████████████████████████████████████████████████████████████████████████████████████████████████████████████████████████████████▏  | 398/405 [03:20<00:03,  2.12it/s]"
     ]
    },
    {
     "name": "stdout",
     "output_type": "stream",
     "text": [
      "torch.Size([1, 1, 512])\n"
     ]
    },
    {
     "name": "stderr",
     "output_type": "stream",
     "text": [
      "\r",
      " 99%|████████████████████████████████████████████████████████████████████████████████████████████████████████████████████████████████████████████████████████████████▌  | 399/405 [03:20<00:02,  2.06it/s]"
     ]
    },
    {
     "name": "stdout",
     "output_type": "stream",
     "text": [
      "torch.Size([1, 1, 512])\n"
     ]
    },
    {
     "name": "stderr",
     "output_type": "stream",
     "text": [
      "\r",
      " 99%|████████████████████████████████████████████████████████████████████████████████████████████████████████████████████████████████████████████████████████████████▉  | 400/405 [03:21<00:02,  1.89it/s]"
     ]
    },
    {
     "name": "stdout",
     "output_type": "stream",
     "text": [
      "torch.Size([1, 1, 512])\n"
     ]
    },
    {
     "name": "stderr",
     "output_type": "stream",
     "text": [
      "\r",
      " 99%|█████████████████████████████████████████████████████████████████████████████████████████████████████████████████████████████████████████████████████████████████▍ | 401/405 [03:22<00:02,  1.91it/s]"
     ]
    },
    {
     "name": "stdout",
     "output_type": "stream",
     "text": [
      "torch.Size([1, 1, 512])\n"
     ]
    },
    {
     "name": "stderr",
     "output_type": "stream",
     "text": [
      "\r",
      " 99%|█████████████████████████████████████████████████████████████████████████████████████████████████████████████████████████████████████████████████████████████████▊ | 402/405 [03:22<00:01,  1.97it/s]"
     ]
    },
    {
     "name": "stdout",
     "output_type": "stream",
     "text": [
      "torch.Size([1, 1, 512])\n"
     ]
    },
    {
     "name": "stderr",
     "output_type": "stream",
     "text": [
      "\r",
      "100%|██████████████████████████████████████████████████████████████████████████████████████████████████████████████████████████████████████████████████████████████████▏| 403/405 [03:22<00:00,  2.19it/s]"
     ]
    },
    {
     "name": "stdout",
     "output_type": "stream",
     "text": [
      "torch.Size([1, 1, 512])\n"
     ]
    },
    {
     "name": "stderr",
     "output_type": "stream",
     "text": [
      "\r",
      "100%|██████████████████████████████████████████████████████████████████████████████████████████████████████████████████████████████████████████████████████████████████▌| 404/405 [03:23<00:00,  2.16it/s]"
     ]
    },
    {
     "name": "stdout",
     "output_type": "stream",
     "text": [
      "torch.Size([1, 1, 512])\n"
     ]
    },
    {
     "name": "stderr",
     "output_type": "stream",
     "text": [
      "100%|███████████████████████████████████████████████████████████████████████████████████████████████████████████████████████████████████████████████████████████████████| 405/405 [03:23<00:00,  1.99it/s]\n"
     ]
    }
   ],
   "source": [
    "vc_speaker_voice();"
   ]
  },
  {
   "cell_type": "code",
   "execution_count": null,
   "metadata": {},
   "outputs": [],
   "source": [
    "# draft"
   ]
  },
  {
   "cell_type": "code",
   "execution_count": 7,
   "metadata": {},
   "outputs": [
    {
     "data": {
      "text/html": [
       "\n",
       "                <audio  controls=\"controls\" >\n",
       "                    <source src=\"data:audio/x-wav;base64,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\" type=\"audio/x-wav\" />\n",
       "                    Your browser does not support the audio element.\n",
       "                </audio>\n",
       "              "
      ],
      "text/plain": [
       "<IPython.lib.display.Audio object>"
      ]
     },
     "execution_count": 7,
     "metadata": {},
     "output_type": "execute_result"
    }
   ],
   "source": [
    "name = 'data/ground_truth_speaker_voice_16k_v2/sim_NM_amp_nn_pd04_h15_10.wav'\n",
    "base = os.path.basename(name)\n",
    "dirname = os.path.dirname(name)\n",
    "Audio(name)"
   ]
  },
  {
   "cell_type": "code",
   "execution_count": 8,
   "metadata": {},
   "outputs": [
    {
     "data": {
      "text/html": [
       "\n",
       "                <audio  controls=\"controls\" >\n",
       "                    <source src=\"data:audio/x-wav;base64,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\" type=\"audio/x-wav\" />\n",
       "                    Your browser does not support the audio element.\n",
       "                </audio>\n",
       "              "
      ],
      "text/plain": [
       "<IPython.lib.display.Audio object>"
      ]
     },
     "execution_count": 8,
     "metadata": {},
     "output_type": "execute_result"
    }
   ],
   "source": [
    "Audio(f'data/no-noise_16k/{base}')"
   ]
  }
 ],
 "metadata": {
  "kernelspec": {
   "display_name": "speechbrain",
   "language": "python",
   "name": "speechbrain"
  },
  "language_info": {
   "codemirror_mode": {
    "name": "ipython",
    "version": 3
   },
   "file_extension": ".py",
   "mimetype": "text/x-python",
   "name": "python",
   "nbconvert_exporter": "python",
   "pygments_lexer": "ipython3",
   "version": "3.7.16"
  }
 },
 "nbformat": 4,
 "nbformat_minor": 2
}
